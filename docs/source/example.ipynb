{
 "cells": [
  {
   "cell_type": "markdown",
   "id": "skilled-lotus",
   "metadata": {
    "execution": {
     "iopub.execute_input": "2021-08-20T23:30:04.248150Z",
     "iopub.status.busy": "2021-08-20T23:30:04.247965Z",
     "iopub.status.idle": "2021-08-20T23:30:04.250495Z",
     "shell.execute_reply": "2021-08-20T23:30:04.250071Z",
     "shell.execute_reply.started": "2021-08-20T23:30:04.248136Z"
    }
   },
   "source": [
    "# Example\n",
    "\n",
    "This is an end-to-end example of learning from a real-world dataset. The dataset is from a study conducted at George Mason University during the summer of 2021 on patients who were tested for COVID-19. There are 4 types of variables in this dataset.\n",
    "\n",
    "- Demographics\n",
    "- Indicators to ignore categories of symptoms\n",
    "- Test result\n",
    "- Symptoms"
   ]
  },
  {
   "cell_type": "markdown",
   "id": "authorized-waterproof",
   "metadata": {},
   "source": [
    "## Step 1. Learn the structure"
   ]
  },
  {
   "cell_type": "code",
   "execution_count": null,
   "id": "logical-nylon",
   "metadata": {},
   "outputs": [],
   "source": [
    "from lassobbn.learn import learn_structure\n",
    "\n",
    "data_path = '../../data/gmu-covid.csv'\n",
    "meta_path = '../../data/gmu-covid.json'\n",
    "\n",
    "parents = learn_structure(data_path, meta_path)"
   ]
  },
  {
   "cell_type": "markdown",
   "id": "unauthorized-afternoon",
   "metadata": {},
   "source": [
    "## Step 2. Learn the parameters"
   ]
  },
  {
   "cell_type": "code",
   "execution_count": null,
   "id": "cellular-glenn",
   "metadata": {},
   "outputs": [],
   "source": [
    "from lassobbn.learn import learn_parameters\n",
    "\n",
    "d, g, p = learn_parameters(data_path, parents)"
   ]
  },
  {
   "cell_type": "markdown",
   "id": "hungarian-greeting",
   "metadata": {},
   "source": [
    "## Step 3. Get the BBN"
   ]
  },
  {
   "cell_type": "code",
   "execution_count": null,
   "id": "referenced-learning",
   "metadata": {},
   "outputs": [],
   "source": [
    "from lassobbn.learn import to_bbn\n",
    "\n",
    "bbn = to_bbn(d, g, p)"
   ]
  },
  {
   "cell_type": "markdown",
   "id": "pressed-grace",
   "metadata": {},
   "source": [
    "## Step 4. Get the Join Tree\n",
    "\n",
    "The underlying inference engine is [py-bbn](https://py-bbn.readthedocs.io)."
   ]
  },
  {
   "cell_type": "code",
   "execution_count": null,
   "id": "specified-bankruptcy",
   "metadata": {},
   "outputs": [],
   "source": [
    "from lassobbn.learn import to_join_tree\n",
    "\n",
    "jt = to_join_tree(bbn)"
   ]
  },
  {
   "cell_type": "markdown",
   "id": "genuine-phone",
   "metadata": {},
   "source": [
    "## Step 5. Do inference\n",
    "\n",
    "You can create a join tree from a BBN and query for the marginals."
   ]
  },
  {
   "cell_type": "code",
   "execution_count": null,
   "id": "permanent-interaction",
   "metadata": {},
   "outputs": [],
   "source": [
    "from lassobbn.learn import posteriors_to_df\n",
    "\n",
    "mdf = posteriors_to_df(jt)\n",
    "mdf"
   ]
  }
 ],
 "metadata": {
  "kernelspec": {
   "display_name": "Python 3",
   "language": "python",
   "name": "python3"
  },
  "language_info": {
   "codemirror_mode": {
    "name": "ipython",
    "version": 3
   },
   "file_extension": ".py",
   "mimetype": "text/x-python",
   "name": "python",
   "nbconvert_exporter": "python",
   "pygments_lexer": "ipython3",
   "version": "3.8.5"
  },
  "widgets": {
   "application/vnd.jupyter.widget-state+json": {
    "state": {},
    "version_major": 2,
    "version_minor": 0
   }
  }
 },
 "nbformat": 4,
 "nbformat_minor": 5
}
