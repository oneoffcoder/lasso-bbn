{
 "cells": [
  {
   "cell_type": "markdown",
   "id": "greek-norfolk",
   "metadata": {},
   "source": [
    "# LASSO-BBN\n",
    "\n",
    "Notes\n",
    "\n",
    "- dm is response variable\n",
    "\n",
    "Drop these variables\n",
    "- Vlr \n",
    "- bs15\n",
    "- TestTrain\n",
    "- id\n",
    "\n",
    "Algorithm\n",
    "\n",
    "- dm ~ bs01lr + bs02lr + ... + bs19lr\n",
    "- bs01lr ~ bs02lr + ... + bs19lr\n",
    "- bs07lr ~ bs09lr + .... + bs11lr\n",
    "\n",
    "What to do about missing values?\n",
    "\n",
    "- use 1.0 since these are likelihood ratios\n",
    "- use 0.0 because that might be the right thing to do; but scale data to [0, 1] range before regression\n",
    "- imputation? \n",
    "\n",
    "TODO\n",
    "\n",
    "- no need to do robust yet\n",
    "- recursive LASSO\n",
    "- induce BBN structure\n",
    "- create parameters\n",
    "- export graph to show mediations"
   ]
  },
  {
   "cell_type": "code",
   "execution_count": 1,
   "id": "equal-lunch",
   "metadata": {
    "execution": {
     "iopub.execute_input": "2022-04-20T03:46:06.870976Z",
     "iopub.status.busy": "2022-04-20T03:46:06.870780Z",
     "iopub.status.idle": "2022-04-20T03:46:29.121086Z",
     "shell.execute_reply": "2022-04-20T03:46:29.120698Z",
     "shell.execute_reply.started": "2022-04-20T03:46:06.870942Z"
    }
   },
   "outputs": [
    {
     "data": {
      "text/plain": [
       "(2063013, 23)"
      ]
     },
     "execution_count": 1,
     "metadata": {},
     "output_type": "execute_result"
    }
   ],
   "source": [
    "import pandas as pd\n",
    "import numpy as np\n",
    "\n",
    "raw_df = pd.read_csv('s3://jeeforce-artifacts/alemi/diabetes/BodySystemTrainTable.csv', low_memory=False)\n",
    "raw_df.shape"
   ]
  },
  {
   "cell_type": "code",
   "execution_count": 2,
   "id": "listed-comment",
   "metadata": {
    "execution": {
     "iopub.execute_input": "2022-04-20T03:46:29.121789Z",
     "iopub.status.busy": "2022-04-20T03:46:29.121680Z",
     "iopub.status.idle": "2022-04-20T03:46:29.201829Z",
     "shell.execute_reply": "2022-04-20T03:46:29.201432Z",
     "shell.execute_reply.started": "2022-04-20T03:46:29.121775Z"
    }
   },
   "outputs": [
    {
     "data": {
      "text/plain": [
       "(2063013, 19)"
      ]
     },
     "execution_count": 2,
     "metadata": {},
     "output_type": "execute_result"
    }
   ],
   "source": [
    "df = raw_df.drop(columns=['id', 'Vlr', 'bs15lr', 'TestTrain']) \\\n",
    "    .rename(columns={\n",
    "        'bs1lr': 'bs01lr',\n",
    "        'bs2lr': 'bs02lr',\n",
    "        'bs3lr': 'bs03lr',\n",
    "        'bs4lr': 'bs04lr',\n",
    "        'bs5lr': 'bs05lr',\n",
    "        'bs6lr': 'bs06lr',\n",
    "        'bs7lr': 'bs07lr',\n",
    "        'bs8lr': 'bs08lr',\n",
    "        'bs9lr': 'bs09lr'\n",
    "    })\n",
    "df.shape"
   ]
  },
  {
   "cell_type": "code",
   "execution_count": 38,
   "id": "separated-harris",
   "metadata": {
    "execution": {
     "iopub.execute_input": "2022-04-20T04:14:06.119007Z",
     "iopub.status.busy": "2022-04-20T04:14:06.118368Z",
     "iopub.status.idle": "2022-04-20T04:14:06.188035Z",
     "shell.execute_reply": "2022-04-20T04:14:06.187607Z",
     "shell.execute_reply.started": "2022-04-20T04:14:06.118933Z"
    }
   },
   "outputs": [
    {
     "data": {
      "text/plain": [
       "dm              0\n",
       "bs01lr    1728725\n",
       "bs02lr    1584907\n",
       "bs03lr     781920\n",
       "bs04lr    1798421\n",
       "bs05lr     988523\n",
       "bs06lr     899715\n",
       "bs07lr     795886\n",
       "bs08lr    1375571\n",
       "bs09lr    1250320\n",
       "bs10lr    1422029\n",
       "bs11lr    2060940\n",
       "bs12lr    1558015\n",
       "bs13lr     854697\n",
       "bs14lr    2013741\n",
       "bs16lr     765461\n",
       "bs17lr    1653390\n",
       "bs18lr    1901535\n",
       "bs19lr     118312\n",
       "dtype: int64"
      ]
     },
     "execution_count": 38,
     "metadata": {},
     "output_type": "execute_result"
    }
   ],
   "source": [
    "df.isna().sum()"
   ]
  },
  {
   "cell_type": "code",
   "execution_count": 39,
   "id": "color-bailey",
   "metadata": {
    "execution": {
     "iopub.execute_input": "2022-04-20T04:15:20.631543Z",
     "iopub.status.busy": "2022-04-20T04:15:20.631394Z",
     "iopub.status.idle": "2022-04-20T04:15:20.635209Z",
     "shell.execute_reply": "2022-04-20T04:15:20.634884Z",
     "shell.execute_reply.started": "2022-04-20T04:15:20.631527Z"
    }
   },
   "outputs": [
    {
     "data": {
      "text/plain": [
       "dm        1.000000\n",
       "bs01lr         NaN\n",
       "bs02lr         NaN\n",
       "bs03lr    1.645058\n",
       "bs04lr         NaN\n",
       "bs05lr    1.195137\n",
       "bs06lr         NaN\n",
       "bs07lr    1.213059\n",
       "bs08lr         NaN\n",
       "bs09lr    1.960372\n",
       "bs10lr         NaN\n",
       "bs11lr         NaN\n",
       "bs12lr         NaN\n",
       "bs13lr         NaN\n",
       "bs14lr         NaN\n",
       "bs16lr    1.520102\n",
       "bs17lr         NaN\n",
       "bs18lr         NaN\n",
       "bs19lr         NaN\n",
       "Name: 0, dtype: float64"
      ]
     },
     "execution_count": 39,
     "metadata": {},
     "output_type": "execute_result"
    }
   ],
   "source": [
    "df.iloc[0]"
   ]
  },
  {
   "cell_type": "code",
   "execution_count": 26,
   "id": "removed-vatican",
   "metadata": {
    "execution": {
     "iopub.execute_input": "2022-04-20T04:02:15.883336Z",
     "iopub.status.busy": "2022-04-20T04:02:15.883168Z",
     "iopub.status.idle": "2022-04-20T04:02:16.000505Z",
     "shell.execute_reply": "2022-04-20T04:02:16.000149Z",
     "shell.execute_reply.started": "2022-04-20T04:02:15.883308Z"
    }
   },
   "outputs": [
    {
     "data": {
      "text/html": [
       "<div>\n",
       "<style scoped>\n",
       "    .dataframe tbody tr th:only-of-type {\n",
       "        vertical-align: middle;\n",
       "    }\n",
       "\n",
       "    .dataframe tbody tr th {\n",
       "        vertical-align: top;\n",
       "    }\n",
       "\n",
       "    .dataframe thead th {\n",
       "        text-align: right;\n",
       "    }\n",
       "</style>\n",
       "<table border=\"1\" class=\"dataframe\">\n",
       "  <thead>\n",
       "    <tr style=\"text-align: right;\">\n",
       "      <th></th>\n",
       "      <th>name</th>\n",
       "      <th>code</th>\n",
       "      <th>coefficient</th>\n",
       "    </tr>\n",
       "  </thead>\n",
       "  <tbody>\n",
       "    <tr>\n",
       "      <th>0</th>\n",
       "      <td>Infectious_and_parasitic_diseases</td>\n",
       "      <td>bs01lr</td>\n",
       "      <td>0.000116</td>\n",
       "    </tr>\n",
       "    <tr>\n",
       "      <th>1</th>\n",
       "      <td>Diseases_of_the_circulatory_system</td>\n",
       "      <td>bs07lr</td>\n",
       "      <td>0.000112</td>\n",
       "    </tr>\n",
       "    <tr>\n",
       "      <th>2</th>\n",
       "      <td>Endocrine,nutritional_and_metabolic diseases_a...</td>\n",
       "      <td>bs03lr</td>\n",
       "      <td>0.000112</td>\n",
       "    </tr>\n",
       "    <tr>\n",
       "      <th>3</th>\n",
       "      <td>Mental_disorders</td>\n",
       "      <td>bs05lr</td>\n",
       "      <td>0.000112</td>\n",
       "    </tr>\n",
       "    <tr>\n",
       "      <th>4</th>\n",
       "      <td>Diseases_of_the_digestive_system</td>\n",
       "      <td>bs09lr</td>\n",
       "      <td>0.000111</td>\n",
       "    </tr>\n",
       "    <tr>\n",
       "      <th>5</th>\n",
       "      <td>Diseases_of_the_respiratory_system</td>\n",
       "      <td>bs08lr</td>\n",
       "      <td>0.000110</td>\n",
       "    </tr>\n",
       "    <tr>\n",
       "      <th>6</th>\n",
       "      <td>Neoplasms</td>\n",
       "      <td>bs02lr</td>\n",
       "      <td>0.000110</td>\n",
       "    </tr>\n",
       "    <tr>\n",
       "      <th>7</th>\n",
       "      <td>Diseases_of_the_musculoskeletal_system_and_con...</td>\n",
       "      <td>bs13lr</td>\n",
       "      <td>0.000110</td>\n",
       "    </tr>\n",
       "    <tr>\n",
       "      <th>8</th>\n",
       "      <td>V_codes</td>\n",
       "      <td>bs19lr</td>\n",
       "      <td>0.000109</td>\n",
       "    </tr>\n",
       "    <tr>\n",
       "      <th>9</th>\n",
       "      <td>Diseases_of_the_nervous_system_and_sense_organs</td>\n",
       "      <td>bs06lr</td>\n",
       "      <td>0.000108</td>\n",
       "    </tr>\n",
       "    <tr>\n",
       "      <th>10</th>\n",
       "      <td>Diseases_of_the_genitourinary_system</td>\n",
       "      <td>bs10lr</td>\n",
       "      <td>0.000107</td>\n",
       "    </tr>\n",
       "    <tr>\n",
       "      <th>11</th>\n",
       "      <td>Symptoms,_signs,_and_ill_defined_conditions</td>\n",
       "      <td>bs16lr</td>\n",
       "      <td>0.000107</td>\n",
       "    </tr>\n",
       "    <tr>\n",
       "      <th>12</th>\n",
       "      <td>Diseases_of_the_skin_and_subcutaneous_tissue</td>\n",
       "      <td>bs12lr</td>\n",
       "      <td>0.000105</td>\n",
       "    </tr>\n",
       "    <tr>\n",
       "      <th>13</th>\n",
       "      <td>Diseases_of_the_blood_and_bloodforming_organs</td>\n",
       "      <td>bs04lr</td>\n",
       "      <td>0.000105</td>\n",
       "    </tr>\n",
       "    <tr>\n",
       "      <th>15</th>\n",
       "      <td>Injury_and_poisoning</td>\n",
       "      <td>bs17lr</td>\n",
       "      <td>0.000100</td>\n",
       "    </tr>\n",
       "    <tr>\n",
       "      <th>16</th>\n",
       "      <td>E_codes</td>\n",
       "      <td>bs18lr</td>\n",
       "      <td>0.000086</td>\n",
       "    </tr>\n",
       "    <tr>\n",
       "      <th>17</th>\n",
       "      <td>Congenital_anomalies</td>\n",
       "      <td>bs14lr</td>\n",
       "      <td>0.000058</td>\n",
       "    </tr>\n",
       "    <tr>\n",
       "      <th>18</th>\n",
       "      <td>Complications_of_pregnancy,_childbirth,_and_th...</td>\n",
       "      <td>bs11lr</td>\n",
       "      <td>-0.001882</td>\n",
       "    </tr>\n",
       "  </tbody>\n",
       "</table>\n",
       "</div>"
      ],
      "text/plain": [
       "                                                 name    code  coefficient\n",
       "0                   Infectious_and_parasitic_diseases  bs01lr     0.000116\n",
       "1                  Diseases_of_the_circulatory_system  bs07lr     0.000112\n",
       "2   Endocrine,nutritional_and_metabolic diseases_a...  bs03lr     0.000112\n",
       "3                                    Mental_disorders  bs05lr     0.000112\n",
       "4                    Diseases_of_the_digestive_system  bs09lr     0.000111\n",
       "5                  Diseases_of_the_respiratory_system  bs08lr     0.000110\n",
       "6                                           Neoplasms  bs02lr     0.000110\n",
       "7   Diseases_of_the_musculoskeletal_system_and_con...  bs13lr     0.000110\n",
       "8                                             V_codes  bs19lr     0.000109\n",
       "9     Diseases_of_the_nervous_system_and_sense_organs  bs06lr     0.000108\n",
       "10               Diseases_of_the_genitourinary_system  bs10lr     0.000107\n",
       "11        Symptoms,_signs,_and_ill_defined_conditions  bs16lr     0.000107\n",
       "12       Diseases_of_the_skin_and_subcutaneous_tissue  bs12lr     0.000105\n",
       "13      Diseases_of_the_blood_and_bloodforming_organs  bs04lr     0.000105\n",
       "15                               Injury_and_poisoning  bs17lr     0.000100\n",
       "16                                            E_codes  bs18lr     0.000086\n",
       "17                               Congenital_anomalies  bs14lr     0.000058\n",
       "18  Complications_of_pregnancy,_childbirth,_and_th...  bs11lr    -0.001882"
      ]
     },
     "execution_count": 26,
     "metadata": {},
     "output_type": "execute_result"
    }
   ],
   "source": [
    "order_df = pd.read_csv('s3://jeeforce-artifacts/alemi/diabetes/ordering.csv') \\\n",
    "    .query('code != \"rare_disease\"')\n",
    "order_df"
   ]
  },
  {
   "cell_type": "code",
   "execution_count": 92,
   "id": "arbitrary-warning",
   "metadata": {
    "execution": {
     "iopub.execute_input": "2022-04-20T04:56:52.253400Z",
     "iopub.status.busy": "2022-04-20T04:56:52.252756Z",
     "iopub.status.idle": "2022-04-20T04:56:52.272003Z",
     "shell.execute_reply": "2022-04-20T04:56:52.271652Z",
     "shell.execute_reply.started": "2022-04-20T04:56:52.253324Z"
    }
   },
   "outputs": [],
   "source": [
    "def get_order(code):\n",
    "    r = order_df[order_df['code']==code].iloc[0]\n",
    "    c = r['coefficient']\n",
    "    codes = list(order_df[order_df['coefficient'] > c]['code'])\n",
    "    return codes\n",
    "\n",
    "order_map = {code: get_order(code) for code in order_df['code']}\n",
    "order_map = {**order_map, **{'dm': list(order_df['code'])}}"
   ]
  },
  {
   "cell_type": "code",
   "execution_count": null,
   "id": "veterinary-correlation",
   "metadata": {
    "execution": {
     "iopub.execute_input": "2022-04-20T05:04:35.407750Z",
     "iopub.status.busy": "2022-04-20T05:04:35.407614Z"
    }
   },
   "outputs": [
    {
     "name": "stdout",
     "output_type": "stream",
     "text": [
      "bs01lr\n",
      "\t(2063013, 0), (2063013,)\n",
      "bs07lr\n",
      "\t(2063013, 1), (2063013,)\n",
      "\tbs07lr @ 0.06 minutes\n",
      "bs03lr\n",
      "\t(2063013, 2), (2063013,)\n",
      "\tbs03lr @ 0.03 minutes\n",
      "bs05lr\n",
      "\t(2063013, 3), (2063013,)\n",
      "\tbs05lr @ 0.04 minutes\n",
      "bs09lr\n",
      "\t(2063013, 4), (2063013,)\n",
      "\tbs09lr @ 0.04 minutes\n",
      "bs08lr\n",
      "\t(2063013, 5), (2063013,)\n",
      "\tbs08lr @ 0.03 minutes\n",
      "bs02lr\n",
      "\t(2063013, 6), (2063013,)\n",
      "\tbs02lr @ 0.07 minutes\n",
      "bs13lr\n",
      "\t(2063013, 7), (2063013,)\n",
      "\tbs13lr @ 0.05 minutes\n",
      "bs19lr\n",
      "\t(2063013, 8), (2063013,)\n",
      "\tbs19lr @ 0.1 minutes\n",
      "bs06lr\n",
      "\t(2063013, 9), (2063013,)\n"
     ]
    }
   ],
   "source": [
    "from sklearn.linear_model import LogisticRegression\n",
    "from scipy.special import expit\n",
    "import time\n",
    "\n",
    "def log_time(y_field, t0, t1):\n",
    "    diff = t1 - t0\n",
    "    diff = diff / 60\n",
    "    print(f'\\t{y_field} @ {diff:.1} minutes')\n",
    "    \n",
    "def get_coef(model, X):\n",
    "    return pd.Series(model.coef_[0], index=X.columns) \\\n",
    "        .to_frame(name='coefficient') \\\n",
    "        .reset_index() \\\n",
    "        .rename(columns={'index': 'field'}) \\\n",
    "        .assign(abs_coefficient=lambda d: np.abs(d['coefficient'])) \\\n",
    "        .sort_values(['abs_coefficient'], ascending=False) \\\n",
    "        .reset_index(drop=True)\n",
    "    \n",
    "def do_learn(df, y_field, one_threshold=0.8, C=0.01, tol=0.01):\n",
    "    print(f'{y_field}')\n",
    "    \n",
    "    X = df[[c for c in df.columns if c in order_map[y_field]]].fillna(1.0)\n",
    "    y = df[y_field]\n",
    "    \n",
    "    if y_field != 'dm':\n",
    "        y = (expit(y.fillna(1.0)) > one_threshold).astype(int)\n",
    "    \n",
    "    print(f'\\t{X.shape}, {y.shape}')\n",
    "    if X.shape[0] == 0 or X.shape[1] == 0:\n",
    "        return np.nan\n",
    "    \n",
    "    t0 = time.time()\n",
    "    \n",
    "    model = LogisticRegression(\n",
    "        penalty='l1', \n",
    "        C=C, \n",
    "        max_iter=5_000, \n",
    "        tol=tol, \n",
    "        n_jobs=-1, \n",
    "        solver='saga')\n",
    "    model.fit(X, y)\n",
    "    \n",
    "    t1 = time.time()\n",
    "    log_time(y_field, t0, t1)\n",
    "    \n",
    "    return get_coef(model, X)\n",
    "\n",
    "results = {y_field: do_learn(df, y_field) for y_field in order_map}"
   ]
  },
  {
   "cell_type": "code",
   "execution_count": null,
   "id": "listed-nylon",
   "metadata": {},
   "outputs": [],
   "source": [
    "def get_parents(key, zero_threshold=0.09):\n",
    "    try:\n",
    "        temp_df = results[key]\n",
    "        temp_df = temp_df[temp_df['abs_coefficient'] > zero_threshold]\n",
    "        return list(temp_df['field'])\n",
    "    except:\n",
    "        return []\n",
    "    \n",
    "parents = {ch: get_parents(ch) for ch in results}\n",
    "parents"
   ]
  },
  {
   "cell_type": "code",
   "execution_count": null,
   "id": "greatest-korean",
   "metadata": {},
   "outputs": [],
   "source": [
    "import networkx as nx\n",
    "\n",
    "g = nx.DiGraph()\n",
    "\n",
    "for ch, pas in parents.items():\n",
    "    for pa in pas:\n",
    "        g.add_edge(pa, ch)"
   ]
  },
  {
   "cell_type": "code",
   "execution_count": null,
   "id": "saving-equality",
   "metadata": {},
   "outputs": [],
   "source": [
    "import matplotlib.pyplot as plt\n",
    "from networkx.drawing.nx_agraph import graphviz_layout\n",
    "\n",
    "pos = graphviz_layout(g, prog='dot')\n",
    "\n",
    "fig, ax = plt.subplots(figsize=(10, 20))\n",
    "nx.draw(**{\n",
    "        'G': g,\n",
    "        'ax': ax,\n",
    "        'pos': pos,\n",
    "        'with_labels': True,\n",
    "        'node_color': 'r',\n",
    "        'edge_color': '#e0e0e0'\n",
    "    })"
   ]
  },
  {
   "cell_type": "code",
   "execution_count": null,
   "id": "separate-bishop",
   "metadata": {},
   "outputs": [],
   "source": []
  }
 ],
 "metadata": {
  "kernelspec": {
   "display_name": "Python 3",
   "language": "python",
   "name": "python3"
  },
  "language_info": {
   "codemirror_mode": {
    "name": "ipython",
    "version": 3
   },
   "file_extension": ".py",
   "mimetype": "text/x-python",
   "name": "python",
   "nbconvert_exporter": "python",
   "pygments_lexer": "ipython3",
   "version": "3.8.5"
  },
  "widgets": {
   "application/vnd.jupyter.widget-state+json": {
    "state": {},
    "version_major": 2,
    "version_minor": 0
   }
  }
 },
 "nbformat": 4,
 "nbformat_minor": 5
}
