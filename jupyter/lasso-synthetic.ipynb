{
 "cells": [
  {
   "cell_type": "markdown",
   "id": "palestinian-router",
   "metadata": {},
   "source": [
    "# Simulation"
   ]
  },
  {
   "cell_type": "markdown",
   "id": "answering-answer",
   "metadata": {},
   "source": [
    "## Data\n",
    "\n",
    "The variables $X_1, X_2, X_3$ are sampled as follows.\n",
    "\n",
    "- $X_1 \\sim \\mathcal{B}(1, 0.8)$\n",
    "- $X_2 \\sim \\mathcal{B}(1, 0.4)$\n",
    "- $X_3 \\sim \\mathcal{B}(1, 0.6)$\n",
    "\n",
    "The dependent variable $y$ is sampled as follows.\n",
    "\n",
    "- $z = 2.0 + 0.5 X_1 + 0.8 X_1 X_2 X_3$\n",
    "- $p = \\dfrac{1.0}{1.0 + \\exp(-z)}$\n",
    "- $y \\sim \\mathcal{B}(1, p)$\n",
    "\n",
    "The design matrix $X$ is composed of the following variables and interactions.\n",
    "\n",
    "- $X_1$\n",
    "- $X_2$\n",
    "- $X_3$\n",
    "- $X_1 X_2$\n",
    "- $X_1 X_3$\n",
    "- $X_2 X_3$\n",
    "- $X_1 X_2 X_3$\n",
    "\n",
    "There are 1,000 sampled data points."
   ]
  },
  {
   "cell_type": "code",
   "execution_count": 1,
   "id": "equal-retailer",
   "metadata": {
    "execution": {
     "iopub.status.idle": "2022-01-26T06:01:52.196871Z",
     "shell.execute_reply": "2022-01-26T06:01:52.196458Z",
     "shell.execute_reply.started": "2022-01-26T06:01:52.018167Z"
    }
   },
   "outputs": [],
   "source": [
    "import numpy as np\n",
    "import random\n",
    "from scipy.stats import binom\n",
    "\n",
    "random.seed(37)\n",
    "np.random.seed(37)\n",
    "\n",
    "N = 10_000\n",
    "\n",
    "x1 = np.random.binomial(1, 0.8, N)\n",
    "x2 = np.random.binomial(1, 0.4, N)\n",
    "x3 = np.random.binomial(1, 0.6, N)\n",
    "x1x2 = x1 * x2\n",
    "x1x3 = x1 * x3\n",
    "x2x3 = x2 * x3\n",
    "x1x2x3 = x1 * x2 * x3\n",
    "\n",
    "X = np.hstack((\n",
    "    x1.reshape(-1, 1), \n",
    "    x2.reshape(-1, 1), \n",
    "    x3.reshape(-1, 1),\n",
    "    x1x2.reshape(-1, 1),\n",
    "    x1x3.reshape(-1, 1),\n",
    "    x2x3.reshape(-1, 1),\n",
    "    x1x2x3.reshape(-1, 1)\n",
    "))\n",
    "\n",
    "z = 2.0 + 0.5 * x1 + 0.8 * x1x2x3\n",
    "p = 1.0 / (1.0 + np.exp(-z))\n",
    "y = binom.rvs(1, p)"
   ]
  },
  {
   "cell_type": "code",
   "execution_count": 2,
   "id": "hungarian-maintenance",
   "metadata": {
    "execution": {
     "iopub.execute_input": "2022-01-26T06:01:52.197589Z",
     "iopub.status.busy": "2022-01-26T06:01:52.197432Z",
     "iopub.status.idle": "2022-01-26T06:01:52.203727Z",
     "shell.execute_reply": "2022-01-26T06:01:52.203264Z",
     "shell.execute_reply.started": "2022-01-26T06:01:52.197549Z"
    }
   },
   "outputs": [
    {
     "data": {
      "text/plain": [
       "((10000, 7), (10000,))"
      ]
     },
     "execution_count": 2,
     "metadata": {},
     "output_type": "execute_result"
    }
   ],
   "source": [
    "X.shape, y.shape"
   ]
  },
  {
   "cell_type": "markdown",
   "id": "sufficient-scholarship",
   "metadata": {},
   "source": [
    "## Descriptive statistics"
   ]
  },
  {
   "cell_type": "code",
   "execution_count": 3,
   "id": "literary-owner",
   "metadata": {
    "execution": {
     "iopub.execute_input": "2022-01-26T06:01:52.205757Z",
     "iopub.status.busy": "2022-01-26T06:01:52.205652Z",
     "iopub.status.idle": "2022-01-26T06:01:52.458265Z",
     "shell.execute_reply": "2022-01-26T06:01:52.457811Z",
     "shell.execute_reply.started": "2022-01-26T06:01:52.205744Z"
    }
   },
   "outputs": [
    {
     "data": {
      "text/html": [
       "<div>\n",
       "<style scoped>\n",
       "    .dataframe tbody tr th:only-of-type {\n",
       "        vertical-align: middle;\n",
       "    }\n",
       "\n",
       "    .dataframe tbody tr th {\n",
       "        vertical-align: top;\n",
       "    }\n",
       "\n",
       "    .dataframe thead th {\n",
       "        text-align: right;\n",
       "    }\n",
       "</style>\n",
       "<table border=\"1\" class=\"dataframe\">\n",
       "  <thead>\n",
       "    <tr style=\"text-align: right;\">\n",
       "      <th></th>\n",
       "      <th>x1</th>\n",
       "      <th>x2</th>\n",
       "      <th>x3</th>\n",
       "      <th>x1x2</th>\n",
       "      <th>x1x3</th>\n",
       "      <th>x2x3</th>\n",
       "      <th>x1x2x3</th>\n",
       "      <th>y</th>\n",
       "    </tr>\n",
       "  </thead>\n",
       "  <tbody>\n",
       "    <tr>\n",
       "      <th>count</th>\n",
       "      <td>10000.000000</td>\n",
       "      <td>10000.000000</td>\n",
       "      <td>10000.000000</td>\n",
       "      <td>10000.000000</td>\n",
       "      <td>10000.000000</td>\n",
       "      <td>10000.000000</td>\n",
       "      <td>10000.000000</td>\n",
       "      <td>10000.000000</td>\n",
       "    </tr>\n",
       "    <tr>\n",
       "      <th>mean</th>\n",
       "      <td>0.798400</td>\n",
       "      <td>0.394500</td>\n",
       "      <td>0.599900</td>\n",
       "      <td>0.316800</td>\n",
       "      <td>0.480200</td>\n",
       "      <td>0.236100</td>\n",
       "      <td>0.190300</td>\n",
       "      <td>0.926400</td>\n",
       "    </tr>\n",
       "    <tr>\n",
       "      <th>std</th>\n",
       "      <td>0.401215</td>\n",
       "      <td>0.488767</td>\n",
       "      <td>0.489943</td>\n",
       "      <td>0.465252</td>\n",
       "      <td>0.499633</td>\n",
       "      <td>0.424706</td>\n",
       "      <td>0.392557</td>\n",
       "      <td>0.261132</td>\n",
       "    </tr>\n",
       "    <tr>\n",
       "      <th>min</th>\n",
       "      <td>0.000000</td>\n",
       "      <td>0.000000</td>\n",
       "      <td>0.000000</td>\n",
       "      <td>0.000000</td>\n",
       "      <td>0.000000</td>\n",
       "      <td>0.000000</td>\n",
       "      <td>0.000000</td>\n",
       "      <td>0.000000</td>\n",
       "    </tr>\n",
       "    <tr>\n",
       "      <th>25%</th>\n",
       "      <td>1.000000</td>\n",
       "      <td>0.000000</td>\n",
       "      <td>0.000000</td>\n",
       "      <td>0.000000</td>\n",
       "      <td>0.000000</td>\n",
       "      <td>0.000000</td>\n",
       "      <td>0.000000</td>\n",
       "      <td>1.000000</td>\n",
       "    </tr>\n",
       "    <tr>\n",
       "      <th>50%</th>\n",
       "      <td>1.000000</td>\n",
       "      <td>0.000000</td>\n",
       "      <td>1.000000</td>\n",
       "      <td>0.000000</td>\n",
       "      <td>0.000000</td>\n",
       "      <td>0.000000</td>\n",
       "      <td>0.000000</td>\n",
       "      <td>1.000000</td>\n",
       "    </tr>\n",
       "    <tr>\n",
       "      <th>75%</th>\n",
       "      <td>1.000000</td>\n",
       "      <td>1.000000</td>\n",
       "      <td>1.000000</td>\n",
       "      <td>1.000000</td>\n",
       "      <td>1.000000</td>\n",
       "      <td>0.000000</td>\n",
       "      <td>0.000000</td>\n",
       "      <td>1.000000</td>\n",
       "    </tr>\n",
       "    <tr>\n",
       "      <th>max</th>\n",
       "      <td>1.000000</td>\n",
       "      <td>1.000000</td>\n",
       "      <td>1.000000</td>\n",
       "      <td>1.000000</td>\n",
       "      <td>1.000000</td>\n",
       "      <td>1.000000</td>\n",
       "      <td>1.000000</td>\n",
       "      <td>1.000000</td>\n",
       "    </tr>\n",
       "  </tbody>\n",
       "</table>\n",
       "</div>"
      ],
      "text/plain": [
       "                 x1            x2            x3          x1x2          x1x3  \\\n",
       "count  10000.000000  10000.000000  10000.000000  10000.000000  10000.000000   \n",
       "mean       0.798400      0.394500      0.599900      0.316800      0.480200   \n",
       "std        0.401215      0.488767      0.489943      0.465252      0.499633   \n",
       "min        0.000000      0.000000      0.000000      0.000000      0.000000   \n",
       "25%        1.000000      0.000000      0.000000      0.000000      0.000000   \n",
       "50%        1.000000      0.000000      1.000000      0.000000      0.000000   \n",
       "75%        1.000000      1.000000      1.000000      1.000000      1.000000   \n",
       "max        1.000000      1.000000      1.000000      1.000000      1.000000   \n",
       "\n",
       "               x2x3        x1x2x3             y  \n",
       "count  10000.000000  10000.000000  10000.000000  \n",
       "mean       0.236100      0.190300      0.926400  \n",
       "std        0.424706      0.392557      0.261132  \n",
       "min        0.000000      0.000000      0.000000  \n",
       "25%        0.000000      0.000000      1.000000  \n",
       "50%        0.000000      0.000000      1.000000  \n",
       "75%        0.000000      0.000000      1.000000  \n",
       "max        1.000000      1.000000      1.000000  "
      ]
     },
     "execution_count": 3,
     "metadata": {},
     "output_type": "execute_result"
    }
   ],
   "source": [
    "import pandas as pd\n",
    "import matplotlib.pyplot as plt\n",
    "\n",
    "plt.style.use('ggplot')\n",
    "\n",
    "df = pd.DataFrame({\n",
    "    'x1': x1,\n",
    "    'x2': x2,\n",
    "    'x3': x3,\n",
    "    'x1x2': x1x2,\n",
    "    'x1x3': x1x3,\n",
    "    'x2x3': x2x3,\n",
    "    'x1x2x3': x1x2x3,\n",
    "    'y': y\n",
    "})\n",
    "\n",
    "df.describe()"
   ]
  },
  {
   "cell_type": "code",
   "execution_count": 4,
   "id": "fitting-vermont",
   "metadata": {
    "execution": {
     "iopub.execute_input": "2022-01-26T06:01:52.459045Z",
     "iopub.status.busy": "2022-01-26T06:01:52.458923Z",
     "iopub.status.idle": "2022-01-26T06:01:52.589666Z",
     "shell.execute_reply": "2022-01-26T06:01:52.589215Z",
     "shell.execute_reply.started": "2022-01-26T06:01:52.459031Z"
    }
   },
   "outputs": [
    {
     "data": {
      "image/png": "[encoded data removed]",
      "text/plain": [
       "<Figure size 432x288 with 1 Axes>"
      ]
     },
     "metadata": {},
     "output_type": "display_data"
    }
   ],
   "source": [
    "_ = df['y'].value_counts().plot(kind='bar')"
   ]
  },
  {
   "cell_type": "markdown",
   "id": "sealed-benefit",
   "metadata": {},
   "source": [
    "## Balance the data"
   ]
  },
  {
   "cell_type": "code",
   "execution_count": 5,
   "id": "decreased-knife",
   "metadata": {
    "execution": {
     "iopub.execute_input": "2022-01-26T06:01:52.590529Z",
     "iopub.status.busy": "2022-01-26T06:01:52.590351Z",
     "iopub.status.idle": "2022-01-26T06:01:52.599637Z",
     "shell.execute_reply": "2022-01-26T06:01:52.599169Z",
     "shell.execute_reply.started": "2022-01-26T06:01:52.590507Z"
    }
   },
   "outputs": [
    {
     "data": {
      "text/plain": [
       "((736, 8), (736, 8))"
      ]
     },
     "execution_count": 5,
     "metadata": {},
     "output_type": "execute_result"
    }
   ],
   "source": [
    "neg_df = df[df['y'] == 0]\n",
    "pos_df = df[df['y'] == 1].sample(n=neg_df.shape[0], replace=False)\n",
    "\n",
    "neg_df.shape, pos_df.shape"
   ]
  },
  {
   "cell_type": "code",
   "execution_count": 6,
   "id": "resident-weekly",
   "metadata": {
    "execution": {
     "iopub.execute_input": "2022-01-26T06:01:52.600554Z",
     "iopub.status.busy": "2022-01-26T06:01:52.600376Z",
     "iopub.status.idle": "2022-01-26T06:01:52.603465Z",
     "shell.execute_reply": "2022-01-26T06:01:52.603059Z",
     "shell.execute_reply.started": "2022-01-26T06:01:52.600532Z"
    }
   },
   "outputs": [],
   "source": [
    "df = pd.concat([neg_df, pos_df]).reset_index(drop=True)"
   ]
  },
  {
   "cell_type": "code",
   "execution_count": 7,
   "id": "monthly-authentication",
   "metadata": {
    "execution": {
     "iopub.execute_input": "2022-01-26T06:01:52.604316Z",
     "iopub.status.busy": "2022-01-26T06:01:52.604152Z",
     "iopub.status.idle": "2022-01-26T06:01:52.624681Z",
     "shell.execute_reply": "2022-01-26T06:01:52.624238Z",
     "shell.execute_reply.started": "2022-01-26T06:01:52.604295Z"
    }
   },
   "outputs": [
    {
     "data": {
      "text/html": [
       "<div>\n",
       "<style scoped>\n",
       "    .dataframe tbody tr th:only-of-type {\n",
       "        vertical-align: middle;\n",
       "    }\n",
       "\n",
       "    .dataframe tbody tr th {\n",
       "        vertical-align: top;\n",
       "    }\n",
       "\n",
       "    .dataframe thead th {\n",
       "        text-align: right;\n",
       "    }\n",
       "</style>\n",
       "<table border=\"1\" class=\"dataframe\">\n",
       "  <thead>\n",
       "    <tr style=\"text-align: right;\">\n",
       "      <th></th>\n",
       "      <th>x1</th>\n",
       "      <th>x2</th>\n",
       "      <th>x3</th>\n",
       "      <th>x1x2</th>\n",
       "      <th>x1x3</th>\n",
       "      <th>x2x3</th>\n",
       "      <th>x1x2x3</th>\n",
       "      <th>y</th>\n",
       "    </tr>\n",
       "  </thead>\n",
       "  <tbody>\n",
       "    <tr>\n",
       "      <th>count</th>\n",
       "      <td>1472.000000</td>\n",
       "      <td>1472.000000</td>\n",
       "      <td>1472.000000</td>\n",
       "      <td>1472.000000</td>\n",
       "      <td>1472.000000</td>\n",
       "      <td>1472.000000</td>\n",
       "      <td>1472.000000</td>\n",
       "      <td>1472.00000</td>\n",
       "    </tr>\n",
       "    <tr>\n",
       "      <th>mean</th>\n",
       "      <td>0.752717</td>\n",
       "      <td>0.356658</td>\n",
       "      <td>0.593750</td>\n",
       "      <td>0.251359</td>\n",
       "      <td>0.449728</td>\n",
       "      <td>0.201087</td>\n",
       "      <td>0.144022</td>\n",
       "      <td>0.50000</td>\n",
       "    </tr>\n",
       "    <tr>\n",
       "      <th>std</th>\n",
       "      <td>0.431579</td>\n",
       "      <td>0.479175</td>\n",
       "      <td>0.491299</td>\n",
       "      <td>0.433942</td>\n",
       "      <td>0.497635</td>\n",
       "      <td>0.400949</td>\n",
       "      <td>0.351231</td>\n",
       "      <td>0.50017</td>\n",
       "    </tr>\n",
       "    <tr>\n",
       "      <th>min</th>\n",
       "      <td>0.000000</td>\n",
       "      <td>0.000000</td>\n",
       "      <td>0.000000</td>\n",
       "      <td>0.000000</td>\n",
       "      <td>0.000000</td>\n",
       "      <td>0.000000</td>\n",
       "      <td>0.000000</td>\n",
       "      <td>0.00000</td>\n",
       "    </tr>\n",
       "    <tr>\n",
       "      <th>25%</th>\n",
       "      <td>1.000000</td>\n",
       "      <td>0.000000</td>\n",
       "      <td>0.000000</td>\n",
       "      <td>0.000000</td>\n",
       "      <td>0.000000</td>\n",
       "      <td>0.000000</td>\n",
       "      <td>0.000000</td>\n",
       "      <td>0.00000</td>\n",
       "    </tr>\n",
       "    <tr>\n",
       "      <th>50%</th>\n",
       "      <td>1.000000</td>\n",
       "      <td>0.000000</td>\n",
       "      <td>1.000000</td>\n",
       "      <td>0.000000</td>\n",
       "      <td>0.000000</td>\n",
       "      <td>0.000000</td>\n",
       "      <td>0.000000</td>\n",
       "      <td>0.50000</td>\n",
       "    </tr>\n",
       "    <tr>\n",
       "      <th>75%</th>\n",
       "      <td>1.000000</td>\n",
       "      <td>1.000000</td>\n",
       "      <td>1.000000</td>\n",
       "      <td>1.000000</td>\n",
       "      <td>1.000000</td>\n",
       "      <td>0.000000</td>\n",
       "      <td>0.000000</td>\n",
       "      <td>1.00000</td>\n",
       "    </tr>\n",
       "    <tr>\n",
       "      <th>max</th>\n",
       "      <td>1.000000</td>\n",
       "      <td>1.000000</td>\n",
       "      <td>1.000000</td>\n",
       "      <td>1.000000</td>\n",
       "      <td>1.000000</td>\n",
       "      <td>1.000000</td>\n",
       "      <td>1.000000</td>\n",
       "      <td>1.00000</td>\n",
       "    </tr>\n",
       "  </tbody>\n",
       "</table>\n",
       "</div>"
      ],
      "text/plain": [
       "                x1           x2           x3         x1x2         x1x3  \\\n",
       "count  1472.000000  1472.000000  1472.000000  1472.000000  1472.000000   \n",
       "mean      0.752717     0.356658     0.593750     0.251359     0.449728   \n",
       "std       0.431579     0.479175     0.491299     0.433942     0.497635   \n",
       "min       0.000000     0.000000     0.000000     0.000000     0.000000   \n",
       "25%       1.000000     0.000000     0.000000     0.000000     0.000000   \n",
       "50%       1.000000     0.000000     1.000000     0.000000     0.000000   \n",
       "75%       1.000000     1.000000     1.000000     1.000000     1.000000   \n",
       "max       1.000000     1.000000     1.000000     1.000000     1.000000   \n",
       "\n",
       "              x2x3       x1x2x3           y  \n",
       "count  1472.000000  1472.000000  1472.00000  \n",
       "mean      0.201087     0.144022     0.50000  \n",
       "std       0.400949     0.351231     0.50017  \n",
       "min       0.000000     0.000000     0.00000  \n",
       "25%       0.000000     0.000000     0.00000  \n",
       "50%       0.000000     0.000000     0.50000  \n",
       "75%       0.000000     0.000000     1.00000  \n",
       "max       1.000000     1.000000     1.00000  "
      ]
     },
     "execution_count": 7,
     "metadata": {},
     "output_type": "execute_result"
    }
   ],
   "source": [
    "df.describe()"
   ]
  },
  {
   "cell_type": "code",
   "execution_count": 8,
   "id": "increasing-packaging",
   "metadata": {
    "execution": {
     "iopub.execute_input": "2022-01-26T06:01:52.626640Z",
     "iopub.status.busy": "2022-01-26T06:01:52.626455Z",
     "iopub.status.idle": "2022-01-26T06:01:52.698532Z",
     "shell.execute_reply": "2022-01-26T06:01:52.698063Z",
     "shell.execute_reply.started": "2022-01-26T06:01:52.626619Z"
    }
   },
   "outputs": [
    {
     "data": {
      "image/png": "[encoded data removed]",
      "text/plain": [
       "<Figure size 432x288 with 1 Axes>"
      ]
     },
     "metadata": {},
     "output_type": "display_data"
    }
   ],
   "source": [
    "_ = df['y'].value_counts().plot(kind='bar')"
   ]
  },
  {
   "cell_type": "code",
   "execution_count": 9,
   "id": "threaded-guest",
   "metadata": {
    "execution": {
     "iopub.execute_input": "2022-01-26T06:01:52.699714Z",
     "iopub.status.busy": "2022-01-26T06:01:52.699505Z",
     "iopub.status.idle": "2022-01-26T06:01:52.704001Z",
     "shell.execute_reply": "2022-01-26T06:01:52.703580Z",
     "shell.execute_reply.started": "2022-01-26T06:01:52.699677Z"
    }
   },
   "outputs": [
    {
     "data": {
      "text/plain": [
       "((1472, 7), (1472,))"
      ]
     },
     "execution_count": 9,
     "metadata": {},
     "output_type": "execute_result"
    }
   ],
   "source": [
    "X = df[[c for c in df.columns if c != 'y']].values\n",
    "y = df['y'].values\n",
    "\n",
    "X.shape, y.shape"
   ]
  },
  {
   "cell_type": "markdown",
   "id": "medium-springfield",
   "metadata": {},
   "source": [
    "## Logistic regression\n",
    "\n",
    "Logistic regression is applied to the data with the following regularization.\n",
    "\n",
    "- none\n",
    "- `L1` (Lasso)\n",
    "- `L2` (Ridge) \n",
    "- ElasticNet\n",
    "\n",
    "More [documentation](https://scikit-learn.org/stable/modules/generated/sklearn.linear_model.LogisticRegression.html) is available."
   ]
  },
  {
   "cell_type": "markdown",
   "id": "forced-settlement",
   "metadata": {},
   "source": [
    "### None"
   ]
  },
  {
   "cell_type": "code",
   "execution_count": 10,
   "id": "sharing-curtis",
   "metadata": {
    "execution": {
     "iopub.execute_input": "2022-01-26T06:01:52.704852Z",
     "iopub.status.busy": "2022-01-26T06:01:52.704685Z",
     "iopub.status.idle": "2022-01-26T06:01:52.970441Z",
     "shell.execute_reply": "2022-01-26T06:01:52.970027Z",
     "shell.execute_reply.started": "2022-01-26T06:01:52.704830Z"
    }
   },
   "outputs": [
    {
     "data": {
      "image/png": "[encoded data removed]",
      "text/plain": [
       "<Figure size 720x288 with 1 Axes>"
      ]
     },
     "metadata": {},
     "output_type": "display_data"
    }
   ],
   "source": [
    "from sklearn.linear_model import LogisticRegression\n",
    "from sklearn.metrics import roc_auc_score, average_precision_score\n",
    "\n",
    "def get_model(reg='none'):\n",
    "    if reg == 'l1':\n",
    "        model = LogisticRegression(penalty='l1', solver='saga', C=0.5, random_state=37)\n",
    "    elif reg == 'l2':\n",
    "        model = LogisticRegression(penalty='l2', solver='saga', random_state=37)\n",
    "    elif reg == 'elasticnet':\n",
    "        model = LogisticRegression(penalty='elasticnet', l1_ratio=0.6, solver='saga', random_state=37)\n",
    "    else:\n",
    "        model = LogisticRegression(penalty='none', solver='saga', random_state=37, max_iter=10_000)\n",
    "    \n",
    "    return model\n",
    "\n",
    "def get_coef(m):\n",
    "    coefs = [m.intercept_[0]] + list(m.coef_[0])\n",
    "    cols = ['b', 'x1', 'x2', 'x3', 'x1x2', 'x1x3', 'x2x3', 'x1x2x3']\n",
    "    return pd.Series(coefs, index=cols)\n",
    "\n",
    "def plot_model(m, X, y, reg):\n",
    "    y_pred = m.predict_proba(X)[:,1]\n",
    "    auc = roc_auc_score(y, y_pred)\n",
    "    aps = average_precision_score(y, y_pred)\n",
    "    _ = get_coef(model).plot(kind='bar', figsize=(10, 4), title=fr'Coefficients ({reg}), AUC={auc:.2f}, APS={aps:.2f}')\n",
    "\n",
    "model = get_model('none')\n",
    "model.fit(X, y)\n",
    "\n",
    "plot_model(model, X, y, 'None')"
   ]
  },
  {
   "cell_type": "code",
   "execution_count": 11,
   "id": "collectible-porcelain",
   "metadata": {
    "execution": {
     "iopub.execute_input": "2022-01-26T06:01:52.971105Z",
     "iopub.status.busy": "2022-01-26T06:01:52.970990Z",
     "iopub.status.idle": "2022-01-26T06:01:53.281458Z",
     "shell.execute_reply": "2022-01-26T06:01:53.281042Z",
     "shell.execute_reply.started": "2022-01-26T06:01:52.971090Z"
    }
   },
   "outputs": [
    {
     "data": {
      "text/html": [
       "<style  type=\"text/css\" >\n",
       "#T_20b47_row0_col0,#T_20b47_row0_col1,#T_20b47_row0_col2,#T_20b47_row0_col3,#T_20b47_row0_col4,#T_20b47_row0_col5,#T_20b47_row0_col6,#T_20b47_row0_col7,#T_20b47_row0_col8,#T_20b47_row0_col9,#T_20b47_row1_col0,#T_20b47_row1_col1,#T_20b47_row1_col2,#T_20b47_row1_col3,#T_20b47_row1_col4,#T_20b47_row1_col5,#T_20b47_row1_col6,#T_20b47_row1_col7,#T_20b47_row1_col8,#T_20b47_row1_col9,#T_20b47_row2_col0,#T_20b47_row2_col1,#T_20b47_row2_col2,#T_20b47_row2_col3,#T_20b47_row2_col4,#T_20b47_row2_col5,#T_20b47_row2_col6,#T_20b47_row2_col7,#T_20b47_row2_col8,#T_20b47_row2_col9,#T_20b47_row4_col0,#T_20b47_row4_col1,#T_20b47_row4_col2,#T_20b47_row4_col3,#T_20b47_row4_col4,#T_20b47_row4_col5,#T_20b47_row4_col6,#T_20b47_row4_col7,#T_20b47_row4_col8,#T_20b47_row4_col9,#T_20b47_row6_col0,#T_20b47_row6_col1,#T_20b47_row6_col2,#T_20b47_row6_col3,#T_20b47_row6_col4,#T_20b47_row6_col5,#T_20b47_row6_col6,#T_20b47_row6_col7,#T_20b47_row6_col8,#T_20b47_row6_col9,#T_20b47_row7_col0,#T_20b47_row7_col1,#T_20b47_row7_col2,#T_20b47_row7_col3,#T_20b47_row7_col4,#T_20b47_row7_col5,#T_20b47_row7_col6,#T_20b47_row7_col7,#T_20b47_row7_col8,#T_20b47_row7_col9{\n",
       "            background-color:  rgb(255, 0, 0, 0.18);\n",
       "        }</style><table id=\"T_20b47_\" ><thead>    <tr>        <th class=\"blank level0\" ></th>        <th class=\"col_heading level0 col0\" >w</th>        <th class=\"col_heading level0 col1\" >se</th>        <th class=\"col_heading level0 col2\" >z</th>        <th class=\"col_heading level0 col3\" >.025</th>        <th class=\"col_heading level0 col4\" >.975</th>        <th class=\"col_heading level0 col5\" >df</th>        <th class=\"col_heading level0 col6\" >P>|z|</th>        <th class=\"col_heading level0 col7\" >alpha=0.1</th>        <th class=\"col_heading level0 col8\" >alpha=0.05</th>        <th class=\"col_heading level0 col9\" >alpha=0.01</th>    </tr></thead><tbody>\n",
       "                <tr>\n",
       "                        <th id=\"T_20b47_level0_row0\" class=\"row_heading level0 row0\" >b</th>\n",
       "                        <td id=\"T_20b47_row0_col0\" class=\"data row0 col0\" >-0.583817</td>\n",
       "                        <td id=\"T_20b47_row0_col1\" class=\"data row0 col1\" >0.156882</td>\n",
       "                        <td id=\"T_20b47_row0_col2\" class=\"data row0 col2\" >-3.721365</td>\n",
       "                        <td id=\"T_20b47_row0_col3\" class=\"data row0 col3\" >-0.740699</td>\n",
       "                        <td id=\"T_20b47_row0_col4\" class=\"data row0 col4\" >-0.426935</td>\n",
       "                        <td id=\"T_20b47_row0_col5\" class=\"data row0 col5\" >1464</td>\n",
       "                        <td id=\"T_20b47_row0_col6\" class=\"data row0 col6\" >0.000103</td>\n",
       "                        <td id=\"T_20b47_row0_col7\" class=\"data row0 col7\" >True</td>\n",
       "                        <td id=\"T_20b47_row0_col8\" class=\"data row0 col8\" >True</td>\n",
       "                        <td id=\"T_20b47_row0_col9\" class=\"data row0 col9\" >True</td>\n",
       "            </tr>\n",
       "            <tr>\n",
       "                        <th id=\"T_20b47_level0_row1\" class=\"row_heading level0 row1\" >x1</th>\n",
       "                        <td id=\"T_20b47_row1_col0\" class=\"data row1 col0\" >0.569915</td>\n",
       "                        <td id=\"T_20b47_row1_col1\" class=\"data row1 col1\" >0.167271</td>\n",
       "                        <td id=\"T_20b47_row1_col2\" class=\"data row1 col2\" >3.407127</td>\n",
       "                        <td id=\"T_20b47_row1_col3\" class=\"data row1 col3\" >0.402643</td>\n",
       "                        <td id=\"T_20b47_row1_col4\" class=\"data row1 col4\" >0.737186</td>\n",
       "                        <td id=\"T_20b47_row1_col5\" class=\"data row1 col5\" >1464</td>\n",
       "                        <td id=\"T_20b47_row1_col6\" class=\"data row1 col6\" >0.000337</td>\n",
       "                        <td id=\"T_20b47_row1_col7\" class=\"data row1 col7\" >True</td>\n",
       "                        <td id=\"T_20b47_row1_col8\" class=\"data row1 col8\" >True</td>\n",
       "                        <td id=\"T_20b47_row1_col9\" class=\"data row1 col9\" >True</td>\n",
       "            </tr>\n",
       "            <tr>\n",
       "                        <th id=\"T_20b47_level0_row2\" class=\"row_heading level0 row2\" >x2</th>\n",
       "                        <td id=\"T_20b47_row2_col0\" class=\"data row2 col0\" >0.328850</td>\n",
       "                        <td id=\"T_20b47_row2_col1\" class=\"data row2 col1\" >0.210137</td>\n",
       "                        <td id=\"T_20b47_row2_col2\" class=\"data row2 col2\" >1.564934</td>\n",
       "                        <td id=\"T_20b47_row2_col3\" class=\"data row2 col3\" >0.118713</td>\n",
       "                        <td id=\"T_20b47_row2_col4\" class=\"data row2 col4\" >0.538987</td>\n",
       "                        <td id=\"T_20b47_row2_col5\" class=\"data row2 col5\" >1464</td>\n",
       "                        <td id=\"T_20b47_row2_col6\" class=\"data row2 col6\" >0.058907</td>\n",
       "                        <td id=\"T_20b47_row2_col7\" class=\"data row2 col7\" >True</td>\n",
       "                        <td id=\"T_20b47_row2_col8\" class=\"data row2 col8\" >False</td>\n",
       "                        <td id=\"T_20b47_row2_col9\" class=\"data row2 col9\" >False</td>\n",
       "            </tr>\n",
       "            <tr>\n",
       "                        <th id=\"T_20b47_level0_row3\" class=\"row_heading level0 row3\" >x3</th>\n",
       "                        <td id=\"T_20b47_row3_col0\" class=\"data row3 col0\" >0.236573</td>\n",
       "                        <td id=\"T_20b47_row3_col1\" class=\"data row3 col1\" >0.214230</td>\n",
       "                        <td id=\"T_20b47_row3_col2\" class=\"data row3 col2\" >1.104293</td>\n",
       "                        <td id=\"T_20b47_row3_col3\" class=\"data row3 col3\" >0.022343</td>\n",
       "                        <td id=\"T_20b47_row3_col4\" class=\"data row3 col4\" >0.450802</td>\n",
       "                        <td id=\"T_20b47_row3_col5\" class=\"data row3 col5\" >1464</td>\n",
       "                        <td id=\"T_20b47_row3_col6\" class=\"data row3 col6\" >0.134824</td>\n",
       "                        <td id=\"T_20b47_row3_col7\" class=\"data row3 col7\" >False</td>\n",
       "                        <td id=\"T_20b47_row3_col8\" class=\"data row3 col8\" >False</td>\n",
       "                        <td id=\"T_20b47_row3_col9\" class=\"data row3 col9\" >False</td>\n",
       "            </tr>\n",
       "            <tr>\n",
       "                        <th id=\"T_20b47_level0_row4\" class=\"row_heading level0 row4\" >x1x2</th>\n",
       "                        <td id=\"T_20b47_row4_col0\" class=\"data row4 col0\" >-0.416265</td>\n",
       "                        <td id=\"T_20b47_row4_col1\" class=\"data row4 col1\" >0.263945</td>\n",
       "                        <td id=\"T_20b47_row4_col2\" class=\"data row4 col2\" >-1.577088</td>\n",
       "                        <td id=\"T_20b47_row4_col3\" class=\"data row4 col3\" >-0.680210</td>\n",
       "                        <td id=\"T_20b47_row4_col4\" class=\"data row4 col4\" >-0.152320</td>\n",
       "                        <td id=\"T_20b47_row4_col5\" class=\"data row4 col5\" >1464</td>\n",
       "                        <td id=\"T_20b47_row4_col6\" class=\"data row4 col6\" >0.057496</td>\n",
       "                        <td id=\"T_20b47_row4_col7\" class=\"data row4 col7\" >True</td>\n",
       "                        <td id=\"T_20b47_row4_col8\" class=\"data row4 col8\" >False</td>\n",
       "                        <td id=\"T_20b47_row4_col9\" class=\"data row4 col9\" >False</td>\n",
       "            </tr>\n",
       "            <tr>\n",
       "                        <th id=\"T_20b47_level0_row5\" class=\"row_heading level0 row5\" >x1x3</th>\n",
       "                        <td id=\"T_20b47_row5_col0\" class=\"data row5 col0\" >-0.169315</td>\n",
       "                        <td id=\"T_20b47_row5_col1\" class=\"data row5 col1\" >0.222511</td>\n",
       "                        <td id=\"T_20b47_row5_col2\" class=\"data row5 col2\" >-0.760929</td>\n",
       "                        <td id=\"T_20b47_row5_col3\" class=\"data row5 col3\" >-0.391826</td>\n",
       "                        <td id=\"T_20b47_row5_col4\" class=\"data row5 col4\" >0.053196</td>\n",
       "                        <td id=\"T_20b47_row5_col5\" class=\"data row5 col5\" >1464</td>\n",
       "                        <td id=\"T_20b47_row5_col6\" class=\"data row5 col6\" >0.223411</td>\n",
       "                        <td id=\"T_20b47_row5_col7\" class=\"data row5 col7\" >False</td>\n",
       "                        <td id=\"T_20b47_row5_col8\" class=\"data row5 col8\" >False</td>\n",
       "                        <td id=\"T_20b47_row5_col9\" class=\"data row5 col9\" >False</td>\n",
       "            </tr>\n",
       "            <tr>\n",
       "                        <th id=\"T_20b47_level0_row6\" class=\"row_heading level0 row6\" >x2x3</th>\n",
       "                        <td id=\"T_20b47_row6_col0\" class=\"data row6 col0\" >-0.783907</td>\n",
       "                        <td id=\"T_20b47_row6_col1\" class=\"data row6 col1\" >0.310143</td>\n",
       "                        <td id=\"T_20b47_row6_col2\" class=\"data row6 col2\" >-2.527568</td>\n",
       "                        <td id=\"T_20b47_row6_col3\" class=\"data row6 col3\" >-1.094050</td>\n",
       "                        <td id=\"T_20b47_row6_col4\" class=\"data row6 col4\" >-0.473764</td>\n",
       "                        <td id=\"T_20b47_row6_col5\" class=\"data row6 col5\" >1464</td>\n",
       "                        <td id=\"T_20b47_row6_col6\" class=\"data row6 col6\" >0.005795</td>\n",
       "                        <td id=\"T_20b47_row6_col7\" class=\"data row6 col7\" >True</td>\n",
       "                        <td id=\"T_20b47_row6_col8\" class=\"data row6 col8\" >True</td>\n",
       "                        <td id=\"T_20b47_row6_col9\" class=\"data row6 col9\" >True</td>\n",
       "            </tr>\n",
       "            <tr>\n",
       "                        <th id=\"T_20b47_level0_row7\" class=\"row_heading level0 row7\" >x1x2x3</th>\n",
       "                        <td id=\"T_20b47_row7_col0\" class=\"data row7 col0\" >1.656283</td>\n",
       "                        <td id=\"T_20b47_row7_col1\" class=\"data row7 col1\" >0.339483</td>\n",
       "                        <td id=\"T_20b47_row7_col2\" class=\"data row7 col2\" >4.878836</td>\n",
       "                        <td id=\"T_20b47_row7_col3\" class=\"data row7 col3\" >1.316800</td>\n",
       "                        <td id=\"T_20b47_row7_col4\" class=\"data row7 col4\" >1.995766</td>\n",
       "                        <td id=\"T_20b47_row7_col5\" class=\"data row7 col5\" >1464</td>\n",
       "                        <td id=\"T_20b47_row7_col6\" class=\"data row7 col6\" >0.000001</td>\n",
       "                        <td id=\"T_20b47_row7_col7\" class=\"data row7 col7\" >True</td>\n",
       "                        <td id=\"T_20b47_row7_col8\" class=\"data row7 col8\" >True</td>\n",
       "                        <td id=\"T_20b47_row7_col9\" class=\"data row7 col9\" >True</td>\n",
       "            </tr>\n",
       "    </tbody></table>"
      ],
      "text/plain": [
       "<pandas.io.formats.style.Styler at 0x7f6c43ff4fd0>"
      ]
     },
     "execution_count": 11,
     "metadata": {},
     "output_type": "execute_result"
    }
   ],
   "source": [
    "import scipy.stats\n",
    "\n",
    "\n",
    "def get_color(s, n=10):\n",
    "    if s.loc['alpha=0.1']:\n",
    "        return ['background-color: rgb(255, 0, 0, 0.18)'] * n\n",
    "    else:\n",
    "        return [None] * n\n",
    "    \n",
    "def do_lreg(df, reg='none'):\n",
    "    sample = df.sample(df.shape[0], replace=True)\n",
    "    X_tr = sample[[c for c in sample.columns if c != 'y']]\n",
    "    y_tr = sample.y\n",
    "\n",
    "    lr = LogisticRegression(penalty='l2', solver='liblinear')\n",
    "    lr.fit(X_tr, y_tr)\n",
    "\n",
    "    params = [lr.intercept_[0]] +  list(lr.coef_[0])\n",
    "\n",
    "    return params\n",
    "\n",
    "def get_se(X, y, reg='none', index=['b', 'x1', 'x2', 'x3', 'x1x2', 'x1x3', 'x2x3', 'x1x2x3']):\n",
    "    lr = get_model(reg=reg)\n",
    "    lr.fit(X, y)\n",
    "\n",
    "    df = pd.DataFrame(X)\n",
    "    df['y'] = y\n",
    "\n",
    "    r_df = pd.DataFrame([do_lreg(df, reg=reg) for _ in range(100)])\n",
    "\n",
    "    w = [lr.intercept_[0]] + list(lr.coef_[0])\n",
    "    se = r_df.std()\n",
    "\n",
    "    dof = X.shape[0] - X.shape[1] - 1\n",
    "\n",
    "    summary = pd.DataFrame({\n",
    "        'w': w,\n",
    "        'se': se,\n",
    "        'z': w / se,\n",
    "        '.025': w - se,\n",
    "        '.975': w + se,\n",
    "        'df': [dof for _ in range(len(w))]\n",
    "    })\n",
    "\n",
    "    summary['P>|z|'] = scipy.stats.t.sf(abs(summary.z), df=summary.df)\n",
    "    summary['alpha=0.1'] = summary['P>|z|'].apply(lambda p: p <= 0.1)\n",
    "    summary['alpha=0.05'] = summary['P>|z|'].apply(lambda p: p <= 0.05)\n",
    "    summary['alpha=0.01'] = summary['P>|z|'].apply(lambda p: p <= 0.01)\n",
    "    summary.index = index\n",
    "\n",
    "    return summary.style.apply(get_color, axis=1)\n",
    "\n",
    "get_se(X, y, reg='none')"
   ]
  },
  {
   "cell_type": "markdown",
   "id": "responsible-gospel",
   "metadata": {},
   "source": [
    "### Lasso\n",
    "\n",
    "For Lasso, we set `C=0.5` (smaller values of C means stronger regularization). "
   ]
  },
  {
   "cell_type": "code",
   "execution_count": 12,
   "id": "expressed-stage",
   "metadata": {
    "execution": {
     "iopub.execute_input": "2022-01-26T06:01:53.282093Z",
     "iopub.status.busy": "2022-01-26T06:01:53.281984Z",
     "iopub.status.idle": "2022-01-26T06:01:53.380809Z",
     "shell.execute_reply": "2022-01-26T06:01:53.380385Z",
     "shell.execute_reply.started": "2022-01-26T06:01:53.282079Z"
    }
   },
   "outputs": [
    {
     "data": {
      "image/png": "[encoded data removed]",
      "text/plain": [
       "<Figure size 720x288 with 1 Axes>"
      ]
     },
     "metadata": {},
     "output_type": "display_data"
    }
   ],
   "source": [
    "model = get_model('l1')\n",
    "model.fit(X, y)\n",
    "\n",
    "plot_model(model, X, y, 'Lasso')"
   ]
  },
  {
   "cell_type": "code",
   "execution_count": 13,
   "id": "current-bulletin",
   "metadata": {
    "execution": {
     "iopub.execute_input": "2022-01-26T06:01:53.381572Z",
     "iopub.status.busy": "2022-01-26T06:01:53.381408Z",
     "iopub.status.idle": "2022-01-26T06:01:53.672417Z",
     "shell.execute_reply": "2022-01-26T06:01:53.672048Z",
     "shell.execute_reply.started": "2022-01-26T06:01:53.381541Z"
    }
   },
   "outputs": [
    {
     "data": {
      "text/html": [
       "<style  type=\"text/css\" >\n",
       "#T_a771b_row0_col0,#T_a771b_row0_col1,#T_a771b_row0_col2,#T_a771b_row0_col3,#T_a771b_row0_col4,#T_a771b_row0_col5,#T_a771b_row0_col6,#T_a771b_row0_col7,#T_a771b_row0_col8,#T_a771b_row0_col9,#T_a771b_row1_col0,#T_a771b_row1_col1,#T_a771b_row1_col2,#T_a771b_row1_col3,#T_a771b_row1_col4,#T_a771b_row1_col5,#T_a771b_row1_col6,#T_a771b_row1_col7,#T_a771b_row1_col8,#T_a771b_row1_col9,#T_a771b_row7_col0,#T_a771b_row7_col1,#T_a771b_row7_col2,#T_a771b_row7_col3,#T_a771b_row7_col4,#T_a771b_row7_col5,#T_a771b_row7_col6,#T_a771b_row7_col7,#T_a771b_row7_col8,#T_a771b_row7_col9{\n",
       "            background-color:  rgb(255, 0, 0, 0.18);\n",
       "        }</style><table id=\"T_a771b_\" ><thead>    <tr>        <th class=\"blank level0\" ></th>        <th class=\"col_heading level0 col0\" >w</th>        <th class=\"col_heading level0 col1\" >se</th>        <th class=\"col_heading level0 col2\" >z</th>        <th class=\"col_heading level0 col3\" >.025</th>        <th class=\"col_heading level0 col4\" >.975</th>        <th class=\"col_heading level0 col5\" >df</th>        <th class=\"col_heading level0 col6\" >P>|z|</th>        <th class=\"col_heading level0 col7\" >alpha=0.1</th>        <th class=\"col_heading level0 col8\" >alpha=0.05</th>        <th class=\"col_heading level0 col9\" >alpha=0.01</th>    </tr></thead><tbody>\n",
       "                <tr>\n",
       "                        <th id=\"T_a771b_level0_row0\" class=\"row_heading level0 row0\" >b</th>\n",
       "                        <td id=\"T_a771b_row0_col0\" class=\"data row0 col0\" >-0.420358</td>\n",
       "                        <td id=\"T_a771b_row0_col1\" class=\"data row0 col1\" >0.166721</td>\n",
       "                        <td id=\"T_a771b_row0_col2\" class=\"data row0 col2\" >-2.521326</td>\n",
       "                        <td id=\"T_a771b_row0_col3\" class=\"data row0 col3\" >-0.587079</td>\n",
       "                        <td id=\"T_a771b_row0_col4\" class=\"data row0 col4\" >-0.253637</td>\n",
       "                        <td id=\"T_a771b_row0_col5\" class=\"data row0 col5\" >1464</td>\n",
       "                        <td id=\"T_a771b_row0_col6\" class=\"data row0 col6\" >0.005898</td>\n",
       "                        <td id=\"T_a771b_row0_col7\" class=\"data row0 col7\" >True</td>\n",
       "                        <td id=\"T_a771b_row0_col8\" class=\"data row0 col8\" >True</td>\n",
       "                        <td id=\"T_a771b_row0_col9\" class=\"data row0 col9\" >True</td>\n",
       "            </tr>\n",
       "            <tr>\n",
       "                        <th id=\"T_a771b_level0_row1\" class=\"row_heading level0 row1\" >x1</th>\n",
       "                        <td id=\"T_a771b_row1_col0\" class=\"data row1 col0\" >0.375508</td>\n",
       "                        <td id=\"T_a771b_row1_col1\" class=\"data row1 col1\" >0.200176</td>\n",
       "                        <td id=\"T_a771b_row1_col2\" class=\"data row1 col2\" >1.875885</td>\n",
       "                        <td id=\"T_a771b_row1_col3\" class=\"data row1 col3\" >0.175331</td>\n",
       "                        <td id=\"T_a771b_row1_col4\" class=\"data row1 col4\" >0.575684</td>\n",
       "                        <td id=\"T_a771b_row1_col5\" class=\"data row1 col5\" >1464</td>\n",
       "                        <td id=\"T_a771b_row1_col6\" class=\"data row1 col6\" >0.030435</td>\n",
       "                        <td id=\"T_a771b_row1_col7\" class=\"data row1 col7\" >True</td>\n",
       "                        <td id=\"T_a771b_row1_col8\" class=\"data row1 col8\" >True</td>\n",
       "                        <td id=\"T_a771b_row1_col9\" class=\"data row1 col9\" >False</td>\n",
       "            </tr>\n",
       "            <tr>\n",
       "                        <th id=\"T_a771b_level0_row2\" class=\"row_heading level0 row2\" >x2</th>\n",
       "                        <td id=\"T_a771b_row2_col0\" class=\"data row2 col0\" >0.000000</td>\n",
       "                        <td id=\"T_a771b_row2_col1\" class=\"data row2 col1\" >0.251915</td>\n",
       "                        <td id=\"T_a771b_row2_col2\" class=\"data row2 col2\" >0.000000</td>\n",
       "                        <td id=\"T_a771b_row2_col3\" class=\"data row2 col3\" >-0.251915</td>\n",
       "                        <td id=\"T_a771b_row2_col4\" class=\"data row2 col4\" >0.251915</td>\n",
       "                        <td id=\"T_a771b_row2_col5\" class=\"data row2 col5\" >1464</td>\n",
       "                        <td id=\"T_a771b_row2_col6\" class=\"data row2 col6\" >0.500000</td>\n",
       "                        <td id=\"T_a771b_row2_col7\" class=\"data row2 col7\" >False</td>\n",
       "                        <td id=\"T_a771b_row2_col8\" class=\"data row2 col8\" >False</td>\n",
       "                        <td id=\"T_a771b_row2_col9\" class=\"data row2 col9\" >False</td>\n",
       "            </tr>\n",
       "            <tr>\n",
       "                        <th id=\"T_a771b_level0_row3\" class=\"row_heading level0 row3\" >x3</th>\n",
       "                        <td id=\"T_a771b_row3_col0\" class=\"data row3 col0\" >0.000000</td>\n",
       "                        <td id=\"T_a771b_row3_col1\" class=\"data row3 col1\" >0.209894</td>\n",
       "                        <td id=\"T_a771b_row3_col2\" class=\"data row3 col2\" >0.000000</td>\n",
       "                        <td id=\"T_a771b_row3_col3\" class=\"data row3 col3\" >-0.209894</td>\n",
       "                        <td id=\"T_a771b_row3_col4\" class=\"data row3 col4\" >0.209894</td>\n",
       "                        <td id=\"T_a771b_row3_col5\" class=\"data row3 col5\" >1464</td>\n",
       "                        <td id=\"T_a771b_row3_col6\" class=\"data row3 col6\" >0.500000</td>\n",
       "                        <td id=\"T_a771b_row3_col7\" class=\"data row3 col7\" >False</td>\n",
       "                        <td id=\"T_a771b_row3_col8\" class=\"data row3 col8\" >False</td>\n",
       "                        <td id=\"T_a771b_row3_col9\" class=\"data row3 col9\" >False</td>\n",
       "            </tr>\n",
       "            <tr>\n",
       "                        <th id=\"T_a771b_level0_row4\" class=\"row_heading level0 row4\" >x1x2</th>\n",
       "                        <td id=\"T_a771b_row4_col0\" class=\"data row4 col0\" >0.000000</td>\n",
       "                        <td id=\"T_a771b_row4_col1\" class=\"data row4 col1\" >0.289023</td>\n",
       "                        <td id=\"T_a771b_row4_col2\" class=\"data row4 col2\" >0.000000</td>\n",
       "                        <td id=\"T_a771b_row4_col3\" class=\"data row4 col3\" >-0.289023</td>\n",
       "                        <td id=\"T_a771b_row4_col4\" class=\"data row4 col4\" >0.289023</td>\n",
       "                        <td id=\"T_a771b_row4_col5\" class=\"data row4 col5\" >1464</td>\n",
       "                        <td id=\"T_a771b_row4_col6\" class=\"data row4 col6\" >0.500000</td>\n",
       "                        <td id=\"T_a771b_row4_col7\" class=\"data row4 col7\" >False</td>\n",
       "                        <td id=\"T_a771b_row4_col8\" class=\"data row4 col8\" >False</td>\n",
       "                        <td id=\"T_a771b_row4_col9\" class=\"data row4 col9\" >False</td>\n",
       "            </tr>\n",
       "            <tr>\n",
       "                        <th id=\"T_a771b_level0_row5\" class=\"row_heading level0 row5\" >x1x3</th>\n",
       "                        <td id=\"T_a771b_row5_col0\" class=\"data row5 col0\" >0.098222</td>\n",
       "                        <td id=\"T_a771b_row5_col1\" class=\"data row5 col1\" >0.236102</td>\n",
       "                        <td id=\"T_a771b_row5_col2\" class=\"data row5 col2\" >0.416015</td>\n",
       "                        <td id=\"T_a771b_row5_col3\" class=\"data row5 col3\" >-0.137880</td>\n",
       "                        <td id=\"T_a771b_row5_col4\" class=\"data row5 col4\" >0.334323</td>\n",
       "                        <td id=\"T_a771b_row5_col5\" class=\"data row5 col5\" >1464</td>\n",
       "                        <td id=\"T_a771b_row5_col6\" class=\"data row5 col6\" >0.338730</td>\n",
       "                        <td id=\"T_a771b_row5_col7\" class=\"data row5 col7\" >False</td>\n",
       "                        <td id=\"T_a771b_row5_col8\" class=\"data row5 col8\" >False</td>\n",
       "                        <td id=\"T_a771b_row5_col9\" class=\"data row5 col9\" >False</td>\n",
       "            </tr>\n",
       "            <tr>\n",
       "                        <th id=\"T_a771b_level0_row6\" class=\"row_heading level0 row6\" >x2x3</th>\n",
       "                        <td id=\"T_a771b_row6_col0\" class=\"data row6 col0\" >-0.167419</td>\n",
       "                        <td id=\"T_a771b_row6_col1\" class=\"data row6 col1\" >0.291617</td>\n",
       "                        <td id=\"T_a771b_row6_col2\" class=\"data row6 col2\" >-0.574107</td>\n",
       "                        <td id=\"T_a771b_row6_col3\" class=\"data row6 col3\" >-0.459036</td>\n",
       "                        <td id=\"T_a771b_row6_col4\" class=\"data row6 col4\" >0.124198</td>\n",
       "                        <td id=\"T_a771b_row6_col5\" class=\"data row6 col5\" >1464</td>\n",
       "                        <td id=\"T_a771b_row6_col6\" class=\"data row6 col6\" >0.282992</td>\n",
       "                        <td id=\"T_a771b_row6_col7\" class=\"data row6 col7\" >False</td>\n",
       "                        <td id=\"T_a771b_row6_col8\" class=\"data row6 col8\" >False</td>\n",
       "                        <td id=\"T_a771b_row6_col9\" class=\"data row6 col9\" >False</td>\n",
       "            </tr>\n",
       "            <tr>\n",
       "                        <th id=\"T_a771b_level0_row7\" class=\"row_heading level0 row7\" >x1x2x3</th>\n",
       "                        <td id=\"T_a771b_row7_col0\" class=\"data row7 col0\" >0.908034</td>\n",
       "                        <td id=\"T_a771b_row7_col1\" class=\"data row7 col1\" >0.295729</td>\n",
       "                        <td id=\"T_a771b_row7_col2\" class=\"data row7 col2\" >3.070498</td>\n",
       "                        <td id=\"T_a771b_row7_col3\" class=\"data row7 col3\" >0.612306</td>\n",
       "                        <td id=\"T_a771b_row7_col4\" class=\"data row7 col4\" >1.203763</td>\n",
       "                        <td id=\"T_a771b_row7_col5\" class=\"data row7 col5\" >1464</td>\n",
       "                        <td id=\"T_a771b_row7_col6\" class=\"data row7 col6\" >0.001088</td>\n",
       "                        <td id=\"T_a771b_row7_col7\" class=\"data row7 col7\" >True</td>\n",
       "                        <td id=\"T_a771b_row7_col8\" class=\"data row7 col8\" >True</td>\n",
       "                        <td id=\"T_a771b_row7_col9\" class=\"data row7 col9\" >True</td>\n",
       "            </tr>\n",
       "    </tbody></table>"
      ],
      "text/plain": [
       "<pandas.io.formats.style.Styler at 0x7f6c44bd3eb0>"
      ]
     },
     "execution_count": 13,
     "metadata": {},
     "output_type": "execute_result"
    }
   ],
   "source": [
    "get_se(X, y, reg='l1')"
   ]
  },
  {
   "cell_type": "markdown",
   "id": "conscious-notification",
   "metadata": {},
   "source": [
    "## Ridge"
   ]
  },
  {
   "cell_type": "code",
   "execution_count": 14,
   "id": "specified-forum",
   "metadata": {
    "execution": {
     "iopub.execute_input": "2022-01-26T06:01:53.672968Z",
     "iopub.status.busy": "2022-01-26T06:01:53.672863Z",
     "iopub.status.idle": "2022-01-26T06:01:53.774452Z",
     "shell.execute_reply": "2022-01-26T06:01:53.773946Z",
     "shell.execute_reply.started": "2022-01-26T06:01:53.672954Z"
    }
   },
   "outputs": [
    {
     "data": {
      "image/png": "[encoded data removed]",
      "text/plain": [
       "<Figure size 720x288 with 1 Axes>"
      ]
     },
     "metadata": {},
     "output_type": "display_data"
    }
   ],
   "source": [
    "model = get_model('l2')\n",
    "model.fit(X, y)\n",
    "\n",
    "plot_model(model, X, y, 'Ridge')"
   ]
  },
  {
   "cell_type": "code",
   "execution_count": 15,
   "id": "congressional-taiwan",
   "metadata": {
    "execution": {
     "iopub.execute_input": "2022-01-26T06:01:53.775171Z",
     "iopub.status.busy": "2022-01-26T06:01:53.775047Z",
     "iopub.status.idle": "2022-01-26T06:01:54.087339Z",
     "shell.execute_reply": "2022-01-26T06:01:54.086920Z",
     "shell.execute_reply.started": "2022-01-26T06:01:53.775156Z"
    }
   },
   "outputs": [
    {
     "data": {
      "text/html": [
       "<style  type=\"text/css\" >\n",
       "#T_a94eb_row0_col0,#T_a94eb_row0_col1,#T_a94eb_row0_col2,#T_a94eb_row0_col3,#T_a94eb_row0_col4,#T_a94eb_row0_col5,#T_a94eb_row0_col6,#T_a94eb_row0_col7,#T_a94eb_row0_col8,#T_a94eb_row0_col9,#T_a94eb_row1_col0,#T_a94eb_row1_col1,#T_a94eb_row1_col2,#T_a94eb_row1_col3,#T_a94eb_row1_col4,#T_a94eb_row1_col5,#T_a94eb_row1_col6,#T_a94eb_row1_col7,#T_a94eb_row1_col8,#T_a94eb_row1_col9,#T_a94eb_row6_col0,#T_a94eb_row6_col1,#T_a94eb_row6_col2,#T_a94eb_row6_col3,#T_a94eb_row6_col4,#T_a94eb_row6_col5,#T_a94eb_row6_col6,#T_a94eb_row6_col7,#T_a94eb_row6_col8,#T_a94eb_row6_col9,#T_a94eb_row7_col0,#T_a94eb_row7_col1,#T_a94eb_row7_col2,#T_a94eb_row7_col3,#T_a94eb_row7_col4,#T_a94eb_row7_col5,#T_a94eb_row7_col6,#T_a94eb_row7_col7,#T_a94eb_row7_col8,#T_a94eb_row7_col9{\n",
       "            background-color:  rgb(255, 0, 0, 0.18);\n",
       "        }</style><table id=\"T_a94eb_\" ><thead>    <tr>        <th class=\"blank level0\" ></th>        <th class=\"col_heading level0 col0\" >w</th>        <th class=\"col_heading level0 col1\" >se</th>        <th class=\"col_heading level0 col2\" >z</th>        <th class=\"col_heading level0 col3\" >.025</th>        <th class=\"col_heading level0 col4\" >.975</th>        <th class=\"col_heading level0 col5\" >df</th>        <th class=\"col_heading level0 col6\" >P>|z|</th>        <th class=\"col_heading level0 col7\" >alpha=0.1</th>        <th class=\"col_heading level0 col8\" >alpha=0.05</th>        <th class=\"col_heading level0 col9\" >alpha=0.01</th>    </tr></thead><tbody>\n",
       "                <tr>\n",
       "                        <th id=\"T_a94eb_level0_row0\" class=\"row_heading level0 row0\" >b</th>\n",
       "                        <td id=\"T_a94eb_row0_col0\" class=\"data row0 col0\" >-0.462740</td>\n",
       "                        <td id=\"T_a94eb_row0_col1\" class=\"data row0 col1\" >0.175730</td>\n",
       "                        <td id=\"T_a94eb_row0_col2\" class=\"data row0 col2\" >-2.633252</td>\n",
       "                        <td id=\"T_a94eb_row0_col3\" class=\"data row0 col3\" >-0.638470</td>\n",
       "                        <td id=\"T_a94eb_row0_col4\" class=\"data row0 col4\" >-0.287011</td>\n",
       "                        <td id=\"T_a94eb_row0_col5\" class=\"data row0 col5\" >1464</td>\n",
       "                        <td id=\"T_a94eb_row0_col6\" class=\"data row0 col6\" >0.004273</td>\n",
       "                        <td id=\"T_a94eb_row0_col7\" class=\"data row0 col7\" >True</td>\n",
       "                        <td id=\"T_a94eb_row0_col8\" class=\"data row0 col8\" >True</td>\n",
       "                        <td id=\"T_a94eb_row0_col9\" class=\"data row0 col9\" >True</td>\n",
       "            </tr>\n",
       "            <tr>\n",
       "                        <th id=\"T_a94eb_level0_row1\" class=\"row_heading level0 row1\" >x1</th>\n",
       "                        <td id=\"T_a94eb_row1_col0\" class=\"data row1 col0\" >0.425048</td>\n",
       "                        <td id=\"T_a94eb_row1_col1\" class=\"data row1 col1\" >0.204961</td>\n",
       "                        <td id=\"T_a94eb_row1_col2\" class=\"data row1 col2\" >2.073805</td>\n",
       "                        <td id=\"T_a94eb_row1_col3\" class=\"data row1 col3\" >0.220088</td>\n",
       "                        <td id=\"T_a94eb_row1_col4\" class=\"data row1 col4\" >0.630009</td>\n",
       "                        <td id=\"T_a94eb_row1_col5\" class=\"data row1 col5\" >1464</td>\n",
       "                        <td id=\"T_a94eb_row1_col6\" class=\"data row1 col6\" >0.019136</td>\n",
       "                        <td id=\"T_a94eb_row1_col7\" class=\"data row1 col7\" >True</td>\n",
       "                        <td id=\"T_a94eb_row1_col8\" class=\"data row1 col8\" >True</td>\n",
       "                        <td id=\"T_a94eb_row1_col9\" class=\"data row1 col9\" >False</td>\n",
       "            </tr>\n",
       "            <tr>\n",
       "                        <th id=\"T_a94eb_level0_row2\" class=\"row_heading level0 row2\" >x2</th>\n",
       "                        <td id=\"T_a94eb_row2_col0\" class=\"data row2 col0\" >0.101487</td>\n",
       "                        <td id=\"T_a94eb_row2_col1\" class=\"data row2 col1\" >0.216946</td>\n",
       "                        <td id=\"T_a94eb_row2_col2\" class=\"data row2 col2\" >0.467796</td>\n",
       "                        <td id=\"T_a94eb_row2_col3\" class=\"data row2 col3\" >-0.115460</td>\n",
       "                        <td id=\"T_a94eb_row2_col4\" class=\"data row2 col4\" >0.318433</td>\n",
       "                        <td id=\"T_a94eb_row2_col5\" class=\"data row2 col5\" >1464</td>\n",
       "                        <td id=\"T_a94eb_row2_col6\" class=\"data row2 col6\" >0.320000</td>\n",
       "                        <td id=\"T_a94eb_row2_col7\" class=\"data row2 col7\" >False</td>\n",
       "                        <td id=\"T_a94eb_row2_col8\" class=\"data row2 col8\" >False</td>\n",
       "                        <td id=\"T_a94eb_row2_col9\" class=\"data row2 col9\" >False</td>\n",
       "            </tr>\n",
       "            <tr>\n",
       "                        <th id=\"T_a94eb_level0_row3\" class=\"row_heading level0 row3\" >x3</th>\n",
       "                        <td id=\"T_a94eb_row3_col0\" class=\"data row3 col0\" >0.062668</td>\n",
       "                        <td id=\"T_a94eb_row3_col1\" class=\"data row3 col1\" >0.207855</td>\n",
       "                        <td id=\"T_a94eb_row3_col2\" class=\"data row3 col2\" >0.301500</td>\n",
       "                        <td id=\"T_a94eb_row3_col3\" class=\"data row3 col3\" >-0.145187</td>\n",
       "                        <td id=\"T_a94eb_row3_col4\" class=\"data row3 col4\" >0.270523</td>\n",
       "                        <td id=\"T_a94eb_row3_col5\" class=\"data row3 col5\" >1464</td>\n",
       "                        <td id=\"T_a94eb_row3_col6\" class=\"data row3 col6\" >0.381538</td>\n",
       "                        <td id=\"T_a94eb_row3_col7\" class=\"data row3 col7\" >False</td>\n",
       "                        <td id=\"T_a94eb_row3_col8\" class=\"data row3 col8\" >False</td>\n",
       "                        <td id=\"T_a94eb_row3_col9\" class=\"data row3 col9\" >False</td>\n",
       "            </tr>\n",
       "            <tr>\n",
       "                        <th id=\"T_a94eb_level0_row4\" class=\"row_heading level0 row4\" >x1x2</th>\n",
       "                        <td id=\"T_a94eb_row4_col0\" class=\"data row4 col0\" >-0.131538</td>\n",
       "                        <td id=\"T_a94eb_row4_col1\" class=\"data row4 col1\" >0.239866</td>\n",
       "                        <td id=\"T_a94eb_row4_col2\" class=\"data row4 col2\" >-0.548383</td>\n",
       "                        <td id=\"T_a94eb_row4_col3\" class=\"data row4 col3\" >-0.371404</td>\n",
       "                        <td id=\"T_a94eb_row4_col4\" class=\"data row4 col4\" >0.108328</td>\n",
       "                        <td id=\"T_a94eb_row4_col5\" class=\"data row4 col5\" >1464</td>\n",
       "                        <td id=\"T_a94eb_row4_col6\" class=\"data row4 col6\" >0.291756</td>\n",
       "                        <td id=\"T_a94eb_row4_col7\" class=\"data row4 col7\" >False</td>\n",
       "                        <td id=\"T_a94eb_row4_col8\" class=\"data row4 col8\" >False</td>\n",
       "                        <td id=\"T_a94eb_row4_col9\" class=\"data row4 col9\" >False</td>\n",
       "            </tr>\n",
       "            <tr>\n",
       "                        <th id=\"T_a94eb_level0_row5\" class=\"row_heading level0 row5\" >x1x3</th>\n",
       "                        <td id=\"T_a94eb_row5_col0\" class=\"data row5 col0\" >0.038639</td>\n",
       "                        <td id=\"T_a94eb_row5_col1\" class=\"data row5 col1\" >0.237860</td>\n",
       "                        <td id=\"T_a94eb_row5_col2\" class=\"data row5 col2\" >0.162446</td>\n",
       "                        <td id=\"T_a94eb_row5_col3\" class=\"data row5 col3\" >-0.199221</td>\n",
       "                        <td id=\"T_a94eb_row5_col4\" class=\"data row5 col4\" >0.276499</td>\n",
       "                        <td id=\"T_a94eb_row5_col5\" class=\"data row5 col5\" >1464</td>\n",
       "                        <td id=\"T_a94eb_row5_col6\" class=\"data row5 col6\" >0.435488</td>\n",
       "                        <td id=\"T_a94eb_row5_col7\" class=\"data row5 col7\" >False</td>\n",
       "                        <td id=\"T_a94eb_row5_col8\" class=\"data row5 col8\" >False</td>\n",
       "                        <td id=\"T_a94eb_row5_col9\" class=\"data row5 col9\" >False</td>\n",
       "            </tr>\n",
       "            <tr>\n",
       "                        <th id=\"T_a94eb_level0_row6\" class=\"row_heading level0 row6\" >x2x3</th>\n",
       "                        <td id=\"T_a94eb_row6_col0\" class=\"data row6 col0\" >-0.415528</td>\n",
       "                        <td id=\"T_a94eb_row6_col1\" class=\"data row6 col1\" >0.281250</td>\n",
       "                        <td id=\"T_a94eb_row6_col2\" class=\"data row6 col2\" >-1.477431</td>\n",
       "                        <td id=\"T_a94eb_row6_col3\" class=\"data row6 col3\" >-0.696778</td>\n",
       "                        <td id=\"T_a94eb_row6_col4\" class=\"data row6 col4\" >-0.134278</td>\n",
       "                        <td id=\"T_a94eb_row6_col5\" class=\"data row6 col5\" >1464</td>\n",
       "                        <td id=\"T_a94eb_row6_col6\" class=\"data row6 col6\" >0.069888</td>\n",
       "                        <td id=\"T_a94eb_row6_col7\" class=\"data row6 col7\" >True</td>\n",
       "                        <td id=\"T_a94eb_row6_col8\" class=\"data row6 col8\" >False</td>\n",
       "                        <td id=\"T_a94eb_row6_col9\" class=\"data row6 col9\" >False</td>\n",
       "            </tr>\n",
       "            <tr>\n",
       "                        <th id=\"T_a94eb_level0_row7\" class=\"row_heading level0 row7\" >x1x2x3</th>\n",
       "                        <td id=\"T_a94eb_row7_col0\" class=\"data row7 col0\" >1.193718</td>\n",
       "                        <td id=\"T_a94eb_row7_col1\" class=\"data row7 col1\" >0.303616</td>\n",
       "                        <td id=\"T_a94eb_row7_col2\" class=\"data row7 col2\" >3.931668</td>\n",
       "                        <td id=\"T_a94eb_row7_col3\" class=\"data row7 col3\" >0.890102</td>\n",
       "                        <td id=\"T_a94eb_row7_col4\" class=\"data row7 col4\" >1.497334</td>\n",
       "                        <td id=\"T_a94eb_row7_col5\" class=\"data row7 col5\" >1464</td>\n",
       "                        <td id=\"T_a94eb_row7_col6\" class=\"data row7 col6\" >0.000044</td>\n",
       "                        <td id=\"T_a94eb_row7_col7\" class=\"data row7 col7\" >True</td>\n",
       "                        <td id=\"T_a94eb_row7_col8\" class=\"data row7 col8\" >True</td>\n",
       "                        <td id=\"T_a94eb_row7_col9\" class=\"data row7 col9\" >True</td>\n",
       "            </tr>\n",
       "    </tbody></table>"
      ],
      "text/plain": [
       "<pandas.io.formats.style.Styler at 0x7f6c4407b910>"
      ]
     },
     "execution_count": 15,
     "metadata": {},
     "output_type": "execute_result"
    }
   ],
   "source": [
    "get_se(X, y, reg='l2')"
   ]
  },
  {
   "cell_type": "markdown",
   "id": "macro-penetration",
   "metadata": {},
   "source": [
    "### Elasticnet\n",
    "\n",
    "Take note of the `l1_ratio`; a value closer to 0 favors Ridge and a value closer to 1 favors Lasso."
   ]
  },
  {
   "cell_type": "code",
   "execution_count": 16,
   "id": "thirty-cross",
   "metadata": {
    "execution": {
     "iopub.execute_input": "2022-01-26T06:01:54.088242Z",
     "iopub.status.busy": "2022-01-26T06:01:54.088064Z",
     "iopub.status.idle": "2022-01-26T06:01:54.201961Z",
     "shell.execute_reply": "2022-01-26T06:01:54.201576Z",
     "shell.execute_reply.started": "2022-01-26T06:01:54.088218Z"
    }
   },
   "outputs": [
    {
     "data": {
      "image/png": "[encoded data removed]",
      "text/plain": [
       "<Figure size 720x288 with 1 Axes>"
      ]
     },
     "metadata": {},
     "output_type": "display_data"
    }
   ],
   "source": [
    "model = get_model('elasticnet')\n",
    "model.fit(X, y)\n",
    "\n",
    "plot_model(model, X, y, 'ElasticNet')"
   ]
  },
  {
   "cell_type": "code",
   "execution_count": 17,
   "id": "sought-product",
   "metadata": {
    "execution": {
     "iopub.execute_input": "2022-01-26T06:01:54.202900Z",
     "iopub.status.busy": "2022-01-26T06:01:54.202730Z",
     "iopub.status.idle": "2022-01-26T06:01:54.495635Z",
     "shell.execute_reply": "2022-01-26T06:01:54.495261Z",
     "shell.execute_reply.started": "2022-01-26T06:01:54.202879Z"
    }
   },
   "outputs": [
    {
     "data": {
      "text/html": [
       "<style  type=\"text/css\" >\n",
       "#T_2d221_row0_col0,#T_2d221_row0_col1,#T_2d221_row0_col2,#T_2d221_row0_col3,#T_2d221_row0_col4,#T_2d221_row0_col5,#T_2d221_row0_col6,#T_2d221_row0_col7,#T_2d221_row0_col8,#T_2d221_row0_col9,#T_2d221_row1_col0,#T_2d221_row1_col1,#T_2d221_row1_col2,#T_2d221_row1_col3,#T_2d221_row1_col4,#T_2d221_row1_col5,#T_2d221_row1_col6,#T_2d221_row1_col7,#T_2d221_row1_col8,#T_2d221_row1_col9,#T_2d221_row7_col0,#T_2d221_row7_col1,#T_2d221_row7_col2,#T_2d221_row7_col3,#T_2d221_row7_col4,#T_2d221_row7_col5,#T_2d221_row7_col6,#T_2d221_row7_col7,#T_2d221_row7_col8,#T_2d221_row7_col9{\n",
       "            background-color:  rgb(255, 0, 0, 0.18);\n",
       "        }</style><table id=\"T_2d221_\" ><thead>    <tr>        <th class=\"blank level0\" ></th>        <th class=\"col_heading level0 col0\" >w</th>        <th class=\"col_heading level0 col1\" >se</th>        <th class=\"col_heading level0 col2\" >z</th>        <th class=\"col_heading level0 col3\" >.025</th>        <th class=\"col_heading level0 col4\" >.975</th>        <th class=\"col_heading level0 col5\" >df</th>        <th class=\"col_heading level0 col6\" >P>|z|</th>        <th class=\"col_heading level0 col7\" >alpha=0.1</th>        <th class=\"col_heading level0 col8\" >alpha=0.05</th>        <th class=\"col_heading level0 col9\" >alpha=0.01</th>    </tr></thead><tbody>\n",
       "                <tr>\n",
       "                        <th id=\"T_2d221_level0_row0\" class=\"row_heading level0 row0\" >b</th>\n",
       "                        <td id=\"T_2d221_row0_col0\" class=\"data row0 col0\" >-0.407891</td>\n",
       "                        <td id=\"T_2d221_row0_col1\" class=\"data row0 col1\" >0.184328</td>\n",
       "                        <td id=\"T_2d221_row0_col2\" class=\"data row0 col2\" >-2.212850</td>\n",
       "                        <td id=\"T_2d221_row0_col3\" class=\"data row0 col3\" >-0.592219</td>\n",
       "                        <td id=\"T_2d221_row0_col4\" class=\"data row0 col4\" >-0.223562</td>\n",
       "                        <td id=\"T_2d221_row0_col5\" class=\"data row0 col5\" >1464</td>\n",
       "                        <td id=\"T_2d221_row0_col6\" class=\"data row0 col6\" >0.013531</td>\n",
       "                        <td id=\"T_2d221_row0_col7\" class=\"data row0 col7\" >True</td>\n",
       "                        <td id=\"T_2d221_row0_col8\" class=\"data row0 col8\" >True</td>\n",
       "                        <td id=\"T_2d221_row0_col9\" class=\"data row0 col9\" >False</td>\n",
       "            </tr>\n",
       "            <tr>\n",
       "                        <th id=\"T_2d221_level0_row1\" class=\"row_heading level0 row1\" >x1</th>\n",
       "                        <td id=\"T_2d221_row1_col0\" class=\"data row1 col0\" >0.369559</td>\n",
       "                        <td id=\"T_2d221_row1_col1\" class=\"data row1 col1\" >0.195380</td>\n",
       "                        <td id=\"T_2d221_row1_col2\" class=\"data row1 col2\" >1.891485</td>\n",
       "                        <td id=\"T_2d221_row1_col3\" class=\"data row1 col3\" >0.174178</td>\n",
       "                        <td id=\"T_2d221_row1_col4\" class=\"data row1 col4\" >0.564939</td>\n",
       "                        <td id=\"T_2d221_row1_col5\" class=\"data row1 col5\" >1464</td>\n",
       "                        <td id=\"T_2d221_row1_col6\" class=\"data row1 col6\" >0.029378</td>\n",
       "                        <td id=\"T_2d221_row1_col7\" class=\"data row1 col7\" >True</td>\n",
       "                        <td id=\"T_2d221_row1_col8\" class=\"data row1 col8\" >True</td>\n",
       "                        <td id=\"T_2d221_row1_col9\" class=\"data row1 col9\" >False</td>\n",
       "            </tr>\n",
       "            <tr>\n",
       "                        <th id=\"T_2d221_level0_row2\" class=\"row_heading level0 row2\" >x2</th>\n",
       "                        <td id=\"T_2d221_row2_col0\" class=\"data row2 col0\" >0.000000</td>\n",
       "                        <td id=\"T_2d221_row2_col1\" class=\"data row2 col1\" >0.235972</td>\n",
       "                        <td id=\"T_2d221_row2_col2\" class=\"data row2 col2\" >0.000000</td>\n",
       "                        <td id=\"T_2d221_row2_col3\" class=\"data row2 col3\" >-0.235972</td>\n",
       "                        <td id=\"T_2d221_row2_col4\" class=\"data row2 col4\" >0.235972</td>\n",
       "                        <td id=\"T_2d221_row2_col5\" class=\"data row2 col5\" >1464</td>\n",
       "                        <td id=\"T_2d221_row2_col6\" class=\"data row2 col6\" >0.500000</td>\n",
       "                        <td id=\"T_2d221_row2_col7\" class=\"data row2 col7\" >False</td>\n",
       "                        <td id=\"T_2d221_row2_col8\" class=\"data row2 col8\" >False</td>\n",
       "                        <td id=\"T_2d221_row2_col9\" class=\"data row2 col9\" >False</td>\n",
       "            </tr>\n",
       "            <tr>\n",
       "                        <th id=\"T_2d221_level0_row3\" class=\"row_heading level0 row3\" >x3</th>\n",
       "                        <td id=\"T_2d221_row3_col0\" class=\"data row3 col0\" >0.004957</td>\n",
       "                        <td id=\"T_2d221_row3_col1\" class=\"data row3 col1\" >0.210079</td>\n",
       "                        <td id=\"T_2d221_row3_col2\" class=\"data row3 col2\" >0.023597</td>\n",
       "                        <td id=\"T_2d221_row3_col3\" class=\"data row3 col3\" >-0.205122</td>\n",
       "                        <td id=\"T_2d221_row3_col4\" class=\"data row3 col4\" >0.215036</td>\n",
       "                        <td id=\"T_2d221_row3_col5\" class=\"data row3 col5\" >1464</td>\n",
       "                        <td id=\"T_2d221_row3_col6\" class=\"data row3 col6\" >0.490589</td>\n",
       "                        <td id=\"T_2d221_row3_col7\" class=\"data row3 col7\" >False</td>\n",
       "                        <td id=\"T_2d221_row3_col8\" class=\"data row3 col8\" >False</td>\n",
       "                        <td id=\"T_2d221_row3_col9\" class=\"data row3 col9\" >False</td>\n",
       "            </tr>\n",
       "            <tr>\n",
       "                        <th id=\"T_2d221_level0_row4\" class=\"row_heading level0 row4\" >x1x2</th>\n",
       "                        <td id=\"T_2d221_row4_col0\" class=\"data row4 col0\" >-0.021526</td>\n",
       "                        <td id=\"T_2d221_row4_col1\" class=\"data row4 col1\" >0.277795</td>\n",
       "                        <td id=\"T_2d221_row4_col2\" class=\"data row4 col2\" >-0.077490</td>\n",
       "                        <td id=\"T_2d221_row4_col3\" class=\"data row4 col3\" >-0.299322</td>\n",
       "                        <td id=\"T_2d221_row4_col4\" class=\"data row4 col4\" >0.256269</td>\n",
       "                        <td id=\"T_2d221_row4_col5\" class=\"data row4 col5\" >1464</td>\n",
       "                        <td id=\"T_2d221_row4_col6\" class=\"data row4 col6\" >0.469122</td>\n",
       "                        <td id=\"T_2d221_row4_col7\" class=\"data row4 col7\" >False</td>\n",
       "                        <td id=\"T_2d221_row4_col8\" class=\"data row4 col8\" >False</td>\n",
       "                        <td id=\"T_2d221_row4_col9\" class=\"data row4 col9\" >False</td>\n",
       "            </tr>\n",
       "            <tr>\n",
       "                        <th id=\"T_2d221_level0_row5\" class=\"row_heading level0 row5\" >x1x3</th>\n",
       "                        <td id=\"T_2d221_row5_col0\" class=\"data row5 col0\" >0.090115</td>\n",
       "                        <td id=\"T_2d221_row5_col1\" class=\"data row5 col1\" >0.246376</td>\n",
       "                        <td id=\"T_2d221_row5_col2\" class=\"data row5 col2\" >0.365763</td>\n",
       "                        <td id=\"T_2d221_row5_col3\" class=\"data row5 col3\" >-0.156261</td>\n",
       "                        <td id=\"T_2d221_row5_col4\" class=\"data row5 col4\" >0.336491</td>\n",
       "                        <td id=\"T_2d221_row5_col5\" class=\"data row5 col5\" >1464</td>\n",
       "                        <td id=\"T_2d221_row5_col6\" class=\"data row5 col6\" >0.357297</td>\n",
       "                        <td id=\"T_2d221_row5_col7\" class=\"data row5 col7\" >False</td>\n",
       "                        <td id=\"T_2d221_row5_col8\" class=\"data row5 col8\" >False</td>\n",
       "                        <td id=\"T_2d221_row5_col9\" class=\"data row5 col9\" >False</td>\n",
       "            </tr>\n",
       "            <tr>\n",
       "                        <th id=\"T_2d221_level0_row6\" class=\"row_heading level0 row6\" >x2x3</th>\n",
       "                        <td id=\"T_2d221_row6_col0\" class=\"data row6 col0\" >-0.303343</td>\n",
       "                        <td id=\"T_2d221_row6_col1\" class=\"data row6 col1\" >0.272041</td>\n",
       "                        <td id=\"T_2d221_row6_col2\" class=\"data row6 col2\" >-1.115065</td>\n",
       "                        <td id=\"T_2d221_row6_col3\" class=\"data row6 col3\" >-0.575384</td>\n",
       "                        <td id=\"T_2d221_row6_col4\" class=\"data row6 col4\" >-0.031302</td>\n",
       "                        <td id=\"T_2d221_row6_col5\" class=\"data row6 col5\" >1464</td>\n",
       "                        <td id=\"T_2d221_row6_col6\" class=\"data row6 col6\" >0.132503</td>\n",
       "                        <td id=\"T_2d221_row6_col7\" class=\"data row6 col7\" >False</td>\n",
       "                        <td id=\"T_2d221_row6_col8\" class=\"data row6 col8\" >False</td>\n",
       "                        <td id=\"T_2d221_row6_col9\" class=\"data row6 col9\" >False</td>\n",
       "            </tr>\n",
       "            <tr>\n",
       "                        <th id=\"T_2d221_level0_row7\" class=\"row_heading level0 row7\" >x1x2x3</th>\n",
       "                        <td id=\"T_2d221_row7_col0\" class=\"data row7 col0\" >1.083433</td>\n",
       "                        <td id=\"T_2d221_row7_col1\" class=\"data row7 col1\" >0.318361</td>\n",
       "                        <td id=\"T_2d221_row7_col2\" class=\"data row7 col2\" >3.403159</td>\n",
       "                        <td id=\"T_2d221_row7_col3\" class=\"data row7 col3\" >0.765072</td>\n",
       "                        <td id=\"T_2d221_row7_col4\" class=\"data row7 col4\" >1.401793</td>\n",
       "                        <td id=\"T_2d221_row7_col5\" class=\"data row7 col5\" >1464</td>\n",
       "                        <td id=\"T_2d221_row7_col6\" class=\"data row7 col6\" >0.000342</td>\n",
       "                        <td id=\"T_2d221_row7_col7\" class=\"data row7 col7\" >True</td>\n",
       "                        <td id=\"T_2d221_row7_col8\" class=\"data row7 col8\" >True</td>\n",
       "                        <td id=\"T_2d221_row7_col9\" class=\"data row7 col9\" >True</td>\n",
       "            </tr>\n",
       "    </tbody></table>"
      ],
      "text/plain": [
       "<pandas.io.formats.style.Styler at 0x7f6c43ead190>"
      ]
     },
     "execution_count": 17,
     "metadata": {},
     "output_type": "execute_result"
    }
   ],
   "source": [
    "get_se(X, y, reg='elasticnet')"
   ]
  },
  {
   "cell_type": "code",
   "execution_count": null,
   "id": "fundamental-commonwealth",
   "metadata": {},
   "outputs": [],
   "source": []
  }
 ],
 "metadata": {
  "kernelspec": {
   "display_name": "Python 3",
   "language": "python",
   "name": "python3"
  },
  "language_info": {
   "codemirror_mode": {
    "name": "ipython",
    "version": 3
   },
   "file_extension": ".py",
   "mimetype": "text/x-python",
   "name": "python",
   "nbconvert_exporter": "python",
   "pygments_lexer": "ipython3",
   "version": "3.8.5"
  },
  "widgets": {
   "application/vnd.jupyter.widget-state+json": {
    "state": {},
    "version_major": 2,
    "version_minor": 0
   }
  }
 },
 "nbformat": 4,
 "nbformat_minor": 5
}
