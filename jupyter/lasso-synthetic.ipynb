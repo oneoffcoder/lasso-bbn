{
 "cells": [
  {
   "cell_type": "markdown",
   "id": "separated-constraint",
   "metadata": {},
   "source": [
    "# Simulation"
   ]
  },
  {
   "cell_type": "markdown",
   "id": "standard-equivalent",
   "metadata": {},
   "source": [
    "## Data\n",
    "\n",
    "The variables $X_1, X_2, X_3$ are sampled as follows.\n",
    "\n",
    "- $X_1 \\sim \\mathcal{B}(1, 0.8)$\n",
    "- $X_2 \\sim \\mathcal{B}(1, 0.4)$\n",
    "- $X_3 \\sim \\mathcal{B}(1, 0.6)$\n",
    "\n",
    "The dependent variable $y$ is sampled as follows.\n",
    "\n",
    "- $z = 2.0 + 0.5 X_1 + 0.8 X_1 X_2 X_3$\n",
    "- $p = \\dfrac{1.0}{1.0 + \\exp(-z)}$\n",
    "- $y \\sim \\mathcal{B}(1, p)$\n",
    "\n",
    "The design matrix $X$ is composed of the following variables and interactions.\n",
    "\n",
    "- $X_1$\n",
    "- $X_2$\n",
    "- $X_3$\n",
    "- $X_1 X_2$\n",
    "- $X_1 X_3$\n",
    "- $X_2 X_3$\n",
    "- $X_1 X_2 X_3$\n",
    "\n",
    "There are 1,000 sampled data points."
   ]
  },
  {
   "cell_type": "code",
   "execution_count": 1,
   "id": "certain-utility",
   "metadata": {
    "execution": {
     "iopub.execute_input": "2022-01-26T05:36:18.391483Z",
     "iopub.status.busy": "2022-01-26T05:36:18.391297Z",
     "iopub.status.idle": "2022-01-26T05:36:18.573521Z",
     "shell.execute_reply": "2022-01-26T05:36:18.572736Z",
     "shell.execute_reply.started": "2022-01-26T05:36:18.391443Z"
    }
   },
   "outputs": [],
   "source": [
    "import numpy as np\n",
    "import random\n",
    "from scipy.stats import binom\n",
    "\n",
    "random.seed(37)\n",
    "np.random.seed(37)\n",
    "\n",
    "N = 1_000\n",
    "\n",
    "x1 = np.random.binomial(1, 0.8, N)\n",
    "x2 = np.random.binomial(1, 0.4, N)\n",
    "x3 = np.random.binomial(1, 0.6, N)\n",
    "x1x2 = x1 * x2\n",
    "x1x3 = x1 * x3\n",
    "x2x3 = x2 * x3\n",
    "x1x2x3 = x1 * x2 * x3\n",
    "\n",
    "X = np.hstack((\n",
    "    x1.reshape(-1, 1), \n",
    "    x2.reshape(-1, 1), \n",
    "    x3.reshape(-1, 1),\n",
    "    x1x2.reshape(-1, 1),\n",
    "    x1x3.reshape(-1, 1),\n",
    "    x2x3.reshape(-1, 1),\n",
    "    x1x2x3.reshape(-1, 1)\n",
    "))\n",
    "\n",
    "z = 2.0 + 0.5 * x1 + 0.8 * x1x2x3\n",
    "p = 1.0 / (1.0 + np.exp(-z))\n",
    "y = binom.rvs(1, p)"
   ]
  },
  {
   "cell_type": "code",
   "execution_count": 2,
   "id": "naval-spine",
   "metadata": {
    "execution": {
     "iopub.execute_input": "2022-01-26T05:36:18.574230Z",
     "iopub.status.busy": "2022-01-26T05:36:18.574115Z",
     "iopub.status.idle": "2022-01-26T05:36:18.580230Z",
     "shell.execute_reply": "2022-01-26T05:36:18.579841Z",
     "shell.execute_reply.started": "2022-01-26T05:36:18.574216Z"
    }
   },
   "outputs": [
    {
     "data": {
      "text/plain": [
       "((1000, 7), (1000,))"
      ]
     },
     "execution_count": 2,
     "metadata": {},
     "output_type": "execute_result"
    }
   ],
   "source": [
    "X.shape, y.shape"
   ]
  },
  {
   "cell_type": "markdown",
   "id": "infrared-omega",
   "metadata": {},
   "source": [
    "## Logistic regression\n",
    "\n",
    "Logistic regression is applied to the data with the following regularization.\n",
    "\n",
    "- none\n",
    "- `L1` (Lasso)\n",
    "- `L2` (Ridge) \n",
    "- ElasticNet\n",
    "\n",
    "More [documentation](https://scikit-learn.org/stable/modules/generated/sklearn.linear_model.LogisticRegression.html) is available."
   ]
  },
  {
   "cell_type": "markdown",
   "id": "intended-deputy",
   "metadata": {},
   "source": [
    "### None"
   ]
  },
  {
   "cell_type": "code",
   "execution_count": 3,
   "id": "laughing-cisco",
   "metadata": {
    "execution": {
     "iopub.execute_input": "2022-01-26T05:36:18.581241Z",
     "iopub.status.busy": "2022-01-26T05:36:18.581124Z",
     "iopub.status.idle": "2022-01-26T05:36:19.136587Z",
     "shell.execute_reply": "2022-01-26T05:36:19.136106Z",
     "shell.execute_reply.started": "2022-01-26T05:36:18.581227Z"
    }
   },
   "outputs": [
    {
     "data": {
      "image/png": "[encoded data removed]",
      "text/plain": [
       "<Figure size 720x288 with 1 Axes>"
      ]
     },
     "metadata": {},
     "output_type": "display_data"
    }
   ],
   "source": [
    "import pandas as pd\n",
    "import matplotlib.pyplot as plt\n",
    "from sklearn.linear_model import LogisticRegression\n",
    "\n",
    "plt.style.use('ggplot')\n",
    "\n",
    "def get_model(reg='none'):\n",
    "    if reg == 'l1':\n",
    "        model = LogisticRegression(penalty='l1', solver='saga', C=0.5, random_state=37)\n",
    "    elif reg == 'l2':\n",
    "        model = LogisticRegression(penalty='l2', solver='saga', random_state=37)\n",
    "    elif reg == 'elasticnet':\n",
    "        model = LogisticRegression(penalty='elasticnet', l1_ratio=0.6, solver='saga', random_state=37)\n",
    "    else:\n",
    "        model = LogisticRegression(penalty='none', solver='saga', random_state=37, max_iter=10_000)\n",
    "    \n",
    "    return model\n",
    "\n",
    "def get_coef(m):\n",
    "    coefs = [m.intercept_[0]] + list(m.coef_[0])\n",
    "    cols = ['b', 'x1', 'x2', 'x3', 'x1x2', 'x1x3', 'x2x3', 'x1x2x3']\n",
    "    return pd.Series(coefs, index=cols)\n",
    "\n",
    "model = get_model('none')\n",
    "model.fit(X, y)\n",
    "\n",
    "_ = get_coef(model).plot(kind='bar', figsize=(10, 4), title=r'Coefficients (None)')"
   ]
  },
  {
   "cell_type": "code",
   "execution_count": 4,
   "id": "special-botswana",
   "metadata": {
    "execution": {
     "iopub.execute_input": "2022-01-26T05:36:19.137877Z",
     "iopub.status.busy": "2022-01-26T05:36:19.137684Z",
     "iopub.status.idle": "2022-01-26T05:36:19.432754Z",
     "shell.execute_reply": "2022-01-26T05:36:19.432383Z",
     "shell.execute_reply.started": "2022-01-26T05:36:19.137853Z"
    }
   },
   "outputs": [
    {
     "data": {
      "text/html": [
       "<style  type=\"text/css\" >\n",
       "#T_f376a_row0_col0,#T_f376a_row0_col1,#T_f376a_row0_col2,#T_f376a_row0_col3,#T_f376a_row0_col4,#T_f376a_row0_col5,#T_f376a_row0_col6,#T_f376a_row0_col7,#T_f376a_row0_col8,#T_f376a_row0_col9,#T_f376a_row1_col0,#T_f376a_row1_col1,#T_f376a_row1_col2,#T_f376a_row1_col3,#T_f376a_row1_col4,#T_f376a_row1_col5,#T_f376a_row1_col6,#T_f376a_row1_col7,#T_f376a_row1_col8,#T_f376a_row1_col9,#T_f376a_row2_col0,#T_f376a_row2_col1,#T_f376a_row2_col2,#T_f376a_row2_col3,#T_f376a_row2_col4,#T_f376a_row2_col5,#T_f376a_row2_col6,#T_f376a_row2_col7,#T_f376a_row2_col8,#T_f376a_row2_col9,#T_f376a_row6_col0,#T_f376a_row6_col1,#T_f376a_row6_col2,#T_f376a_row6_col3,#T_f376a_row6_col4,#T_f376a_row6_col5,#T_f376a_row6_col6,#T_f376a_row6_col7,#T_f376a_row6_col8,#T_f376a_row6_col9,#T_f376a_row7_col0,#T_f376a_row7_col1,#T_f376a_row7_col2,#T_f376a_row7_col3,#T_f376a_row7_col4,#T_f376a_row7_col5,#T_f376a_row7_col6,#T_f376a_row7_col7,#T_f376a_row7_col8,#T_f376a_row7_col9{\n",
       "            background-color:  rgb(255, 0, 0, 0.18);\n",
       "        }</style><table id=\"T_f376a_\" ><thead>    <tr>        <th class=\"blank level0\" ></th>        <th class=\"col_heading level0 col0\" >w</th>        <th class=\"col_heading level0 col1\" >se</th>        <th class=\"col_heading level0 col2\" >z</th>        <th class=\"col_heading level0 col3\" >.025</th>        <th class=\"col_heading level0 col4\" >.975</th>        <th class=\"col_heading level0 col5\" >df</th>        <th class=\"col_heading level0 col6\" >P>|z|</th>        <th class=\"col_heading level0 col7\" >alpha=0.1</th>        <th class=\"col_heading level0 col8\" >alpha=0.05</th>        <th class=\"col_heading level0 col9\" >alpha=0.01</th>    </tr></thead><tbody>\n",
       "                <tr>\n",
       "                        <th id=\"T_f376a_level0_row0\" class=\"row_heading level0 row0\" >b</th>\n",
       "                        <td id=\"T_f376a_row0_col0\" class=\"data row0 col0\" >1.845553</td>\n",
       "                        <td id=\"T_f376a_row0_col1\" class=\"data row0 col1\" >0.235824</td>\n",
       "                        <td id=\"T_f376a_row0_col2\" class=\"data row0 col2\" >7.825968</td>\n",
       "                        <td id=\"T_f376a_row0_col3\" class=\"data row0 col3\" >1.609729</td>\n",
       "                        <td id=\"T_f376a_row0_col4\" class=\"data row0 col4\" >2.081377</td>\n",
       "                        <td id=\"T_f376a_row0_col5\" class=\"data row0 col5\" >992</td>\n",
       "                        <td id=\"T_f376a_row0_col6\" class=\"data row0 col6\" >0.000000</td>\n",
       "                        <td id=\"T_f376a_row0_col7\" class=\"data row0 col7\" >True</td>\n",
       "                        <td id=\"T_f376a_row0_col8\" class=\"data row0 col8\" >True</td>\n",
       "                        <td id=\"T_f376a_row0_col9\" class=\"data row0 col9\" >True</td>\n",
       "            </tr>\n",
       "            <tr>\n",
       "                        <th id=\"T_f376a_level0_row1\" class=\"row_heading level0 row1\" >x1</th>\n",
       "                        <td id=\"T_f376a_row1_col0\" class=\"data row1 col0\" >0.497434</td>\n",
       "                        <td id=\"T_f376a_row1_col1\" class=\"data row1 col1\" >0.302584</td>\n",
       "                        <td id=\"T_f376a_row1_col2\" class=\"data row1 col2\" >1.643951</td>\n",
       "                        <td id=\"T_f376a_row1_col3\" class=\"data row1 col3\" >0.194849</td>\n",
       "                        <td id=\"T_f376a_row1_col4\" class=\"data row1 col4\" >0.800018</td>\n",
       "                        <td id=\"T_f376a_row1_col5\" class=\"data row1 col5\" >992</td>\n",
       "                        <td id=\"T_f376a_row1_col6\" class=\"data row1 col6\" >0.050252</td>\n",
       "                        <td id=\"T_f376a_row1_col7\" class=\"data row1 col7\" >True</td>\n",
       "                        <td id=\"T_f376a_row1_col8\" class=\"data row1 col8\" >False</td>\n",
       "                        <td id=\"T_f376a_row1_col9\" class=\"data row1 col9\" >False</td>\n",
       "            </tr>\n",
       "            <tr>\n",
       "                        <th id=\"T_f376a_level0_row2\" class=\"row_heading level0 row2\" >x2</th>\n",
       "                        <td id=\"T_f376a_row2_col0\" class=\"data row2 col0\" >1.017254</td>\n",
       "                        <td id=\"T_f376a_row2_col1\" class=\"data row2 col1\" >0.298621</td>\n",
       "                        <td id=\"T_f376a_row2_col2\" class=\"data row2 col2\" >3.406507</td>\n",
       "                        <td id=\"T_f376a_row2_col3\" class=\"data row2 col3\" >0.718633</td>\n",
       "                        <td id=\"T_f376a_row2_col4\" class=\"data row2 col4\" >1.315875</td>\n",
       "                        <td id=\"T_f376a_row2_col5\" class=\"data row2 col5\" >992</td>\n",
       "                        <td id=\"T_f376a_row2_col6\" class=\"data row2 col6\" >0.000342</td>\n",
       "                        <td id=\"T_f376a_row2_col7\" class=\"data row2 col7\" >True</td>\n",
       "                        <td id=\"T_f376a_row2_col8\" class=\"data row2 col8\" >True</td>\n",
       "                        <td id=\"T_f376a_row2_col9\" class=\"data row2 col9\" >True</td>\n",
       "            </tr>\n",
       "            <tr>\n",
       "                        <th id=\"T_f376a_level0_row3\" class=\"row_heading level0 row3\" >x3</th>\n",
       "                        <td id=\"T_f376a_row3_col0\" class=\"data row3 col0\" >-0.251535</td>\n",
       "                        <td id=\"T_f376a_row3_col1\" class=\"data row3 col1\" >0.311342</td>\n",
       "                        <td id=\"T_f376a_row3_col2\" class=\"data row3 col2\" >-0.807905</td>\n",
       "                        <td id=\"T_f376a_row3_col3\" class=\"data row3 col3\" >-0.562876</td>\n",
       "                        <td id=\"T_f376a_row3_col4\" class=\"data row3 col4\" >0.059807</td>\n",
       "                        <td id=\"T_f376a_row3_col5\" class=\"data row3 col5\" >992</td>\n",
       "                        <td id=\"T_f376a_row3_col6\" class=\"data row3 col6\" >0.209669</td>\n",
       "                        <td id=\"T_f376a_row3_col7\" class=\"data row3 col7\" >False</td>\n",
       "                        <td id=\"T_f376a_row3_col8\" class=\"data row3 col8\" >False</td>\n",
       "                        <td id=\"T_f376a_row3_col9\" class=\"data row3 col9\" >False</td>\n",
       "            </tr>\n",
       "            <tr>\n",
       "                        <th id=\"T_f376a_level0_row4\" class=\"row_heading level0 row4\" >x1x2</th>\n",
       "                        <td id=\"T_f376a_row4_col0\" class=\"data row4 col0\" >-0.331826</td>\n",
       "                        <td id=\"T_f376a_row4_col1\" class=\"data row4 col1\" >0.344670</td>\n",
       "                        <td id=\"T_f376a_row4_col2\" class=\"data row4 col2\" >-0.962735</td>\n",
       "                        <td id=\"T_f376a_row4_col3\" class=\"data row4 col3\" >-0.676495</td>\n",
       "                        <td id=\"T_f376a_row4_col4\" class=\"data row4 col4\" >0.012844</td>\n",
       "                        <td id=\"T_f376a_row4_col5\" class=\"data row4 col5\" >992</td>\n",
       "                        <td id=\"T_f376a_row4_col6\" class=\"data row4 col6\" >0.167957</td>\n",
       "                        <td id=\"T_f376a_row4_col7\" class=\"data row4 col7\" >False</td>\n",
       "                        <td id=\"T_f376a_row4_col8\" class=\"data row4 col8\" >False</td>\n",
       "                        <td id=\"T_f376a_row4_col9\" class=\"data row4 col9\" >False</td>\n",
       "            </tr>\n",
       "            <tr>\n",
       "                        <th id=\"T_f376a_level0_row5\" class=\"row_heading level0 row5\" >x1x3</th>\n",
       "                        <td id=\"T_f376a_row5_col0\" class=\"data row5 col0\" >0.332592</td>\n",
       "                        <td id=\"T_f376a_row5_col1\" class=\"data row5 col1\" >0.373780</td>\n",
       "                        <td id=\"T_f376a_row5_col2\" class=\"data row5 col2\" >0.889805</td>\n",
       "                        <td id=\"T_f376a_row5_col3\" class=\"data row5 col3\" >-0.041189</td>\n",
       "                        <td id=\"T_f376a_row5_col4\" class=\"data row5 col4\" >0.706372</td>\n",
       "                        <td id=\"T_f376a_row5_col5\" class=\"data row5 col5\" >992</td>\n",
       "                        <td id=\"T_f376a_row5_col6\" class=\"data row5 col6\" >0.186893</td>\n",
       "                        <td id=\"T_f376a_row5_col7\" class=\"data row5 col7\" >False</td>\n",
       "                        <td id=\"T_f376a_row5_col8\" class=\"data row5 col8\" >False</td>\n",
       "                        <td id=\"T_f376a_row5_col9\" class=\"data row5 col9\" >False</td>\n",
       "            </tr>\n",
       "            <tr>\n",
       "                        <th id=\"T_f376a_level0_row6\" class=\"row_heading level0 row6\" >x2x3</th>\n",
       "                        <td id=\"T_f376a_row6_col0\" class=\"data row6 col0\" >0.998870</td>\n",
       "                        <td id=\"T_f376a_row6_col1\" class=\"data row6 col1\" >0.357213</td>\n",
       "                        <td id=\"T_f376a_row6_col2\" class=\"data row6 col2\" >2.796282</td>\n",
       "                        <td id=\"T_f376a_row6_col3\" class=\"data row6 col3\" >0.641656</td>\n",
       "                        <td id=\"T_f376a_row6_col4\" class=\"data row6 col4\" >1.356083</td>\n",
       "                        <td id=\"T_f376a_row6_col5\" class=\"data row6 col5\" >992</td>\n",
       "                        <td id=\"T_f376a_row6_col6\" class=\"data row6 col6\" >0.002635</td>\n",
       "                        <td id=\"T_f376a_row6_col7\" class=\"data row6 col7\" >True</td>\n",
       "                        <td id=\"T_f376a_row6_col8\" class=\"data row6 col8\" >True</td>\n",
       "                        <td id=\"T_f376a_row6_col9\" class=\"data row6 col9\" >True</td>\n",
       "            </tr>\n",
       "            <tr>\n",
       "                        <th id=\"T_f376a_level0_row7\" class=\"row_heading level0 row7\" >x1x2x3</th>\n",
       "                        <td id=\"T_f376a_row7_col0\" class=\"data row7 col0\" >-0.872408</td>\n",
       "                        <td id=\"T_f376a_row7_col1\" class=\"data row7 col1\" >0.365408</td>\n",
       "                        <td id=\"T_f376a_row7_col2\" class=\"data row7 col2\" >-2.387489</td>\n",
       "                        <td id=\"T_f376a_row7_col3\" class=\"data row7 col3\" >-1.237816</td>\n",
       "                        <td id=\"T_f376a_row7_col4\" class=\"data row7 col4\" >-0.507000</td>\n",
       "                        <td id=\"T_f376a_row7_col5\" class=\"data row7 col5\" >992</td>\n",
       "                        <td id=\"T_f376a_row7_col6\" class=\"data row7 col6\" >0.008575</td>\n",
       "                        <td id=\"T_f376a_row7_col7\" class=\"data row7 col7\" >True</td>\n",
       "                        <td id=\"T_f376a_row7_col8\" class=\"data row7 col8\" >True</td>\n",
       "                        <td id=\"T_f376a_row7_col9\" class=\"data row7 col9\" >True</td>\n",
       "            </tr>\n",
       "    </tbody></table>"
      ],
      "text/plain": [
       "<pandas.io.formats.style.Styler at 0x7f03e5028d00>"
      ]
     },
     "execution_count": 4,
     "metadata": {},
     "output_type": "execute_result"
    }
   ],
   "source": [
    "import scipy.stats\n",
    "\n",
    "\n",
    "def get_color(s, n=10):\n",
    "    if s.loc['alpha=0.1']:\n",
    "        return ['background-color: rgb(255, 0, 0, 0.18)'] * n\n",
    "    else:\n",
    "        return [None] * n\n",
    "    \n",
    "def do_lreg(df, reg='none'):\n",
    "    sample = df.sample(df.shape[0], replace=True)\n",
    "    X_tr = sample[[c for c in sample.columns if c != 'y']]\n",
    "    y_tr = sample.y\n",
    "\n",
    "    lr = LogisticRegression(penalty='l2', solver='liblinear')\n",
    "    lr.fit(X_tr, y_tr)\n",
    "\n",
    "    params = [lr.intercept_[0]] +  list(lr.coef_[0])\n",
    "\n",
    "    return params\n",
    "\n",
    "def get_se(X, y, reg='none', index=['b', 'x1', 'x2', 'x3', 'x1x2', 'x1x3', 'x2x3', 'x1x2x3']):\n",
    "    lr = get_model(reg=reg)\n",
    "    lr.fit(X, y)\n",
    "\n",
    "    df = pd.DataFrame(X)\n",
    "    df['y'] = y\n",
    "\n",
    "    r_df = pd.DataFrame([do_lreg(df, reg=reg) for _ in range(100)])\n",
    "\n",
    "    w = [lr.intercept_[0]] + list(lr.coef_[0])\n",
    "    se = r_df.std()\n",
    "\n",
    "    dof = X.shape[0] - X.shape[1] - 1\n",
    "\n",
    "    summary = pd.DataFrame({\n",
    "        'w': w,\n",
    "        'se': se,\n",
    "        'z': w / se,\n",
    "        '.025': w - se,\n",
    "        '.975': w + se,\n",
    "        'df': [dof for _ in range(len(w))]\n",
    "    })\n",
    "\n",
    "    summary['P>|z|'] = scipy.stats.t.sf(abs(summary.z), df=summary.df)\n",
    "    summary['alpha=0.1'] = summary['P>|z|'].apply(lambda p: p <= 0.1)\n",
    "    summary['alpha=0.05'] = summary['P>|z|'].apply(lambda p: p <= 0.05)\n",
    "    summary['alpha=0.01'] = summary['P>|z|'].apply(lambda p: p <= 0.01)\n",
    "    summary.index = index\n",
    "\n",
    "    return summary.style.apply(get_color, axis=1)\n",
    "\n",
    "get_se(X, y, reg='none')"
   ]
  },
  {
   "cell_type": "markdown",
   "id": "naval-absolute",
   "metadata": {},
   "source": [
    "### Lasso\n",
    "\n",
    "For Lasso, we set `C=0.5` (smaller values of C means stronger regularization). "
   ]
  },
  {
   "cell_type": "code",
   "execution_count": 5,
   "id": "prescription-planning",
   "metadata": {
    "execution": {
     "iopub.execute_input": "2022-01-26T05:36:19.433306Z",
     "iopub.status.busy": "2022-01-26T05:36:19.433200Z",
     "iopub.status.idle": "2022-01-26T05:36:19.533582Z",
     "shell.execute_reply": "2022-01-26T05:36:19.533157Z",
     "shell.execute_reply.started": "2022-01-26T05:36:19.433293Z"
    }
   },
   "outputs": [
    {
     "data": {
      "image/png": "[encoded data removed]",
      "text/plain": [
       "<Figure size 720x288 with 1 Axes>"
      ]
     },
     "metadata": {},
     "output_type": "display_data"
    }
   ],
   "source": [
    "model = get_model('l1')\n",
    "model.fit(X, y)\n",
    "\n",
    "_ = get_coef(model).plot(kind='bar', figsize=(10, 4), title=r'Coefficients (Lasso)')"
   ]
  },
  {
   "cell_type": "code",
   "execution_count": 6,
   "id": "material-fountain",
   "metadata": {
    "execution": {
     "iopub.execute_input": "2022-01-26T05:36:19.534587Z",
     "iopub.status.busy": "2022-01-26T05:36:19.534360Z",
     "iopub.status.idle": "2022-01-26T05:36:19.796912Z",
     "shell.execute_reply": "2022-01-26T05:36:19.796431Z",
     "shell.execute_reply.started": "2022-01-26T05:36:19.534551Z"
    }
   },
   "outputs": [
    {
     "data": {
      "text/html": [
       "<style  type=\"text/css\" >\n",
       "#T_f91ce_row0_col0,#T_f91ce_row0_col1,#T_f91ce_row0_col2,#T_f91ce_row0_col3,#T_f91ce_row0_col4,#T_f91ce_row0_col5,#T_f91ce_row0_col6,#T_f91ce_row0_col7,#T_f91ce_row0_col8,#T_f91ce_row0_col9,#T_f91ce_row1_col0,#T_f91ce_row1_col1,#T_f91ce_row1_col2,#T_f91ce_row1_col3,#T_f91ce_row1_col4,#T_f91ce_row1_col5,#T_f91ce_row1_col6,#T_f91ce_row1_col7,#T_f91ce_row1_col8,#T_f91ce_row1_col9,#T_f91ce_row2_col0,#T_f91ce_row2_col1,#T_f91ce_row2_col2,#T_f91ce_row2_col3,#T_f91ce_row2_col4,#T_f91ce_row2_col5,#T_f91ce_row2_col6,#T_f91ce_row2_col7,#T_f91ce_row2_col8,#T_f91ce_row2_col9{\n",
       "            background-color:  rgb(255, 0, 0, 0.18);\n",
       "        }</style><table id=\"T_f91ce_\" ><thead>    <tr>        <th class=\"blank level0\" ></th>        <th class=\"col_heading level0 col0\" >w</th>        <th class=\"col_heading level0 col1\" >se</th>        <th class=\"col_heading level0 col2\" >z</th>        <th class=\"col_heading level0 col3\" >.025</th>        <th class=\"col_heading level0 col4\" >.975</th>        <th class=\"col_heading level0 col5\" >df</th>        <th class=\"col_heading level0 col6\" >P>|z|</th>        <th class=\"col_heading level0 col7\" >alpha=0.1</th>        <th class=\"col_heading level0 col8\" >alpha=0.05</th>        <th class=\"col_heading level0 col9\" >alpha=0.01</th>    </tr></thead><tbody>\n",
       "                <tr>\n",
       "                        <th id=\"T_f91ce_level0_row0\" class=\"row_heading level0 row0\" >b</th>\n",
       "                        <td id=\"T_f91ce_row0_col0\" class=\"data row0 col0\" >1.932348</td>\n",
       "                        <td id=\"T_f91ce_row0_col1\" class=\"data row0 col1\" >0.247872</td>\n",
       "                        <td id=\"T_f91ce_row0_col2\" class=\"data row0 col2\" >7.795739</td>\n",
       "                        <td id=\"T_f91ce_row0_col3\" class=\"data row0 col3\" >1.684476</td>\n",
       "                        <td id=\"T_f91ce_row0_col4\" class=\"data row0 col4\" >2.180220</td>\n",
       "                        <td id=\"T_f91ce_row0_col5\" class=\"data row0 col5\" >992</td>\n",
       "                        <td id=\"T_f91ce_row0_col6\" class=\"data row0 col6\" >0.000000</td>\n",
       "                        <td id=\"T_f91ce_row0_col7\" class=\"data row0 col7\" >True</td>\n",
       "                        <td id=\"T_f91ce_row0_col8\" class=\"data row0 col8\" >True</td>\n",
       "                        <td id=\"T_f91ce_row0_col9\" class=\"data row0 col9\" >True</td>\n",
       "            </tr>\n",
       "            <tr>\n",
       "                        <th id=\"T_f91ce_level0_row1\" class=\"row_heading level0 row1\" >x1</th>\n",
       "                        <td id=\"T_f91ce_row1_col0\" class=\"data row1 col0\" >0.389334</td>\n",
       "                        <td id=\"T_f91ce_row1_col1\" class=\"data row1 col1\" >0.288420</td>\n",
       "                        <td id=\"T_f91ce_row1_col2\" class=\"data row1 col2\" >1.349884</td>\n",
       "                        <td id=\"T_f91ce_row1_col3\" class=\"data row1 col3\" >0.100914</td>\n",
       "                        <td id=\"T_f91ce_row1_col4\" class=\"data row1 col4\" >0.677754</td>\n",
       "                        <td id=\"T_f91ce_row1_col5\" class=\"data row1 col5\" >992</td>\n",
       "                        <td id=\"T_f91ce_row1_col6\" class=\"data row1 col6\" >0.088681</td>\n",
       "                        <td id=\"T_f91ce_row1_col7\" class=\"data row1 col7\" >True</td>\n",
       "                        <td id=\"T_f91ce_row1_col8\" class=\"data row1 col8\" >False</td>\n",
       "                        <td id=\"T_f91ce_row1_col9\" class=\"data row1 col9\" >False</td>\n",
       "            </tr>\n",
       "            <tr>\n",
       "                        <th id=\"T_f91ce_level0_row2\" class=\"row_heading level0 row2\" >x2</th>\n",
       "                        <td id=\"T_f91ce_row2_col0\" class=\"data row2 col0\" >0.766469</td>\n",
       "                        <td id=\"T_f91ce_row2_col1\" class=\"data row2 col1\" >0.341255</td>\n",
       "                        <td id=\"T_f91ce_row2_col2\" class=\"data row2 col2\" >2.246030</td>\n",
       "                        <td id=\"T_f91ce_row2_col3\" class=\"data row2 col3\" >0.425214</td>\n",
       "                        <td id=\"T_f91ce_row2_col4\" class=\"data row2 col4\" >1.107724</td>\n",
       "                        <td id=\"T_f91ce_row2_col5\" class=\"data row2 col5\" >992</td>\n",
       "                        <td id=\"T_f91ce_row2_col6\" class=\"data row2 col6\" >0.012461</td>\n",
       "                        <td id=\"T_f91ce_row2_col7\" class=\"data row2 col7\" >True</td>\n",
       "                        <td id=\"T_f91ce_row2_col8\" class=\"data row2 col8\" >True</td>\n",
       "                        <td id=\"T_f91ce_row2_col9\" class=\"data row2 col9\" >False</td>\n",
       "            </tr>\n",
       "            <tr>\n",
       "                        <th id=\"T_f91ce_level0_row3\" class=\"row_heading level0 row3\" >x3</th>\n",
       "                        <td id=\"T_f91ce_row3_col0\" class=\"data row3 col0\" >0.000000</td>\n",
       "                        <td id=\"T_f91ce_row3_col1\" class=\"data row3 col1\" >0.318163</td>\n",
       "                        <td id=\"T_f91ce_row3_col2\" class=\"data row3 col2\" >0.000000</td>\n",
       "                        <td id=\"T_f91ce_row3_col3\" class=\"data row3 col3\" >-0.318163</td>\n",
       "                        <td id=\"T_f91ce_row3_col4\" class=\"data row3 col4\" >0.318163</td>\n",
       "                        <td id=\"T_f91ce_row3_col5\" class=\"data row3 col5\" >992</td>\n",
       "                        <td id=\"T_f91ce_row3_col6\" class=\"data row3 col6\" >0.500000</td>\n",
       "                        <td id=\"T_f91ce_row3_col7\" class=\"data row3 col7\" >False</td>\n",
       "                        <td id=\"T_f91ce_row3_col8\" class=\"data row3 col8\" >False</td>\n",
       "                        <td id=\"T_f91ce_row3_col9\" class=\"data row3 col9\" >False</td>\n",
       "            </tr>\n",
       "            <tr>\n",
       "                        <th id=\"T_f91ce_level0_row4\" class=\"row_heading level0 row4\" >x1x2</th>\n",
       "                        <td id=\"T_f91ce_row4_col0\" class=\"data row4 col0\" >0.000000</td>\n",
       "                        <td id=\"T_f91ce_row4_col1\" class=\"data row4 col1\" >0.365351</td>\n",
       "                        <td id=\"T_f91ce_row4_col2\" class=\"data row4 col2\" >0.000000</td>\n",
       "                        <td id=\"T_f91ce_row4_col3\" class=\"data row4 col3\" >-0.365351</td>\n",
       "                        <td id=\"T_f91ce_row4_col4\" class=\"data row4 col4\" >0.365351</td>\n",
       "                        <td id=\"T_f91ce_row4_col5\" class=\"data row4 col5\" >992</td>\n",
       "                        <td id=\"T_f91ce_row4_col6\" class=\"data row4 col6\" >0.500000</td>\n",
       "                        <td id=\"T_f91ce_row4_col7\" class=\"data row4 col7\" >False</td>\n",
       "                        <td id=\"T_f91ce_row4_col8\" class=\"data row4 col8\" >False</td>\n",
       "                        <td id=\"T_f91ce_row4_col9\" class=\"data row4 col9\" >False</td>\n",
       "            </tr>\n",
       "            <tr>\n",
       "                        <th id=\"T_f91ce_level0_row5\" class=\"row_heading level0 row5\" >x1x3</th>\n",
       "                        <td id=\"T_f91ce_row5_col0\" class=\"data row5 col0\" >0.042119</td>\n",
       "                        <td id=\"T_f91ce_row5_col1\" class=\"data row5 col1\" >0.337480</td>\n",
       "                        <td id=\"T_f91ce_row5_col2\" class=\"data row5 col2\" >0.124806</td>\n",
       "                        <td id=\"T_f91ce_row5_col3\" class=\"data row5 col3\" >-0.295360</td>\n",
       "                        <td id=\"T_f91ce_row5_col4\" class=\"data row5 col4\" >0.379599</td>\n",
       "                        <td id=\"T_f91ce_row5_col5\" class=\"data row5 col5\" >992</td>\n",
       "                        <td id=\"T_f91ce_row5_col6\" class=\"data row5 col6\" >0.450351</td>\n",
       "                        <td id=\"T_f91ce_row5_col7\" class=\"data row5 col7\" >False</td>\n",
       "                        <td id=\"T_f91ce_row5_col8\" class=\"data row5 col8\" >False</td>\n",
       "                        <td id=\"T_f91ce_row5_col9\" class=\"data row5 col9\" >False</td>\n",
       "            </tr>\n",
       "            <tr>\n",
       "                        <th id=\"T_f91ce_level0_row6\" class=\"row_heading level0 row6\" >x2x3</th>\n",
       "                        <td id=\"T_f91ce_row6_col0\" class=\"data row6 col0\" >0.014868</td>\n",
       "                        <td id=\"T_f91ce_row6_col1\" class=\"data row6 col1\" >0.338276</td>\n",
       "                        <td id=\"T_f91ce_row6_col2\" class=\"data row6 col2\" >0.043952</td>\n",
       "                        <td id=\"T_f91ce_row6_col3\" class=\"data row6 col3\" >-0.323408</td>\n",
       "                        <td id=\"T_f91ce_row6_col4\" class=\"data row6 col4\" >0.353144</td>\n",
       "                        <td id=\"T_f91ce_row6_col5\" class=\"data row6 col5\" >992</td>\n",
       "                        <td id=\"T_f91ce_row6_col6\" class=\"data row6 col6\" >0.482476</td>\n",
       "                        <td id=\"T_f91ce_row6_col7\" class=\"data row6 col7\" >False</td>\n",
       "                        <td id=\"T_f91ce_row6_col8\" class=\"data row6 col8\" >False</td>\n",
       "                        <td id=\"T_f91ce_row6_col9\" class=\"data row6 col9\" >False</td>\n",
       "            </tr>\n",
       "            <tr>\n",
       "                        <th id=\"T_f91ce_level0_row7\" class=\"row_heading level0 row7\" >x1x2x3</th>\n",
       "                        <td id=\"T_f91ce_row7_col0\" class=\"data row7 col0\" >0.000000</td>\n",
       "                        <td id=\"T_f91ce_row7_col1\" class=\"data row7 col1\" >0.330758</td>\n",
       "                        <td id=\"T_f91ce_row7_col2\" class=\"data row7 col2\" >0.000000</td>\n",
       "                        <td id=\"T_f91ce_row7_col3\" class=\"data row7 col3\" >-0.330758</td>\n",
       "                        <td id=\"T_f91ce_row7_col4\" class=\"data row7 col4\" >0.330758</td>\n",
       "                        <td id=\"T_f91ce_row7_col5\" class=\"data row7 col5\" >992</td>\n",
       "                        <td id=\"T_f91ce_row7_col6\" class=\"data row7 col6\" >0.500000</td>\n",
       "                        <td id=\"T_f91ce_row7_col7\" class=\"data row7 col7\" >False</td>\n",
       "                        <td id=\"T_f91ce_row7_col8\" class=\"data row7 col8\" >False</td>\n",
       "                        <td id=\"T_f91ce_row7_col9\" class=\"data row7 col9\" >False</td>\n",
       "            </tr>\n",
       "    </tbody></table>"
      ],
      "text/plain": [
       "<pandas.io.formats.style.Styler at 0x7f03e0e228b0>"
      ]
     },
     "execution_count": 6,
     "metadata": {},
     "output_type": "execute_result"
    }
   ],
   "source": [
    "get_se(X, y, reg='l1')"
   ]
  },
  {
   "cell_type": "markdown",
   "id": "chief-dodge",
   "metadata": {},
   "source": [
    "## Ridge"
   ]
  },
  {
   "cell_type": "code",
   "execution_count": 7,
   "id": "exotic-treaty",
   "metadata": {
    "execution": {
     "iopub.execute_input": "2022-01-26T05:36:19.797921Z",
     "iopub.status.busy": "2022-01-26T05:36:19.797732Z",
     "iopub.status.idle": "2022-01-26T05:36:19.898127Z",
     "shell.execute_reply": "2022-01-26T05:36:19.897658Z",
     "shell.execute_reply.started": "2022-01-26T05:36:19.797897Z"
    }
   },
   "outputs": [
    {
     "data": {
      "image/png": "[encoded data removed]",
      "text/plain": [
       "<Figure size 720x288 with 1 Axes>"
      ]
     },
     "metadata": {},
     "output_type": "display_data"
    }
   ],
   "source": [
    "model = get_model('l2')\n",
    "model.fit(X, y)\n",
    "\n",
    "_ = get_coef(model).plot(kind='bar', figsize=(10, 4), title=r'Coefficients (Ridge)')"
   ]
  },
  {
   "cell_type": "code",
   "execution_count": 8,
   "id": "copyrighted-parallel",
   "metadata": {
    "execution": {
     "iopub.execute_input": "2022-01-26T05:36:19.899123Z",
     "iopub.status.busy": "2022-01-26T05:36:19.898941Z",
     "iopub.status.idle": "2022-01-26T05:36:20.162592Z",
     "shell.execute_reply": "2022-01-26T05:36:20.162075Z",
     "shell.execute_reply.started": "2022-01-26T05:36:19.899100Z"
    }
   },
   "outputs": [
    {
     "data": {
      "text/html": [
       "<style  type=\"text/css\" >\n",
       "#T_00ad0_row0_col0,#T_00ad0_row0_col1,#T_00ad0_row0_col2,#T_00ad0_row0_col3,#T_00ad0_row0_col4,#T_00ad0_row0_col5,#T_00ad0_row0_col6,#T_00ad0_row0_col7,#T_00ad0_row0_col8,#T_00ad0_row0_col9,#T_00ad0_row1_col0,#T_00ad0_row1_col1,#T_00ad0_row1_col2,#T_00ad0_row1_col3,#T_00ad0_row1_col4,#T_00ad0_row1_col5,#T_00ad0_row1_col6,#T_00ad0_row1_col7,#T_00ad0_row1_col8,#T_00ad0_row1_col9,#T_00ad0_row2_col0,#T_00ad0_row2_col1,#T_00ad0_row2_col2,#T_00ad0_row2_col3,#T_00ad0_row2_col4,#T_00ad0_row2_col5,#T_00ad0_row2_col6,#T_00ad0_row2_col7,#T_00ad0_row2_col8,#T_00ad0_row2_col9,#T_00ad0_row6_col0,#T_00ad0_row6_col1,#T_00ad0_row6_col2,#T_00ad0_row6_col3,#T_00ad0_row6_col4,#T_00ad0_row6_col5,#T_00ad0_row6_col6,#T_00ad0_row6_col7,#T_00ad0_row6_col8,#T_00ad0_row6_col9{\n",
       "            background-color:  rgb(255, 0, 0, 0.18);\n",
       "        }</style><table id=\"T_00ad0_\" ><thead>    <tr>        <th class=\"blank level0\" ></th>        <th class=\"col_heading level0 col0\" >w</th>        <th class=\"col_heading level0 col1\" >se</th>        <th class=\"col_heading level0 col2\" >z</th>        <th class=\"col_heading level0 col3\" >.025</th>        <th class=\"col_heading level0 col4\" >.975</th>        <th class=\"col_heading level0 col5\" >df</th>        <th class=\"col_heading level0 col6\" >P>|z|</th>        <th class=\"col_heading level0 col7\" >alpha=0.1</th>        <th class=\"col_heading level0 col8\" >alpha=0.05</th>        <th class=\"col_heading level0 col9\" >alpha=0.01</th>    </tr></thead><tbody>\n",
       "                <tr>\n",
       "                        <th id=\"T_00ad0_level0_row0\" class=\"row_heading level0 row0\" >b</th>\n",
       "                        <td id=\"T_00ad0_row0_col0\" class=\"data row0 col0\" >1.896089</td>\n",
       "                        <td id=\"T_00ad0_row0_col1\" class=\"data row0 col1\" >0.272440</td>\n",
       "                        <td id=\"T_00ad0_row0_col2\" class=\"data row0 col2\" >6.959659</td>\n",
       "                        <td id=\"T_00ad0_row0_col3\" class=\"data row0 col3\" >1.623649</td>\n",
       "                        <td id=\"T_00ad0_row0_col4\" class=\"data row0 col4\" >2.168529</td>\n",
       "                        <td id=\"T_00ad0_row0_col5\" class=\"data row0 col5\" >992</td>\n",
       "                        <td id=\"T_00ad0_row0_col6\" class=\"data row0 col6\" >0.000000</td>\n",
       "                        <td id=\"T_00ad0_row0_col7\" class=\"data row0 col7\" >True</td>\n",
       "                        <td id=\"T_00ad0_row0_col8\" class=\"data row0 col8\" >True</td>\n",
       "                        <td id=\"T_00ad0_row0_col9\" class=\"data row0 col9\" >True</td>\n",
       "            </tr>\n",
       "            <tr>\n",
       "                        <th id=\"T_00ad0_level0_row1\" class=\"row_heading level0 row1\" >x1</th>\n",
       "                        <td id=\"T_00ad0_row1_col0\" class=\"data row1 col0\" >0.441485</td>\n",
       "                        <td id=\"T_00ad0_row1_col1\" class=\"data row1 col1\" >0.280298</td>\n",
       "                        <td id=\"T_00ad0_row1_col2\" class=\"data row1 col2\" >1.575055</td>\n",
       "                        <td id=\"T_00ad0_row1_col3\" class=\"data row1 col3\" >0.161187</td>\n",
       "                        <td id=\"T_00ad0_row1_col4\" class=\"data row1 col4\" >0.721783</td>\n",
       "                        <td id=\"T_00ad0_row1_col5\" class=\"data row1 col5\" >992</td>\n",
       "                        <td id=\"T_00ad0_row1_col6\" class=\"data row1 col6\" >0.057781</td>\n",
       "                        <td id=\"T_00ad0_row1_col7\" class=\"data row1 col7\" >True</td>\n",
       "                        <td id=\"T_00ad0_row1_col8\" class=\"data row1 col8\" >False</td>\n",
       "                        <td id=\"T_00ad0_row1_col9\" class=\"data row1 col9\" >False</td>\n",
       "            </tr>\n",
       "            <tr>\n",
       "                        <th id=\"T_00ad0_level0_row2\" class=\"row_heading level0 row2\" >x2</th>\n",
       "                        <td id=\"T_00ad0_row2_col0\" class=\"data row2 col0\" >0.839984</td>\n",
       "                        <td id=\"T_00ad0_row2_col1\" class=\"data row2 col1\" >0.332033</td>\n",
       "                        <td id=\"T_00ad0_row2_col2\" class=\"data row2 col2\" >2.529823</td>\n",
       "                        <td id=\"T_00ad0_row2_col3\" class=\"data row2 col3\" >0.507951</td>\n",
       "                        <td id=\"T_00ad0_row2_col4\" class=\"data row2 col4\" >1.172017</td>\n",
       "                        <td id=\"T_00ad0_row2_col5\" class=\"data row2 col5\" >992</td>\n",
       "                        <td id=\"T_00ad0_row2_col6\" class=\"data row2 col6\" >0.005783</td>\n",
       "                        <td id=\"T_00ad0_row2_col7\" class=\"data row2 col7\" >True</td>\n",
       "                        <td id=\"T_00ad0_row2_col8\" class=\"data row2 col8\" >True</td>\n",
       "                        <td id=\"T_00ad0_row2_col9\" class=\"data row2 col9\" >True</td>\n",
       "            </tr>\n",
       "            <tr>\n",
       "                        <th id=\"T_00ad0_level0_row3\" class=\"row_heading level0 row3\" >x3</th>\n",
       "                        <td id=\"T_00ad0_row3_col0\" class=\"data row3 col0\" >-0.187457</td>\n",
       "                        <td id=\"T_00ad0_row3_col1\" class=\"data row3 col1\" >0.295768</td>\n",
       "                        <td id=\"T_00ad0_row3_col2\" class=\"data row3 col2\" >-0.633799</td>\n",
       "                        <td id=\"T_00ad0_row3_col3\" class=\"data row3 col3\" >-0.483225</td>\n",
       "                        <td id=\"T_00ad0_row3_col4\" class=\"data row3 col4\" >0.108311</td>\n",
       "                        <td id=\"T_00ad0_row3_col5\" class=\"data row3 col5\" >992</td>\n",
       "                        <td id=\"T_00ad0_row3_col6\" class=\"data row3 col6\" >0.263179</td>\n",
       "                        <td id=\"T_00ad0_row3_col7\" class=\"data row3 col7\" >False</td>\n",
       "                        <td id=\"T_00ad0_row3_col8\" class=\"data row3 col8\" >False</td>\n",
       "                        <td id=\"T_00ad0_row3_col9\" class=\"data row3 col9\" >False</td>\n",
       "            </tr>\n",
       "            <tr>\n",
       "                        <th id=\"T_00ad0_level0_row4\" class=\"row_heading level0 row4\" >x1x2</th>\n",
       "                        <td id=\"T_00ad0_row4_col0\" class=\"data row4 col0\" >-0.167678</td>\n",
       "                        <td id=\"T_00ad0_row4_col1\" class=\"data row4 col1\" >0.386074</td>\n",
       "                        <td id=\"T_00ad0_row4_col2\" class=\"data row4 col2\" >-0.434315</td>\n",
       "                        <td id=\"T_00ad0_row4_col3\" class=\"data row4 col3\" >-0.553752</td>\n",
       "                        <td id=\"T_00ad0_row4_col4\" class=\"data row4 col4\" >0.218396</td>\n",
       "                        <td id=\"T_00ad0_row4_col5\" class=\"data row4 col5\" >992</td>\n",
       "                        <td id=\"T_00ad0_row4_col6\" class=\"data row4 col6\" >0.332077</td>\n",
       "                        <td id=\"T_00ad0_row4_col7\" class=\"data row4 col7\" >False</td>\n",
       "                        <td id=\"T_00ad0_row4_col8\" class=\"data row4 col8\" >False</td>\n",
       "                        <td id=\"T_00ad0_row4_col9\" class=\"data row4 col9\" >False</td>\n",
       "            </tr>\n",
       "            <tr>\n",
       "                        <th id=\"T_00ad0_level0_row5\" class=\"row_heading level0 row5\" >x1x3</th>\n",
       "                        <td id=\"T_00ad0_row5_col0\" class=\"data row5 col0\" >0.250347</td>\n",
       "                        <td id=\"T_00ad0_row5_col1\" class=\"data row5 col1\" >0.337761</td>\n",
       "                        <td id=\"T_00ad0_row5_col2\" class=\"data row5 col2\" >0.741194</td>\n",
       "                        <td id=\"T_00ad0_row5_col3\" class=\"data row5 col3\" >-0.087414</td>\n",
       "                        <td id=\"T_00ad0_row5_col4\" class=\"data row5 col4\" >0.588108</td>\n",
       "                        <td id=\"T_00ad0_row5_col5\" class=\"data row5 col5\" >992</td>\n",
       "                        <td id=\"T_00ad0_row5_col6\" class=\"data row5 col6\" >0.229376</td>\n",
       "                        <td id=\"T_00ad0_row5_col7\" class=\"data row5 col7\" >False</td>\n",
       "                        <td id=\"T_00ad0_row5_col8\" class=\"data row5 col8\" >False</td>\n",
       "                        <td id=\"T_00ad0_row5_col9\" class=\"data row5 col9\" >False</td>\n",
       "            </tr>\n",
       "            <tr>\n",
       "                        <th id=\"T_00ad0_level0_row6\" class=\"row_heading level0 row6\" >x2x3</th>\n",
       "                        <td id=\"T_00ad0_row6_col0\" class=\"data row6 col0\" >0.479378</td>\n",
       "                        <td id=\"T_00ad0_row6_col1\" class=\"data row6 col1\" >0.337542</td>\n",
       "                        <td id=\"T_00ad0_row6_col2\" class=\"data row6 col2\" >1.420203</td>\n",
       "                        <td id=\"T_00ad0_row6_col3\" class=\"data row6 col3\" >0.141836</td>\n",
       "                        <td id=\"T_00ad0_row6_col4\" class=\"data row6 col4\" >0.816920</td>\n",
       "                        <td id=\"T_00ad0_row6_col5\" class=\"data row6 col5\" >992</td>\n",
       "                        <td id=\"T_00ad0_row6_col6\" class=\"data row6 col6\" >0.077931</td>\n",
       "                        <td id=\"T_00ad0_row6_col7\" class=\"data row6 col7\" >True</td>\n",
       "                        <td id=\"T_00ad0_row6_col8\" class=\"data row6 col8\" >False</td>\n",
       "                        <td id=\"T_00ad0_row6_col9\" class=\"data row6 col9\" >False</td>\n",
       "            </tr>\n",
       "            <tr>\n",
       "                        <th id=\"T_00ad0_level0_row7\" class=\"row_heading level0 row7\" >x1x2x3</th>\n",
       "                        <td id=\"T_00ad0_row7_col0\" class=\"data row7 col0\" >-0.274651</td>\n",
       "                        <td id=\"T_00ad0_row7_col1\" class=\"data row7 col1\" >0.385936</td>\n",
       "                        <td id=\"T_00ad0_row7_col2\" class=\"data row7 col2\" >-0.711647</td>\n",
       "                        <td id=\"T_00ad0_row7_col3\" class=\"data row7 col3\" >-0.660587</td>\n",
       "                        <td id=\"T_00ad0_row7_col4\" class=\"data row7 col4\" >0.111286</td>\n",
       "                        <td id=\"T_00ad0_row7_col5\" class=\"data row7 col5\" >992</td>\n",
       "                        <td id=\"T_00ad0_row7_col6\" class=\"data row7 col6\" >0.238425</td>\n",
       "                        <td id=\"T_00ad0_row7_col7\" class=\"data row7 col7\" >False</td>\n",
       "                        <td id=\"T_00ad0_row7_col8\" class=\"data row7 col8\" >False</td>\n",
       "                        <td id=\"T_00ad0_row7_col9\" class=\"data row7 col9\" >False</td>\n",
       "            </tr>\n",
       "    </tbody></table>"
      ],
      "text/plain": [
       "<pandas.io.formats.style.Styler at 0x7f03e0da6160>"
      ]
     },
     "execution_count": 8,
     "metadata": {},
     "output_type": "execute_result"
    }
   ],
   "source": [
    "get_se(X, y, reg='l2')"
   ]
  },
  {
   "cell_type": "markdown",
   "id": "running-thinking",
   "metadata": {},
   "source": [
    "### Elasticnet\n",
    "\n",
    "Take note of the `l1_ratio`; a value closer to 0 favors Ridge and a value closer to 1 favors Lasso."
   ]
  },
  {
   "cell_type": "code",
   "execution_count": 9,
   "id": "divine-government",
   "metadata": {
    "execution": {
     "iopub.execute_input": "2022-01-26T05:36:20.164290Z",
     "iopub.status.busy": "2022-01-26T05:36:20.164105Z",
     "iopub.status.idle": "2022-01-26T05:36:20.272122Z",
     "shell.execute_reply": "2022-01-26T05:36:20.271734Z",
     "shell.execute_reply.started": "2022-01-26T05:36:20.164267Z"
    }
   },
   "outputs": [
    {
     "data": {
      "image/png": "[encoded data removed]",
      "text/plain": [
       "<Figure size 720x288 with 1 Axes>"
      ]
     },
     "metadata": {},
     "output_type": "display_data"
    }
   ],
   "source": [
    "model = get_model('elasticnet')\n",
    "model.fit(X, y)\n",
    "\n",
    "_ = get_coef(model).plot(kind='bar', figsize=(10, 4), title=r'Coefficients (ElasticNet)')"
   ]
  },
  {
   "cell_type": "code",
   "execution_count": 10,
   "id": "revolutionary-electricity",
   "metadata": {
    "execution": {
     "iopub.execute_input": "2022-01-26T05:36:20.273258Z",
     "iopub.status.busy": "2022-01-26T05:36:20.273022Z",
     "iopub.status.idle": "2022-01-26T05:36:20.540882Z",
     "shell.execute_reply": "2022-01-26T05:36:20.540439Z",
     "shell.execute_reply.started": "2022-01-26T05:36:20.273212Z"
    }
   },
   "outputs": [
    {
     "data": {
      "text/html": [
       "<style  type=\"text/css\" >\n",
       "#T_abb05_row0_col0,#T_abb05_row0_col1,#T_abb05_row0_col2,#T_abb05_row0_col3,#T_abb05_row0_col4,#T_abb05_row0_col5,#T_abb05_row0_col6,#T_abb05_row0_col7,#T_abb05_row0_col8,#T_abb05_row0_col9,#T_abb05_row1_col0,#T_abb05_row1_col1,#T_abb05_row1_col2,#T_abb05_row1_col3,#T_abb05_row1_col4,#T_abb05_row1_col5,#T_abb05_row1_col6,#T_abb05_row1_col7,#T_abb05_row1_col8,#T_abb05_row1_col9,#T_abb05_row2_col0,#T_abb05_row2_col1,#T_abb05_row2_col2,#T_abb05_row2_col3,#T_abb05_row2_col4,#T_abb05_row2_col5,#T_abb05_row2_col6,#T_abb05_row2_col7,#T_abb05_row2_col8,#T_abb05_row2_col9{\n",
       "            background-color:  rgb(255, 0, 0, 0.18);\n",
       "        }</style><table id=\"T_abb05_\" ><thead>    <tr>        <th class=\"blank level0\" ></th>        <th class=\"col_heading level0 col0\" >w</th>        <th class=\"col_heading level0 col1\" >se</th>        <th class=\"col_heading level0 col2\" >z</th>        <th class=\"col_heading level0 col3\" >.025</th>        <th class=\"col_heading level0 col4\" >.975</th>        <th class=\"col_heading level0 col5\" >df</th>        <th class=\"col_heading level0 col6\" >P>|z|</th>        <th class=\"col_heading level0 col7\" >alpha=0.1</th>        <th class=\"col_heading level0 col8\" >alpha=0.05</th>        <th class=\"col_heading level0 col9\" >alpha=0.01</th>    </tr></thead><tbody>\n",
       "                <tr>\n",
       "                        <th id=\"T_abb05_level0_row0\" class=\"row_heading level0 row0\" >b</th>\n",
       "                        <td id=\"T_abb05_row0_col0\" class=\"data row0 col0\" >1.843908</td>\n",
       "                        <td id=\"T_abb05_row0_col1\" class=\"data row0 col1\" >0.288977</td>\n",
       "                        <td id=\"T_abb05_row0_col2\" class=\"data row0 col2\" >6.380801</td>\n",
       "                        <td id=\"T_abb05_row0_col3\" class=\"data row0 col3\" >1.554930</td>\n",
       "                        <td id=\"T_abb05_row0_col4\" class=\"data row0 col4\" >2.132885</td>\n",
       "                        <td id=\"T_abb05_row0_col5\" class=\"data row0 col5\" >992</td>\n",
       "                        <td id=\"T_abb05_row0_col6\" class=\"data row0 col6\" >0.000000</td>\n",
       "                        <td id=\"T_abb05_row0_col7\" class=\"data row0 col7\" >True</td>\n",
       "                        <td id=\"T_abb05_row0_col8\" class=\"data row0 col8\" >True</td>\n",
       "                        <td id=\"T_abb05_row0_col9\" class=\"data row0 col9\" >True</td>\n",
       "            </tr>\n",
       "            <tr>\n",
       "                        <th id=\"T_abb05_level0_row1\" class=\"row_heading level0 row1\" >x1</th>\n",
       "                        <td id=\"T_abb05_row1_col0\" class=\"data row1 col0\" >0.476937</td>\n",
       "                        <td id=\"T_abb05_row1_col1\" class=\"data row1 col1\" >0.309807</td>\n",
       "                        <td id=\"T_abb05_row1_col2\" class=\"data row1 col2\" >1.539465</td>\n",
       "                        <td id=\"T_abb05_row1_col3\" class=\"data row1 col3\" >0.167130</td>\n",
       "                        <td id=\"T_abb05_row1_col4\" class=\"data row1 col4\" >0.786744</td>\n",
       "                        <td id=\"T_abb05_row1_col5\" class=\"data row1 col5\" >992</td>\n",
       "                        <td id=\"T_abb05_row1_col6\" class=\"data row1 col6\" >0.062005</td>\n",
       "                        <td id=\"T_abb05_row1_col7\" class=\"data row1 col7\" >True</td>\n",
       "                        <td id=\"T_abb05_row1_col8\" class=\"data row1 col8\" >False</td>\n",
       "                        <td id=\"T_abb05_row1_col9\" class=\"data row1 col9\" >False</td>\n",
       "            </tr>\n",
       "            <tr>\n",
       "                        <th id=\"T_abb05_level0_row2\" class=\"row_heading level0 row2\" >x2</th>\n",
       "                        <td id=\"T_abb05_row2_col0\" class=\"data row2 col0\" >0.810442</td>\n",
       "                        <td id=\"T_abb05_row2_col1\" class=\"data row2 col1\" >0.332081</td>\n",
       "                        <td id=\"T_abb05_row2_col2\" class=\"data row2 col2\" >2.440494</td>\n",
       "                        <td id=\"T_abb05_row2_col3\" class=\"data row2 col3\" >0.478361</td>\n",
       "                        <td id=\"T_abb05_row2_col4\" class=\"data row2 col4\" >1.142523</td>\n",
       "                        <td id=\"T_abb05_row2_col5\" class=\"data row2 col5\" >992</td>\n",
       "                        <td id=\"T_abb05_row2_col6\" class=\"data row2 col6\" >0.007421</td>\n",
       "                        <td id=\"T_abb05_row2_col7\" class=\"data row2 col7\" >True</td>\n",
       "                        <td id=\"T_abb05_row2_col8\" class=\"data row2 col8\" >True</td>\n",
       "                        <td id=\"T_abb05_row2_col9\" class=\"data row2 col9\" >True</td>\n",
       "            </tr>\n",
       "            <tr>\n",
       "                        <th id=\"T_abb05_level0_row3\" class=\"row_heading level0 row3\" >x3</th>\n",
       "                        <td id=\"T_abb05_row3_col0\" class=\"data row3 col0\" >-0.014077</td>\n",
       "                        <td id=\"T_abb05_row3_col1\" class=\"data row3 col1\" >0.301135</td>\n",
       "                        <td id=\"T_abb05_row3_col2\" class=\"data row3 col2\" >-0.046747</td>\n",
       "                        <td id=\"T_abb05_row3_col3\" class=\"data row3 col3\" >-0.315212</td>\n",
       "                        <td id=\"T_abb05_row3_col4\" class=\"data row3 col4\" >0.287058</td>\n",
       "                        <td id=\"T_abb05_row3_col5\" class=\"data row3 col5\" >992</td>\n",
       "                        <td id=\"T_abb05_row3_col6\" class=\"data row3 col6\" >0.481362</td>\n",
       "                        <td id=\"T_abb05_row3_col7\" class=\"data row3 col7\" >False</td>\n",
       "                        <td id=\"T_abb05_row3_col8\" class=\"data row3 col8\" >False</td>\n",
       "                        <td id=\"T_abb05_row3_col9\" class=\"data row3 col9\" >False</td>\n",
       "            </tr>\n",
       "            <tr>\n",
       "                        <th id=\"T_abb05_level0_row4\" class=\"row_heading level0 row4\" >x1x2</th>\n",
       "                        <td id=\"T_abb05_row4_col0\" class=\"data row4 col0\" >-0.070456</td>\n",
       "                        <td id=\"T_abb05_row4_col1\" class=\"data row4 col1\" >0.350944</td>\n",
       "                        <td id=\"T_abb05_row4_col2\" class=\"data row4 col2\" >-0.200762</td>\n",
       "                        <td id=\"T_abb05_row4_col3\" class=\"data row4 col3\" >-0.421401</td>\n",
       "                        <td id=\"T_abb05_row4_col4\" class=\"data row4 col4\" >0.280488</td>\n",
       "                        <td id=\"T_abb05_row4_col5\" class=\"data row4 col5\" >992</td>\n",
       "                        <td id=\"T_abb05_row4_col6\" class=\"data row4 col6\" >0.420463</td>\n",
       "                        <td id=\"T_abb05_row4_col7\" class=\"data row4 col7\" >False</td>\n",
       "                        <td id=\"T_abb05_row4_col8\" class=\"data row4 col8\" >False</td>\n",
       "                        <td id=\"T_abb05_row4_col9\" class=\"data row4 col9\" >False</td>\n",
       "            </tr>\n",
       "            <tr>\n",
       "                        <th id=\"T_abb05_level0_row5\" class=\"row_heading level0 row5\" >x1x3</th>\n",
       "                        <td id=\"T_abb05_row5_col0\" class=\"data row5 col0\" >0.069566</td>\n",
       "                        <td id=\"T_abb05_row5_col1\" class=\"data row5 col1\" >0.379090</td>\n",
       "                        <td id=\"T_abb05_row5_col2\" class=\"data row5 col2\" >0.183507</td>\n",
       "                        <td id=\"T_abb05_row5_col3\" class=\"data row5 col3\" >-0.309524</td>\n",
       "                        <td id=\"T_abb05_row5_col4\" class=\"data row5 col4\" >0.448656</td>\n",
       "                        <td id=\"T_abb05_row5_col5\" class=\"data row5 col5\" >992</td>\n",
       "                        <td id=\"T_abb05_row5_col6\" class=\"data row5 col6\" >0.427219</td>\n",
       "                        <td id=\"T_abb05_row5_col7\" class=\"data row5 col7\" >False</td>\n",
       "                        <td id=\"T_abb05_row5_col8\" class=\"data row5 col8\" >False</td>\n",
       "                        <td id=\"T_abb05_row5_col9\" class=\"data row5 col9\" >False</td>\n",
       "            </tr>\n",
       "            <tr>\n",
       "                        <th id=\"T_abb05_level0_row6\" class=\"row_heading level0 row6\" >x2x3</th>\n",
       "                        <td id=\"T_abb05_row6_col0\" class=\"data row6 col0\" >0.187912</td>\n",
       "                        <td id=\"T_abb05_row6_col1\" class=\"data row6 col1\" >0.313433</td>\n",
       "                        <td id=\"T_abb05_row6_col2\" class=\"data row6 col2\" >0.599528</td>\n",
       "                        <td id=\"T_abb05_row6_col3\" class=\"data row6 col3\" >-0.125521</td>\n",
       "                        <td id=\"T_abb05_row6_col4\" class=\"data row6 col4\" >0.501344</td>\n",
       "                        <td id=\"T_abb05_row6_col5\" class=\"data row6 col5\" >992</td>\n",
       "                        <td id=\"T_abb05_row6_col6\" class=\"data row6 col6\" >0.274479</td>\n",
       "                        <td id=\"T_abb05_row6_col7\" class=\"data row6 col7\" >False</td>\n",
       "                        <td id=\"T_abb05_row6_col8\" class=\"data row6 col8\" >False</td>\n",
       "                        <td id=\"T_abb05_row6_col9\" class=\"data row6 col9\" >False</td>\n",
       "            </tr>\n",
       "            <tr>\n",
       "                        <th id=\"T_abb05_level0_row7\" class=\"row_heading level0 row7\" >x1x2x3</th>\n",
       "                        <td id=\"T_abb05_row7_col0\" class=\"data row7 col0\" >0.000000</td>\n",
       "                        <td id=\"T_abb05_row7_col1\" class=\"data row7 col1\" >0.390010</td>\n",
       "                        <td id=\"T_abb05_row7_col2\" class=\"data row7 col2\" >0.000000</td>\n",
       "                        <td id=\"T_abb05_row7_col3\" class=\"data row7 col3\" >-0.390010</td>\n",
       "                        <td id=\"T_abb05_row7_col4\" class=\"data row7 col4\" >0.390010</td>\n",
       "                        <td id=\"T_abb05_row7_col5\" class=\"data row7 col5\" >992</td>\n",
       "                        <td id=\"T_abb05_row7_col6\" class=\"data row7 col6\" >0.500000</td>\n",
       "                        <td id=\"T_abb05_row7_col7\" class=\"data row7 col7\" >False</td>\n",
       "                        <td id=\"T_abb05_row7_col8\" class=\"data row7 col8\" >False</td>\n",
       "                        <td id=\"T_abb05_row7_col9\" class=\"data row7 col9\" >False</td>\n",
       "            </tr>\n",
       "    </tbody></table>"
      ],
      "text/plain": [
       "<pandas.io.formats.style.Styler at 0x7f03e0d5b1c0>"
      ]
     },
     "execution_count": 10,
     "metadata": {},
     "output_type": "execute_result"
    }
   ],
   "source": [
    "get_se(X, y, reg='elasticnet')"
   ]
  },
  {
   "cell_type": "code",
   "execution_count": null,
   "id": "surrounded-device",
   "metadata": {},
   "outputs": [],
   "source": []
  }
 ],
 "metadata": {
  "kernelspec": {
   "display_name": "Python 3",
   "language": "python",
   "name": "python3"
  },
  "language_info": {
   "codemirror_mode": {
    "name": "ipython",
    "version": 3
   },
   "file_extension": ".py",
   "mimetype": "text/x-python",
   "name": "python",
   "nbconvert_exporter": "python",
   "pygments_lexer": "ipython3",
   "version": "3.8.5"
  },
  "widgets": {
   "application/vnd.jupyter.widget-state+json": {
    "state": {},
    "version_major": 2,
    "version_minor": 0
   }
  }
 },
 "nbformat": 4,
 "nbformat_minor": 5
}
