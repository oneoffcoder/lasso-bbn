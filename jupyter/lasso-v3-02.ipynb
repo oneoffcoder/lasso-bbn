{
 "cells": [
  {
   "cell_type": "code",
   "execution_count": 5,
   "id": "1195c706-d6f2-4403-bf1d-f57d09dcdd05",
   "metadata": {
    "execution": {
     "iopub.execute_input": "2021-08-26T23:15:23.857289Z",
     "iopub.status.busy": "2021-08-26T23:15:23.857289Z",
     "iopub.status.idle": "2021-08-26T23:15:24.589827Z",
     "shell.execute_reply": "2021-08-26T23:15:24.589827Z",
     "shell.execute_reply.started": "2021-08-26T23:15:23.857289Z"
    },
    "tags": []
   },
   "outputs": [
    {
     "data": {
      "text/plain": [
       "(461, 175)"
      ]
     },
     "execution_count": 5,
     "metadata": {},
     "output_type": "execute_result"
    }
   ],
   "source": [
    "import pandas as pd\n",
    "import json\n",
    "from itertools import chain\n",
    "from functools import reduce\n",
    "import operator\n",
    "\n",
    "df_path = '../data/gmu-covid.csv'\n",
    "pa_path = '../data/gmu-covid-parents.json'\n",
    "\n",
    "def expand_data(df_path: str, pa_path: str):\n",
    "    def get_interactions(values):\n",
    "        interactions = sorted(list(set(values)))\n",
    "        interactions = filter(lambda s: s.find('!') > 0, interactions)\n",
    "        interactions = map(lambda s: (s, s.split('!')), interactions)\n",
    "        interactions = {k: v for k, v in interactions}\n",
    "        \n",
    "        return interactions\n",
    "    \n",
    "    df = pd.read_csv(df_path)\n",
    "\n",
    "    with open(pa_path, 'r') as f:\n",
    "        parents = json.load(f)\n",
    "        \n",
    "    ch_interactions = get_interactions(chain(*[v for _, v in parents.items()]))\n",
    "    pa_interactions = get_interactions([k for k, _ in parents.items()])\n",
    "    interactions = {**ch_interactions, **pa_interactions}\n",
    "    \n",
    "    def expand(r, cols):\n",
    "        vals = [r[c] for c in cols]\n",
    "        result = reduce(operator.mul, vals, 1)\n",
    "        return result\n",
    "\n",
    "    for col_name, cols in interactions.items():\n",
    "        df[col_name] = df.apply(lambda r: expand(r, cols), axis=1)\n",
    "        \n",
    "    return df\n",
    "    \n",
    "df = expand_data(df_path, pa_path)\n",
    "df.shape"
   ]
  },
  {
   "cell_type": "code",
   "execution_count": 7,
   "id": "98dde755-29c2-4021-8e22-35841b3d0ab3",
   "metadata": {
    "execution": {
     "iopub.execute_input": "2021-08-26T23:21:37.932646Z",
     "iopub.status.busy": "2021-08-26T23:21:37.932646Z",
     "iopub.status.idle": "2021-08-26T23:21:37.939633Z",
     "shell.execute_reply": "2021-08-26T23:21:37.939633Z",
     "shell.execute_reply.started": "2021-08-26T23:21:37.932646Z"
    },
    "tags": []
   },
   "outputs": [],
   "source": [
    "import networkx as nx\n",
    "\n",
    "g = nx.read_gpickle('../data/gmu-covid-networkx.gpickle')"
   ]
  },
  {
   "cell_type": "code",
   "execution_count": null,
   "id": "7e2750e3-4d5f-48a1-a037-08bee296544c",
   "metadata": {
    "execution": {
     "iopub.execute_input": "2021-08-26T23:26:51.858672Z",
     "iopub.status.busy": "2021-08-26T23:26:51.857672Z"
    },
    "tags": []
   },
   "outputs": [],
   "source": [
    "from typing import Tuple, Dict, List, Any\n",
    "from itertools import chain, combinations\n",
    "import numpy as np\n",
    "\n",
    "def get_parameters(df: pd.DataFrame, g: nx.DiGraph) -> Tuple[Dict[str, List[str]], Dict[str, List[float]]]:\n",
    "    \"\"\"\n",
    "    Gets the parameters.\n",
    "\n",
    "    :param df: Data.\n",
    "    :param g: Graph (structure).\n",
    "    :return: Tuple; first item is dictionary of domains; second item is dictionary of probabilities.\n",
    "    \"\"\"\n",
    "\n",
    "    def vals_to_str():\n",
    "        ddf = df.copy(deep=True)\n",
    "        for col in ddf.columns:\n",
    "            ddf[col] = ddf[col].astype(str)\n",
    "        return ddf\n",
    "\n",
    "    def get_filters(ch, parents, domains):\n",
    "        pas = parents[ch]\n",
    "        if len(pas) == 0:\n",
    "            ch_domain = domains[ch]\n",
    "            return [f'{ch}==\"{v}\"' for v in ch_domain]\n",
    "        else:\n",
    "            def is_valid(tups):\n",
    "                n_tups = len(tups)\n",
    "                u_tups = len(set([name for name, _ in tups]))\n",
    "                if n_tups == u_tups:\n",
    "                    return True\n",
    "                return False\n",
    "\n",
    "            vals = [[(pa, v) for v in domains[pa]] for pa in pas]\n",
    "            vals = vals + [[(ch, v) for v in domains[ch]]]\n",
    "            vals = chain(*vals)\n",
    "            vals = combinations(vals, len(pas) + 1)\n",
    "            vals = filter(is_valid, vals)\n",
    "            vals = map(lambda tups: ' and '.join([f'`{t[0]}`==\"{t[1]}\"' for t in tups]), vals)\n",
    "            vals = list(vals)\n",
    "            return vals\n",
    "\n",
    "    def get_total(filters, n):\n",
    "        def divide(arr):\n",
    "            a = np.array(arr)\n",
    "            n = np.sum(a)\n",
    "\n",
    "            if n == 0:\n",
    "                p = 1 / len(arr)\n",
    "                return [p for _ in range(len(arr))]\n",
    "\n",
    "            r = a / n\n",
    "            r = list(r)\n",
    "            return r\n",
    "        \n",
    "        counts = [ddf.query(f).shape[0] for f in filters]\n",
    "        counts = [counts[i:i + n] for i in range(0, len(counts), n)]\n",
    "        counts = [divide(arr) for arr in counts]\n",
    "        counts = list(chain(*counts))\n",
    "        return counts\n",
    "\n",
    "    ddf = vals_to_str()\n",
    "    nodes = list(g.nodes())\n",
    "\n",
    "    domains = {n: sorted(list(ddf[n].unique())) for n in nodes}\n",
    "    parents = {ch: list(g.predecessors(ch)) for ch in nodes}\n",
    "\n",
    "    p = {ch: get_total(get_filters(ch, parents, domains), len(domains[ch])) for ch in nodes}\n",
    "    return domains, p\n",
    "\n",
    "domains, p = get_parameters(df, g)"
   ]
  },
  {
   "cell_type": "code",
   "execution_count": null,
   "id": "036accf2-c51a-43b7-8cff-8b09f3da5dd1",
   "metadata": {},
   "outputs": [],
   "source": [
    "domains"
   ]
  },
  {
   "cell_type": "code",
   "execution_count": null,
   "id": "3cb42c49-17bc-49de-8873-1ba31084a7ba",
   "metadata": {},
   "outputs": [],
   "source": [
    "p"
   ]
  },
  {
   "cell_type": "code",
   "execution_count": null,
   "id": "4b1bb866-496f-4842-9055-d675d530c84b",
   "metadata": {},
   "outputs": [],
   "source": []
  }
 ],
 "metadata": {
  "kernelspec": {
   "display_name": "Python 3",
   "language": "python",
   "name": "python3"
  },
  "language_info": {
   "codemirror_mode": {
    "name": "ipython",
    "version": 3
   },
   "file_extension": ".py",
   "mimetype": "text/x-python",
   "name": "python",
   "nbconvert_exporter": "python",
   "pygments_lexer": "ipython3",
   "version": "3.8.5"
  },
  "widgets": {
   "application/vnd.jupyter.widget-state+json": {
    "state": {},
    "version_major": 2,
    "version_minor": 0
   }
  }
 },
 "nbformat": 4,
 "nbformat_minor": 5
}
