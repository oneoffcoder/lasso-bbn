{
 "cells": [
  {
   "cell_type": "code",
   "execution_count": 1,
   "id": "70d91982-7052-40ba-8c0e-74f8cd28f522",
   "metadata": {
    "execution": {
     "iopub.execute_input": "2021-08-20T21:27:11.763516Z",
     "iopub.status.busy": "2021-08-20T21:27:11.763516Z",
     "iopub.status.idle": "2021-08-20T21:27:12.574523Z",
     "shell.execute_reply": "2021-08-20T21:27:12.574523Z",
     "shell.execute_reply.started": "2021-08-20T21:27:11.763516Z"
    },
    "tags": []
   },
   "outputs": [],
   "source": [
    "from typing import Tuple, Dict, List\n",
    "import json\n",
    "from itertools import chain\n",
    "import pandas as pd\n",
    "from sklearn.linear_model import LogisticRegression\n",
    "\n",
    "\n",
    "def get_model_params(df: pd.DataFrame, ordering: List[List[str]], solver='liblinear', penalty='l1', C=0.2) -> pd.DataFrame:\n",
    "    \"\"\"\n",
    "    Gets LASSO regression parameters for each variable.\n",
    "\n",
    "    :param df: Data.\n",
    "    :param solver: Solver (liblinear or saga). Default: `liblinear`.\n",
    "    :param penalty: Penalty. Default: `l1`.\n",
    "    :param C: Regularlization. Default: `0.2`.\n",
    "    :return: LASSO regression parameters for each variable.\n",
    "    \"\"\"\n",
    "\n",
    "    def get_model(df, X_cols, y_col):\n",
    "        X = df[X_cols]\n",
    "        y = df[y_col]\n",
    "\n",
    "        model = LogisticRegression(penalty=penalty, solver=solver, C=C)\n",
    "        model.fit(X, y)\n",
    "\n",
    "        return model\n",
    "\n",
    "    def extract_model_params(y, fields, model):\n",
    "        child = {'child': y}\n",
    "        intercepts = {'intercept': model.intercept_[0]}\n",
    "        coefs = {field: coef for field, coef in zip(fields, model.coef_[0])}\n",
    "        others = {field: 0.0 for field in fields[len(coefs):]}\n",
    "\n",
    "        p = {**child, **intercepts}\n",
    "        p = {**p, **coefs}\n",
    "        p = {**p, **others}\n",
    "\n",
    "        return p\n",
    "    \n",
    "    def get_models(i, y_cols):\n",
    "        X_cols = list(chain(*ordering[:i]))\n",
    "        return [(y_col, get_model(df, X_cols, y_col)) for y_col in y_cols]\n",
    "\n",
    "    models = chain(*[get_models(i, y_cols) for i, y_cols in enumerate(ordering) if i > 0])\n",
    "    param_df = pd.DataFrame([extract_model_params(y, df.columns, model) for y, model in models])\n",
    "    return param_df"
   ]
  },
  {
   "cell_type": "code",
   "execution_count": 2,
   "id": "776da2bc-44d2-4c0f-8d04-906e15684de9",
   "metadata": {
    "execution": {
     "iopub.execute_input": "2021-08-20T21:27:12.575524Z",
     "iopub.status.busy": "2021-08-20T21:27:12.575524Z",
     "iopub.status.idle": "2021-08-20T21:27:12.638523Z",
     "shell.execute_reply": "2021-08-20T21:27:12.638523Z",
     "shell.execute_reply.started": "2021-08-20T21:27:12.575524Z"
    },
    "tags": []
   },
   "outputs": [
    {
     "name": "stdout",
     "output_type": "stream",
     "text": [
      "b = ['a']\n",
      "c = ['a', 'b']\n",
      "d = ['a', 'b', 'c']\n",
      "e = ['a', 'b', 'c', 'd']\n"
     ]
    },
    {
     "data": {
      "text/html": [
       "<div>\n",
       "<style scoped>\n",
       "    .dataframe tbody tr th:only-of-type {\n",
       "        vertical-align: middle;\n",
       "    }\n",
       "\n",
       "    .dataframe tbody tr th {\n",
       "        vertical-align: top;\n",
       "    }\n",
       "\n",
       "    .dataframe thead th {\n",
       "        text-align: right;\n",
       "    }\n",
       "</style>\n",
       "<table border=\"1\" class=\"dataframe\">\n",
       "  <thead>\n",
       "    <tr style=\"text-align: right;\">\n",
       "      <th></th>\n",
       "      <th>child</th>\n",
       "      <th>intercept</th>\n",
       "      <th>a</th>\n",
       "      <th>b</th>\n",
       "      <th>c</th>\n",
       "      <th>d</th>\n",
       "      <th>e</th>\n",
       "    </tr>\n",
       "  </thead>\n",
       "  <tbody>\n",
       "    <tr>\n",
       "      <th>0</th>\n",
       "      <td>b</td>\n",
       "      <td>-1.401360</td>\n",
       "      <td>0.000000</td>\n",
       "      <td>0.000000</td>\n",
       "      <td>0.0</td>\n",
       "      <td>0.000000</td>\n",
       "      <td>0.0</td>\n",
       "    </tr>\n",
       "    <tr>\n",
       "      <th>1</th>\n",
       "      <td>c</td>\n",
       "      <td>-1.402283</td>\n",
       "      <td>0.010293</td>\n",
       "      <td>2.667348</td>\n",
       "      <td>0.0</td>\n",
       "      <td>0.000000</td>\n",
       "      <td>0.0</td>\n",
       "    </tr>\n",
       "    <tr>\n",
       "      <th>2</th>\n",
       "      <td>d</td>\n",
       "      <td>-1.256557</td>\n",
       "      <td>-0.099824</td>\n",
       "      <td>-0.085225</td>\n",
       "      <td>0.0</td>\n",
       "      <td>0.000000</td>\n",
       "      <td>0.0</td>\n",
       "    </tr>\n",
       "    <tr>\n",
       "      <th>3</th>\n",
       "      <td>e</td>\n",
       "      <td>-2.245915</td>\n",
       "      <td>0.000000</td>\n",
       "      <td>0.028802</td>\n",
       "      <td>0.0</td>\n",
       "      <td>4.337575</td>\n",
       "      <td>0.0</td>\n",
       "    </tr>\n",
       "  </tbody>\n",
       "</table>\n",
       "</div>"
      ],
      "text/plain": [
       "  child  intercept         a         b    c         d    e\n",
       "0     b  -1.401360  0.000000  0.000000  0.0  0.000000  0.0\n",
       "1     c  -1.402283  0.010293  2.667348  0.0  0.000000  0.0\n",
       "2     d  -1.256557 -0.099824 -0.085225  0.0  0.000000  0.0\n",
       "3     e  -2.245915  0.000000  0.028802  0.0  4.337575  0.0"
      ]
     },
     "execution_count": 2,
     "metadata": {},
     "output_type": "execute_result"
    }
   ],
   "source": [
    "df = pd.read_csv('../data/data-binary.csv')\n",
    "\n",
    "with open('../data/data-binary-complete.json', 'r') as f:\n",
    "    meta = json.load(f)\n",
    "ordering = meta['ordering']\n",
    "\n",
    "get_model_params(df, ordering)"
   ]
  },
  {
   "cell_type": "code",
   "execution_count": 3,
   "id": "e320ec5d-1560-4b4a-b122-b3cef0278408",
   "metadata": {
    "execution": {
     "iopub.execute_input": "2021-08-20T21:27:12.639524Z",
     "iopub.status.busy": "2021-08-20T21:27:12.639524Z",
     "iopub.status.idle": "2021-08-20T21:27:12.686522Z",
     "shell.execute_reply": "2021-08-20T21:27:12.686522Z",
     "shell.execute_reply.started": "2021-08-20T21:27:12.639524Z"
    },
    "tags": []
   },
   "outputs": [
    {
     "name": "stdout",
     "output_type": "stream",
     "text": [
      "c = ['a', 'b']\n",
      "d = ['a', 'b']\n",
      "e = ['a', 'b', 'c', 'd']\n"
     ]
    },
    {
     "data": {
      "text/html": [
       "<div>\n",
       "<style scoped>\n",
       "    .dataframe tbody tr th:only-of-type {\n",
       "        vertical-align: middle;\n",
       "    }\n",
       "\n",
       "    .dataframe tbody tr th {\n",
       "        vertical-align: top;\n",
       "    }\n",
       "\n",
       "    .dataframe thead th {\n",
       "        text-align: right;\n",
       "    }\n",
       "</style>\n",
       "<table border=\"1\" class=\"dataframe\">\n",
       "  <thead>\n",
       "    <tr style=\"text-align: right;\">\n",
       "      <th></th>\n",
       "      <th>child</th>\n",
       "      <th>intercept</th>\n",
       "      <th>a</th>\n",
       "      <th>b</th>\n",
       "      <th>c</th>\n",
       "      <th>d</th>\n",
       "      <th>e</th>\n",
       "    </tr>\n",
       "  </thead>\n",
       "  <tbody>\n",
       "    <tr>\n",
       "      <th>0</th>\n",
       "      <td>c</td>\n",
       "      <td>-1.402075</td>\n",
       "      <td>0.010107</td>\n",
       "      <td>2.667314</td>\n",
       "      <td>0.0</td>\n",
       "      <td>0.000000</td>\n",
       "      <td>0.0</td>\n",
       "    </tr>\n",
       "    <tr>\n",
       "      <th>1</th>\n",
       "      <td>d</td>\n",
       "      <td>-1.257045</td>\n",
       "      <td>-0.099291</td>\n",
       "      <td>-0.085160</td>\n",
       "      <td>0.0</td>\n",
       "      <td>0.000000</td>\n",
       "      <td>0.0</td>\n",
       "    </tr>\n",
       "    <tr>\n",
       "      <th>2</th>\n",
       "      <td>e</td>\n",
       "      <td>-2.245821</td>\n",
       "      <td>0.000000</td>\n",
       "      <td>0.028780</td>\n",
       "      <td>0.0</td>\n",
       "      <td>4.337819</td>\n",
       "      <td>0.0</td>\n",
       "    </tr>\n",
       "  </tbody>\n",
       "</table>\n",
       "</div>"
      ],
      "text/plain": [
       "  child  intercept         a         b    c         d    e\n",
       "0     c  -1.402075  0.010107  2.667314  0.0  0.000000  0.0\n",
       "1     d  -1.257045 -0.099291 -0.085160  0.0  0.000000  0.0\n",
       "2     e  -2.245821  0.000000  0.028780  0.0  4.337819  0.0"
      ]
     },
     "execution_count": 3,
     "metadata": {},
     "output_type": "execute_result"
    }
   ],
   "source": [
    "df = pd.read_csv('../data/data-binary.csv')\n",
    "\n",
    "with open('../data/data-binary-partial.json', 'r') as f:\n",
    "    meta = json.load(f)\n",
    "ordering = meta['ordering']\n",
    "\n",
    "get_model_params(df, ordering)"
   ]
  },
  {
   "cell_type": "code",
   "execution_count": null,
   "id": "d9e127da-8e00-4da1-a1cd-6afd223a306a",
   "metadata": {},
   "outputs": [],
   "source": []
  }
 ],
 "metadata": {
  "kernelspec": {
   "display_name": "Python 3",
   "language": "python",
   "name": "python3"
  },
  "language_info": {
   "codemirror_mode": {
    "name": "ipython",
    "version": 3
   },
   "file_extension": ".py",
   "mimetype": "text/x-python",
   "name": "python",
   "nbconvert_exporter": "python",
   "pygments_lexer": "ipython3",
   "version": "3.8.5"
  },
  "widgets": {
   "application/vnd.jupyter.widget-state+json": {
    "state": {},
    "version_major": 2,
    "version_minor": 0
   }
  }
 },
 "nbformat": 4,
 "nbformat_minor": 5
}
