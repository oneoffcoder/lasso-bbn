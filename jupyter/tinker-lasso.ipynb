{
 "cells": [
  {
   "cell_type": "code",
   "execution_count": 1,
   "id": "czech-trinidad",
   "metadata": {},
   "outputs": [
    {
     "data": {
      "text/plain": [
       "a    int64\n",
       "b    int64\n",
       "c    int64\n",
       "d    int64\n",
       "e    int64\n",
       "dtype: object"
      ]
     },
     "execution_count": 1,
     "metadata": {},
     "output_type": "execute_result"
    }
   ],
   "source": [
    "import pandas as pd\n",
    "\n",
    "df = pd.read_csv('./data/data-binary.csv')\n",
    "df.dtypes"
   ]
  },
  {
   "cell_type": "code",
   "execution_count": 2,
   "id": "institutional-trigger",
   "metadata": {},
   "outputs": [
    {
     "data": {
      "text/html": [
       "<div>\n",
       "<style scoped>\n",
       "    .dataframe tbody tr th:only-of-type {\n",
       "        vertical-align: middle;\n",
       "    }\n",
       "\n",
       "    .dataframe tbody tr th {\n",
       "        vertical-align: top;\n",
       "    }\n",
       "\n",
       "    .dataframe thead th {\n",
       "        text-align: right;\n",
       "    }\n",
       "</style>\n",
       "<table border=\"1\" class=\"dataframe\">\n",
       "  <thead>\n",
       "    <tr style=\"text-align: right;\">\n",
       "      <th></th>\n",
       "      <th>child</th>\n",
       "      <th>intercept</th>\n",
       "      <th>a</th>\n",
       "      <th>b</th>\n",
       "      <th>c</th>\n",
       "      <th>d</th>\n",
       "      <th>e</th>\n",
       "    </tr>\n",
       "  </thead>\n",
       "  <tbody>\n",
       "    <tr>\n",
       "      <th>0</th>\n",
       "      <td>b</td>\n",
       "      <td>-1.401360</td>\n",
       "      <td>0.000000</td>\n",
       "      <td>0.000000</td>\n",
       "      <td>0.0</td>\n",
       "      <td>0.00000</td>\n",
       "      <td>0.0</td>\n",
       "    </tr>\n",
       "    <tr>\n",
       "      <th>1</th>\n",
       "      <td>c</td>\n",
       "      <td>-1.402010</td>\n",
       "      <td>0.010060</td>\n",
       "      <td>2.667288</td>\n",
       "      <td>0.0</td>\n",
       "      <td>0.00000</td>\n",
       "      <td>0.0</td>\n",
       "    </tr>\n",
       "    <tr>\n",
       "      <th>2</th>\n",
       "      <td>d</td>\n",
       "      <td>-1.256475</td>\n",
       "      <td>-0.099857</td>\n",
       "      <td>-0.085180</td>\n",
       "      <td>0.0</td>\n",
       "      <td>0.00000</td>\n",
       "      <td>0.0</td>\n",
       "    </tr>\n",
       "    <tr>\n",
       "      <th>3</th>\n",
       "      <td>e</td>\n",
       "      <td>-2.245833</td>\n",
       "      <td>0.000000</td>\n",
       "      <td>0.028439</td>\n",
       "      <td>0.0</td>\n",
       "      <td>4.33753</td>\n",
       "      <td>0.0</td>\n",
       "    </tr>\n",
       "  </tbody>\n",
       "</table>\n",
       "</div>"
      ],
      "text/plain": [
       "  child  intercept         a         b    c        d    e\n",
       "0     b  -1.401360  0.000000  0.000000  0.0  0.00000  0.0\n",
       "1     c  -1.402010  0.010060  2.667288  0.0  0.00000  0.0\n",
       "2     d  -1.256475 -0.099857 -0.085180  0.0  0.00000  0.0\n",
       "3     e  -2.245833  0.000000  0.028439  0.0  4.33753  0.0"
      ]
     },
     "execution_count": 2,
     "metadata": {},
     "output_type": "execute_result"
    }
   ],
   "source": [
    "from sklearn.linear_model import LogisticRegression\n",
    "\n",
    "def get_model(df, X_cols, y_col, solver='liblinear', penalty='l1', C=0.2):\n",
    "    X = df[X_cols]\n",
    "    y = df[y_col]\n",
    "    \n",
    "    model = LogisticRegression(penalty=penalty, solver=solver, C=C)\n",
    "    model.fit(X, y)\n",
    "    \n",
    "    return model\n",
    "\n",
    "def extract_model_params(y, fields, model):\n",
    "    child = {'child': y}\n",
    "    intercepts = {'intercept': model.intercept_[0]}\n",
    "    coefs = {field: coef for field, coef in zip(fields, model.coef_[0])}\n",
    "    others = {field: 0.0 for field in fields[len(coefs):]}\n",
    "    \n",
    "    p = {**child, **intercepts}\n",
    "    p = {**p, **coefs}\n",
    "    p = {**p, **others}\n",
    "    \n",
    "    return p\n",
    "    \n",
    "args = [(list(df.columns[0:index]), y) for index, y in enumerate(df.columns) if index > 0]\n",
    "models = [(y_col, get_model(df, X_cols, y_col)) for X_cols, y_col in args]\n",
    "param_df = pd.DataFrame([extract_model_params(y, df.columns, model) for y, model in models])\n",
    "param_df"
   ]
  },
  {
   "cell_type": "code",
   "execution_count": 3,
   "id": "worthy-bernard",
   "metadata": {},
   "outputs": [
    {
     "name": "stdout",
     "output_type": "stream",
     "text": [
      "['a', 'b', 'c', 'd', 'e']\n",
      "[('a', 'c'), ('a', 'd'), ('b', 'c'), ('b', 'd'), ('b', 'e'), ('d', 'e')]\n"
     ]
    }
   ],
   "source": [
    "import networkx as nx\n",
    "from networkx.algorithms.dag import is_directed_acyclic_graph\n",
    "from itertools import chain\n",
    "\n",
    "def get_structure(param_df, threshold=0.0):\n",
    "    def get_edges(r, nodes):\n",
    "        edges = []\n",
    "        ch = r['child']\n",
    "        for pa in nodes:\n",
    "            if pa == ch:\n",
    "                break\n",
    "            if abs(r[pa]) > threshold:\n",
    "                edge = (pa, ch)\n",
    "                edges.append(edge)\n",
    "        return edges\n",
    "\n",
    "    nodes = [v for v in param_df.columns if v not in ['child', 'intercept']]\n",
    "    edges = list(chain(*[get_edges(r, nodes) for _, r in param_df.iterrows()]))\n",
    "\n",
    "    g = nx.DiGraph()\n",
    "\n",
    "    for n in nodes:\n",
    "        g.add_node(n)\n",
    "\n",
    "    for edge in edges:\n",
    "        g.add_edge(*edge)\n",
    "        if not is_directed_acyclic_graph(g):\n",
    "            g.remove_edge(*edge)\n",
    "            \n",
    "    return g\n",
    "\n",
    "g = get_structure(param_df)\n",
    "\n",
    "print(g.nodes())\n",
    "print(g.edges())"
   ]
  },
  {
   "cell_type": "code",
   "execution_count": 4,
   "id": "commercial-drunk",
   "metadata": {},
   "outputs": [
    {
     "data": {
      "image/png": "[encoded data removed]",
      "text/plain": [
       "<Figure size 360x360 with 1 Axes>"
      ]
     },
     "metadata": {},
     "output_type": "display_data"
    }
   ],
   "source": [
    "import matplotlib.pyplot as plt\n",
    "\n",
    "fig, ax = plt.subplots(figsize=(5, 5))\n",
    "\n",
    "nx.draw(g, with_labels=True, font_weight='bold', node_color='r', ax=ax)"
   ]
  },
  {
   "cell_type": "code",
   "execution_count": 5,
   "id": "casual-vertical",
   "metadata": {},
   "outputs": [
    {
     "data": {
      "text/plain": [
       "a    object\n",
       "b    object\n",
       "c    object\n",
       "d    object\n",
       "e    object\n",
       "dtype: object"
      ]
     },
     "execution_count": 5,
     "metadata": {},
     "output_type": "execute_result"
    }
   ],
   "source": [
    "ddf = df.copy(deep=True)\n",
    "for col in ddf.columns:\n",
    "    ddf[col] = ddf[col].astype(str)\n",
    "    \n",
    "ddf.dtypes"
   ]
  },
  {
   "cell_type": "code",
   "execution_count": 6,
   "id": "noted-florida",
   "metadata": {},
   "outputs": [
    {
     "data": {
      "text/plain": [
       "{'a': [0.1893, 0.8107],\n",
       " 'b': [0.8029, 0.1971],\n",
       " 'c': [0.8085526315789474,\n",
       "  0.19144736842105264,\n",
       "  0.2225201072386059,\n",
       "  0.7774798927613941,\n",
       "  0.8010447073283147,\n",
       "  0.19895529267168535,\n",
       "  0.2146433041301627,\n",
       "  0.7853566958698373],\n",
       " 'd': [0.7703947368421052,\n",
       "  0.22960526315789473,\n",
       "  0.8257372654155496,\n",
       "  0.1742627345844504,\n",
       "  0.7970502381318175,\n",
       "  0.2029497618681825,\n",
       "  0.8041301627033792,\n",
       "  0.19586983729662077],\n",
       " 'e': [0.9053310268910206,\n",
       "  0.0946689731089794,\n",
       "  0.11197604790419162,\n",
       "  0.8880239520958084,\n",
       "  0.903954802259887,\n",
       "  0.096045197740113,\n",
       "  0.08465608465608465,\n",
       "  0.9153439153439153]}"
      ]
     },
     "execution_count": 6,
     "metadata": {},
     "output_type": "execute_result"
    }
   ],
   "source": [
    "from itertools import combinations\n",
    "import numpy as np\n",
    "\n",
    "def get_parameters(ddf, g):\n",
    "    def get_filters(ch, parents, domains):\n",
    "        pas = parents[ch]\n",
    "        if len(pas) == 0:\n",
    "            ch_domain = domains[ch]\n",
    "            return [f'{ch}==\"{v}\"' for v in ch_domain]\n",
    "        else:\n",
    "            vals = [[(pa, v) for v in domains[pa]] for pa in pas]\n",
    "            vals = vals + [[(ch, v) for v in domains[ch]]]\n",
    "            vals = chain(*vals)\n",
    "            vals = combinations(vals, len(pas) + 1)\n",
    "            vals = filter(lambda tups: tups[0][0] != tups[1][0] and tups[0][0] != tups[2][0] and tups[1][0] != tups[2][0], vals)\n",
    "            vals = map(lambda tups: ' and '.join([f'{t[0]}==\"{t[1]}\"' for t in tups]), vals)\n",
    "            vals = list(vals)\n",
    "            return vals\n",
    "\n",
    "    def get_total(filters, n):\n",
    "        counts = [ddf.query(f).shape[0] for f in filters]\n",
    "        counts = [counts[i:i + n] for i in range(0, len(counts), n)]\n",
    "        counts = [list(np.array(arr) / sum(arr)) for arr in counts]\n",
    "        counts = list(chain(*counts))\n",
    "        return counts\n",
    "\n",
    "    nodes = list(g.nodes())\n",
    "    \n",
    "    domains = {n: sorted(list(ddf[n].unique())) for n in nodes}\n",
    "    parents = {ch: list(g.predecessors(ch)) for ch in nodes}\n",
    "\n",
    "    return {ch: get_total(get_filters(ch, parents, domains), len(domains[ch])) for ch in nodes}\n",
    "\n",
    "get_parameters(ddf, g)"
   ]
  },
  {
   "cell_type": "code",
   "execution_count": null,
   "id": "desirable-driver",
   "metadata": {},
   "outputs": [],
   "source": []
  }
 ],
 "metadata": {
  "kernelspec": {
   "display_name": "Python 3",
   "language": "python",
   "name": "python3"
  },
  "language_info": {
   "codemirror_mode": {
    "name": "ipython",
    "version": 3
   },
   "file_extension": ".py",
   "mimetype": "text/x-python",
   "name": "python",
   "nbconvert_exporter": "python",
   "pygments_lexer": "ipython3",
   "version": "3.7.9"
  }
 },
 "nbformat": 4,
 "nbformat_minor": 5
}
